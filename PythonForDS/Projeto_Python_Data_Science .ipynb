{
  "cells": [
    {
      "cell_type": "markdown",
      "metadata": {
        "id": "lQx6Mmv0OJyT"
      },
      "source": [
        "# Python para Data Science\n",
        "\n",
        "Notebook para o curso de Python para Data Science publicado na plataforma da [Alura](https://www.alura.com.br/)"
      ]
    },
    {
      "cell_type": "markdown",
      "metadata": {
        "id": "7SiB6JIpYKmY"
      },
      "source": [
        "# Introdução ao Python\n",
        "\n",
        "Vamos conhecer o Python, nosso ambiente de estudo e também faremos nosso primeiro código nessa linguagem!"
      ]
    },
    {
      "cell_type": "markdown",
      "metadata": {
        "id": "Yugfb3fCOYY9"
      },
      "source": [
        "## Google Colaboratory\n",
        "\n",
        "Já aprendemos o que é o [Python](https://www.python.org/) agora vamos aprender a utilzar o [Google Colaboratory](https://colab.research.google.com/) e programar em um notebook.\n",
        "\n",
        "Vamos testar algumas funções dessa ferramenta."
      ]
    },
    {
      "cell_type": "markdown",
      "metadata": {
        "id": "2iUHQsJasJAk"
      },
      "source": [
        " **`>>> Use essa célula para mover <<<`**"
      ]
    },
    {
      "cell_type": "code",
      "execution_count": null,
      "metadata": {
        "colab": {
          "base_uri": "https://localhost:8080/"
        },
        "id": "tWQp3j7S6MTX",
        "outputId": "27bcacca-40c2-4dbb-a0e7-45dea155d84d"
      },
      "outputs": [
        {
          "name": "stdout",
          "output_type": "stream",
          "text": [
            "Olá mundo\n"
          ]
        }
      ],
      "source": []
    },
    {
      "cell_type": "markdown",
      "metadata": {
        "id": "aLSFP2V7XTfe"
      },
      "source": [
        " Olá mundo!\n",
        "\n",
        "Vamso conhecer mais como funciona o ambiente interativo de um notebook. Para isso vamos executar nosso primeiro comando em Python: [`print()`](https://docs.python.org/3/library/functions.html#print)"
      ]
    },
    {
      "cell_type": "code",
      "execution_count": null,
      "metadata": {
        "colab": {
          "base_uri": "https://localhost:8080/"
        },
        "id": "5s5z5TeP6LDU",
        "outputId": "998d8cc0-c164-4d2c-d6aa-6adee3993827"
      },
      "outputs": [
        {
          "name": "stdout",
          "output_type": "stream",
          "text": [
            "Olá mundo!\n",
            "Prepara-se para a besta\n"
          ]
        }
      ],
      "source": []
    },
    {
      "cell_type": "code",
      "execution_count": null,
      "metadata": {
        "colab": {
          "base_uri": "https://localhost:8080/"
        },
        "id": "tNeEkSW06K8X",
        "outputId": "1065980c-4638-4820-84ec-5042009b735b"
      },
      "outputs": [
        {
          "name": "stdout",
          "output_type": "stream",
          "text": [
            "Nome: Ismael\n",
            "nSobrenome: dos Santos\n"
          ]
        }
      ],
      "source": []
    },
    {
      "cell_type": "code",
      "execution_count": null,
      "metadata": {
        "colab": {
          "base_uri": "https://localhost:8080/"
        },
        "id": "2sKZJ-PO6K0w",
        "outputId": "d058bb12-c179-46ba-b2b5-09df11fd8d5b"
      },
      "outputs": [
        {
          "name": "stdout",
          "output_type": "stream",
          "text": [
            "28 de Março de 2004\n",
            "Ano atual: 2023\n"
          ]
        }
      ],
      "source": []
    },
    {
      "cell_type": "markdown",
      "metadata": {
        "id": "iP8uWQmFYFRs"
      },
      "source": [
        "# Manipulando dados\n",
        "\n",
        "Vamos aprender sobre as variáveis no python, como elas são declaradas e utilizadas além de conhecer outros comandos dentro do Python. :D"
      ]
    },
    {
      "cell_type": "markdown",
      "metadata": {
        "id": "sLNVmnTbag1Z"
      },
      "source": [
        "## Variáveis\n",
        "\n",
        "Em Data Science nós trabalhamos com vários dados e informações, então é essencial saber trabalhar com variáveis."
      ]
    },
    {
      "cell_type": "markdown",
      "metadata": {
        "id": "lsCY0wahAbf6"
      },
      "source": [
        "Criamos uma variável no python através da atribuição de um valor a ela.\n",
        "\n",
        "Para fazer isso, colocamos o nome da variável um sinal de igual (`=`) e o valor que queremos atribuir"
      ]
    },
    {
      "cell_type": "code",
      "execution_count": null,
      "metadata": {
        "colab": {
          "base_uri": "https://localhost:8080/"
        },
        "id": "8J3pJghf57ZI",
        "outputId": "d50e53d0-91d9-4e22-94d6-3309fce20453"
      },
      "outputs": [
        {
          "name": "stdout",
          "output_type": "stream",
          "text": [
            "19\n"
          ]
        }
      ],
      "source": [
        "idade = 19 #váriavel com um valor atribuido à ela\n"
      ]
    },
    {
      "cell_type": "code",
      "execution_count": null,
      "metadata": {
        "colab": {
          "base_uri": "https://localhost:8080/"
        },
        "id": "Rm8e_DvRTCFT",
        "outputId": "fb5406ec-c403-4b16-95c0-afbb16deff0b"
      },
      "outputs": [
        {
          "name": "stdout",
          "output_type": "stream",
          "text": [
            "19\n"
          ]
        }
      ],
      "source": [
        "print(idade) # imprime a variável. O resultado mostrado será o valor que está armazenado nela"
      ]
    },
    {
      "cell_type": "code",
      "execution_count": null,
      "metadata": {
        "colab": {
          "base_uri": "https://localhost:8080/"
        },
        "id": "cMjXA8DO58Uj",
        "outputId": "54936379-1532-4596-fd39-d90e74a34845"
      },
      "outputs": [
        {
          "name": "stdout",
          "output_type": "stream",
          "text": [
            "20\n"
          ]
        }
      ],
      "source": [
        "idade = 20\n",
        "print(idade)"
      ]
    },
    {
      "cell_type": "code",
      "execution_count": null,
      "metadata": {
        "colab": {
          "base_uri": "https://localhost:8080/"
        },
        "id": "82qmrXyz58SD",
        "outputId": "a5029c9d-9101-415c-b4c2-9b67aad59bda"
      },
      "outputs": [
        {
          "name": "stdout",
          "output_type": "stream",
          "text": [
            "31\n"
          ]
        },
        {
          "data": {
            "text/plain": [
              "31"
            ]
          },
          "execution_count": 20,
          "metadata": {},
          "output_type": "execute_result"
        }
      ],
      "source": [
        "idade = 30\n",
        "idade += 1 #incrementa +1 ao valor da idade\n",
        "print(idade)\n",
        "idade # uma outra forma de mostrar o que está armazenado na célula. Mas, só funciona se este estiver na última linha"
      ]
    },
    {
      "cell_type": "code",
      "execution_count": null,
      "metadata": {
        "colab": {
          "base_uri": "https://localhost:8080/"
        },
        "id": "h0QjCDb15z7-",
        "outputId": "fd85b392-56e3-4215-fe4c-761c163f9dc5"
      },
      "outputs": [
        {
          "name": "stdout",
          "output_type": "stream",
          "text": [
            "Ismael \n",
            " 19 anos\n"
          ]
        }
      ],
      "source": [
        "nome = 'Ismael'\n",
        "idade = 19\n",
        "nome, idade #também irá imprimir\n",
        "print(nome, \"\\n\", idade, 'anos')"
      ]
    },
    {
      "cell_type": "markdown",
      "metadata": {
        "id": "om2N0jHKAzwL"
      },
      "source": [
        "Nomes que **não** podemos definir para variáveis:\n",
        "\n",
        "- **Nomes que começam com números**\n",
        "  - Exemplos: `10_notas`, `2_nomes_casa`, etc.\n",
        "- **Palavras separada por espaço**\n",
        "  - Exemplos: `Nome escola`, `notas estudantes`, etc.\n",
        "- **Nomes de funções do Python**\n",
        "  - Exemplos: `print`, `type`, etc."
      ]
    },
    {
      "cell_type": "markdown",
      "metadata": {
        "id": "A19vY2GVMujB"
      },
      "source": [
        "> Letras maiúsculas e minúsculas vão gerar diferentes variáveis. A varíavel `idade` é diferente de `Idade` que por sua vez também é diferente de `IDADE`:\n",
        "``` Python\n",
        "idade = 1\n",
        "Idade = 2\n",
        "IDADE = 3\n",
        "_idade = 4\n",
        "_idade_ = 5\n",
        "print(idade, Idade, IDADE, _idade, _idade_)\n",
        "1 2 3 4 5\n",
        "```"
      ]
    },
    {
      "cell_type": "markdown",
      "metadata": {
        "id": "UqhzuBhBHsps"
      },
      "source": [
        "## Tipos de variáveis\n",
        "\n",
        "Cada variável contém uma classe especifica quanto ao tipo de objeto que ela está se referenciando. Essas classes vão ser diferentes a partir do tipo de dado que nós atribuimos a uma variável.\n",
        "\n",
        "Para saber a classe de cada elemento usamos a função [`type()`](https://docs.python.org/3/library/functions.html#type)"
      ]
    },
    {
      "cell_type": "code",
      "execution_count": null,
      "metadata": {
        "colab": {
          "base_uri": "https://localhost:8080/"
        },
        "id": "-tb-XRcq5v9W",
        "outputId": "5ab1eff8-4329-4525-db83-ea0ea5b431b5"
      },
      "outputs": [
        {
          "data": {
            "text/plain": [
              "tuple"
            ]
          },
          "execution_count": 29,
          "metadata": {},
          "output_type": "execute_result"
        }
      ],
      "source": [
        "i = 5\n",
        "type(i) #vai mostrar o tipo da variável\n"
      ]
    },
    {
      "cell_type": "code",
      "execution_count": null,
      "metadata": {
        "colab": {
          "base_uri": "https://localhost:8080/"
        },
        "id": "5ncn48tw5vw2",
        "outputId": "a568f9e7-a884-40de-8418-b0c03f92928b"
      },
      "outputs": [
        {
          "data": {
            "text/plain": [
              "float"
            ]
          },
          "execution_count": 30,
          "metadata": {},
          "output_type": "execute_result"
        }
      ],
      "source": [
        "f = 5.9\n",
        "type(f)"
      ]
    },
    {
      "cell_type": "code",
      "execution_count": null,
      "metadata": {
        "colab": {
          "base_uri": "https://localhost:8080/"
        },
        "id": "PURhkDrw5vpB",
        "outputId": "9707f2b0-0978-4ae4-8d46-42d179dbc333"
      },
      "outputs": [
        {
          "data": {
            "text/plain": [
              "str"
            ]
          },
          "execution_count": 31,
          "metadata": {},
          "output_type": "execute_result"
        }
      ],
      "source": [
        "s = 'Ismael'\n",
        "type(s)"
      ]
    },
    {
      "cell_type": "code",
      "execution_count": null,
      "metadata": {
        "colab": {
          "base_uri": "https://localhost:8080/"
        },
        "id": "w0XcF4MC5vhw",
        "outputId": "4ab22483-e9b6-4a26-d7f1-7c3d9c0e23f1"
      },
      "outputs": [
        {
          "data": {
            "text/plain": [
              "bool"
            ]
          },
          "execution_count": 32,
          "metadata": {},
          "output_type": "execute_result"
        }
      ],
      "source": [
        "b = True\n",
        "type(b)"
      ]
    },
    {
      "cell_type": "markdown",
      "metadata": {
        "id": "O-FxDumfWu0C"
      },
      "source": [
        "Em um conjunto de dados escolares podemos ter vários tipos de informações. Digamos que tenhamos acesso à ficha de dados do aluno *Frabicio Daniel* como transformamos ela em variáveis no Python?\n",
        "\n",
        "#### Ficha:\n",
        "\n",
        "- Nome: Fabricio Daniel\n",
        "- Idade: 15 anos\n",
        "- Media do semestre: 8,45\n",
        "- Situação de aprovação: Verdadeira (aprovado)"
      ]
    },
    {
      "cell_type": "code",
      "execution_count": null,
      "metadata": {
        "colab": {
          "base_uri": "https://localhost:8080/"
        },
        "id": "xZ3Exi2L5ozi",
        "outputId": "d66c1df0-dfca-4e14-e264-43c0f10abf37"
      },
      "outputs": [
        {
          "name": "stdout",
          "output_type": "stream",
          "text": [
            "Ismael 19 (8, 45) True\n"
          ]
        }
      ],
      "source": [
        "nome = 'Ismael'\n",
        "Idade = 15\n",
        "Media_Semestre = 8.45\n",
        "Situtacao_Aprovacao = True\n",
        "print(nome, idade, Media_Semestre, Situtacao_Aprovacao) #imprime os valores das variáveis"
      ]
    },
    {
      "cell_type": "markdown",
      "metadata": {
        "id": "KFq_8Sxf-OG0"
      },
      "source": [
        "## Variáveis numéricas\n",
        "\n",
        "Entre os tipos de dados numéricos vamos nos focar no tipo `inteiro` e `float`."
      ]
    },
    {
      "cell_type": "markdown",
      "metadata": {
        "id": "8_HYUbkVYdQY"
      },
      "source": [
        "Temos uma tabela de informação de empregos quanto ao cargo, quantidade de pessoas empregadas e o salário correspondente:\n",
        "\n",
        "|Cargo | Quantidade | Salário|\n",
        "|---|---|---|\n",
        "|Segurança | 5 | 3000 |\n",
        "|Docente | 16| 6000|\n",
        "|Diretoria| 1 |12500|\n",
        "\n",
        "Precisamos trabalhar com esses dados fornecendo:\n",
        "\n",
        "- A quantidade total de empregados;\n",
        "- A diferença entre o salário mais baixo e mais alto; e\n",
        "- A média ponderada da faixa salarial da escola."
      ]
    },
    {
      "cell_type": "code",
      "execution_count": null,
      "metadata": {
        "id": "xJIq5MRRZAlj"
      },
      "outputs": [],
      "source": [
        "q_seguranca = 5\n",
        "s_seguranca = 3000\n",
        "\n",
        "q_docente = 16\n",
        "s_docente = 6000\n",
        "\n",
        "q_diretoria = 1\n",
        "s_diretoria = 12500"
      ]
    },
    {
      "cell_type": "code",
      "execution_count": null,
      "metadata": {
        "colab": {
          "base_uri": "https://localhost:8080/"
        },
        "id": "pIgt-k6T5WpB",
        "outputId": "9b1378d2-16d1-436a-e41e-bcba936b3f13"
      },
      "outputs": [
        {
          "data": {
            "text/plain": [
              "22"
            ]
          },
          "execution_count": 42,
          "metadata": {},
          "output_type": "execute_result"
        }
      ],
      "source": [
        "total_empregados = q_seguranca + q_docente + q_diretoria #soma tudo e armazena na\n",
        "total_empregados #mostra no prompt o resultado"
      ]
    },
    {
      "cell_type": "code",
      "execution_count": null,
      "metadata": {
        "colab": {
          "base_uri": "https://localhost:8080/"
        },
        "id": "bL9uGHvp5We5",
        "outputId": "71b02863-7425-4654-8206-fc36385e5fe1"
      },
      "outputs": [
        {
          "data": {
            "text/plain": [
              "9500"
            ]
          },
          "execution_count": 44,
          "metadata": {},
          "output_type": "execute_result"
        }
      ],
      "source": [
        "diferenca_salario = s_diretoria - s_seguranca\n",
        "diferenca_salario"
      ]
    },
    {
      "cell_type": "code",
      "execution_count": null,
      "metadata": {
        "colab": {
          "base_uri": "https://localhost:8080/"
        },
        "id": "GpTS_c8_5WX_",
        "outputId": "596fe97c-1e1b-45d9-f404-7464bc373f29"
      },
      "outputs": [
        {
          "data": {
            "text/plain": [
              "5613.636363636364"
            ]
          },
          "execution_count": 47,
          "metadata": {},
          "output_type": "execute_result"
        }
      ],
      "source": [
        "media = ((q_seguranca * s_seguranca) + (q_docente * s_docente) + (q_diretoria * s_diretoria)) / (total_empregados)\n",
        "media #mostrou o resultado da média ponderada"
      ]
    },
    {
      "cell_type": "markdown",
      "metadata": {
        "id": "yQy7b0ZWoD-P"
      },
      "source": [
        "## Strings"
      ]
    },
    {
      "cell_type": "markdown",
      "metadata": {
        "id": "vlo2-DXusv3s"
      },
      "source": [
        "Strings são caracterizada por ter um conjunto de caracteres formando um texto.\n",
        "\n",
        "Strigs podem ser criadas ao atribuirmos a uma variável um dado que esteja entre aspas simples (`'`) ou aspas duplas (`\"`)"
      ]
    },
    {
      "cell_type": "code",
      "execution_count": null,
      "metadata": {
        "colab": {
          "base_uri": "https://localhost:8080/"
        },
        "id": "SSinaAb15FWn",
        "outputId": "57e552a1-3fe2-4589-b978-e9845f4e0443"
      },
      "outputs": [
        {
          "name": "stdout",
          "output_type": "stream",
          "text": [
            "<class 'str'> <class 'str'>\n"
          ]
        }
      ],
      "source": [
        "s1 = 'Alura'\n",
        "s2 = \"Alura\"\n",
        "print(type(s1), type(s2))"
      ]
    },
    {
      "cell_type": "markdown",
      "metadata": {
        "id": "zSfUkNBSkuBP"
      },
      "source": [
        "# Métodos\n",
        "  São funções que são associadas a objetos em Python. E a partir delas é possível realizar ações e operações no objeto que está asscoiado, além disso, é possível obter informações sobre esses objetos.\n",
        "  Isso é muito importante, pois em Data Science vamos precisar estar manipulando dados, informações o tempo inteiro."
      ]
    },
    {
      "cell_type": "markdown",
      "metadata": {
        "id": "2e9UD_CCxqz_"
      },
      "source": [
        "As variáveis textuais contém vários métodos que nos ajudam a formatar strings. Métódos podem ser executados ao definirmos um objeto seguindo a seguinte estrutura:\n",
        "\n",
        "```\n",
        "objeto.metodo()\n",
        "```\n",
        "\n",
        "Existem métodos que não necessitam dos `()`, é preciso verificar a documentação de cada caso."
      ]
    },
    {
      "cell_type": "markdown",
      "metadata": {
        "id": "p6aPmMGP4tf9"
      },
      "source": [
        "---\n",
        "**Situação:**\n",
        "\n",
        "Recebemos uma variável com o nome de uma professora da escola para inserimos no cadastro. No entanto, precisamos tratar esse texto antes de inserirmos no sistema"
      ]
    },
    {
      "cell_type": "code",
      "execution_count": null,
      "metadata": {
        "id": "4tkS8Iit1Ccg"
      },
      "outputs": [],
      "source": [
        "texto = '  Geovana Alessandra dias Sanyos '"
      ]
    },
    {
      "cell_type": "markdown",
      "metadata": {
        "id": "Dg2ZXSZOGzjC"
      },
      "source": [
        "O objetivo final é que o nome esteja da seguinte forma:\n",
        "\n",
        "```\n",
        "'GEOVANA ALESSANDRA DIAS SANTOS'\n",
        "```"
      ]
    },
    {
      "cell_type": "markdown",
      "metadata": {
        "id": "iVTAD8q702eN"
      },
      "source": [
        "### [`str.upper()` ](https://docs.python.org/3/library/stdtypes.html#str.upper)\n",
        "Converte uma string para maiúsculas"
      ]
    },
    {
      "cell_type": "code",
      "execution_count": null,
      "metadata": {
        "colab": {
          "base_uri": "https://localhost:8080/",
          "height": 35
        },
        "id": "sWMt1iWW5LdN",
        "outputId": "dc6e3471-5b37-4750-897e-d6a675ec497d"
      },
      "outputs": [
        {
          "data": {
            "application/vnd.google.colaboratory.intrinsic+json": {
              "type": "string"
            },
            "text/plain": [
              "'  GEOVANA ALESSANDRA DIAS SANYOS '"
            ]
          },
          "execution_count": 51,
          "metadata": {},
          "output_type": "execute_result"
        }
      ],
      "source": [
        "str.upper(texto)\n",
        "#Outra forma de ser feita é a seguinte\n",
        "texto.upper()"
      ]
    },
    {
      "cell_type": "markdown",
      "metadata": {
        "id": "hbDSBtMV1TpG"
      },
      "source": [
        "### [`str.lower()`](https://docs.python.org/3/library/stdtypes.html#str.lower)\n",
        "Método converte uma string para minúsculas."
      ]
    },
    {
      "cell_type": "code",
      "execution_count": null,
      "metadata": {
        "colab": {
          "base_uri": "https://localhost:8080/",
          "height": 35
        },
        "id": "ypSOC5WR5MTi",
        "outputId": "a9c14ffd-0a9f-4533-9750-bfaac1bec133"
      },
      "outputs": [
        {
          "data": {
            "application/vnd.google.colaboratory.intrinsic+json": {
              "type": "string"
            },
            "text/plain": [
              "'  geovana alessandra dias sanyos '"
            ]
          },
          "execution_count": 52,
          "metadata": {},
          "output_type": "execute_result"
        }
      ],
      "source": [
        "texto.lower()"
      ]
    },
    {
      "cell_type": "markdown",
      "metadata": {
        "id": "kz47eWM11gii"
      },
      "source": [
        "### [`str.strip()`](https://docs.python.org/3/library/stdtypes.html#str.strip)\n",
        "Método remove os espaços em branco do início e do fim de uma string."
      ]
    },
    {
      "cell_type": "code",
      "execution_count": null,
      "metadata": {
        "colab": {
          "base_uri": "https://localhost:8080/",
          "height": 35
        },
        "id": "Xys25o1N5NKD",
        "outputId": "11c05a64-1f98-430b-9262-a4537007beb6"
      },
      "outputs": [
        {
          "data": {
            "application/vnd.google.colaboratory.intrinsic+json": {
              "type": "string"
            },
            "text/plain": [
              "'Geovana Alessandra dias Sanyos'"
            ]
          },
          "execution_count": 53,
          "metadata": {},
          "output_type": "execute_result"
        }
      ],
      "source": [
        "texto.strip()"
      ]
    },
    {
      "cell_type": "markdown",
      "metadata": {
        "id": "m6notiyS1SCV"
      },
      "source": [
        "### [`str.replace(antigo, novo)`](https://docs.python.org/3/library/stdtypes.html#str.replace)\n",
        "\n",
        "Método substitui todas as ocorrências do texto \"antigo\" na string por \"novo\""
      ]
    },
    {
      "cell_type": "code",
      "execution_count": null,
      "metadata": {
        "colab": {
          "base_uri": "https://localhost:8080/",
          "height": 35
        },
        "id": "oY2mU2Id5OcO",
        "outputId": "592d73e8-3082-4065-e091-dbd4e17d2d1e"
      },
      "outputs": [
        {
          "data": {
            "application/vnd.google.colaboratory.intrinsic+json": {
              "type": "string"
            },
            "text/plain": [
              "'  Geovana Alessandra dias Santos '"
            ]
          },
          "execution_count": 54,
          "metadata": {},
          "output_type": "execute_result"
        }
      ],
      "source": [
        "texto.replace('y', 't') #vai substituir o caractere na frase. Isso vai ocorrer para todo \"Y\" que existir na string"
      ]
    },
    {
      "cell_type": "markdown",
      "metadata": {
        "id": "zukvEjhG2Rcn"
      },
      "source": [
        "### Observações\n",
        "\n",
        "1. Os métodos retornam uma **tranformação**, não a executam no texto!\n",
        "\n",
        "2. Além disso, podemos acumular a execução de métodos."
      ]
    },
    {
      "cell_type": "code",
      "execution_count": null,
      "metadata": {
        "colab": {
          "base_uri": "https://localhost:8080/"
        },
        "id": "Q6O5y20u5PQk",
        "outputId": "04d08011-d613-40a5-a9ab-6dee0ab83ee5"
      },
      "outputs": [
        {
          "data": {
            "text/plain": [
              "('Geovana Alessandra dias Sanyos', '  Geovana Alessandra dias Santos ')"
            ]
          },
          "execution_count": 63,
          "metadata": {},
          "output_type": "execute_result"
        }
      ],
      "source": [
        "texto"
      ]
    },
    {
      "cell_type": "markdown",
      "metadata": {
        "id": "1KbwfVut2h6I"
      },
      "source": [
        "Para que seja executada a transformação nós podemos atribuir às saídas das transformações à variável"
      ]
    },
    {
      "cell_type": "code",
      "execution_count": null,
      "metadata": {
        "colab": {
          "base_uri": "https://localhost:8080/",
          "height": 35
        },
        "id": "W6DiHv2H5Tq-",
        "outputId": "29ea5b05-f551-4c5e-ef91-4f7bbb798717"
      },
      "outputs": [
        {
          "data": {
            "application/vnd.google.colaboratory.intrinsic+json": {
              "type": "string"
            },
            "text/plain": [
              "'ISMAEL'"
            ]
          },
          "execution_count": 71,
          "metadata": {},
          "output_type": "execute_result"
        }
      ],
      "source": [
        "texto = \" Ismayl \"\n",
        "texto = texto.strip().replace('y', 'e').upper() #dessa forma é possível alterar de forma fixa o dado armazenado na variável. Além disso, é permitido fazer múltiplas alterações em uma só linha de comando\n",
        "texto"
      ]
    },
    {
      "cell_type": "markdown",
      "metadata": {
        "id": "0h9Fh5G9kHCa"
      },
      "source": [
        "## Coletando dados\n",
        "\n",
        "Em algumas aplicações precisamos coletar valores da pessoa usuária do nosso projeto. Em python conseguimos coletar dados de usuário através do comando [`input()`](https://docs.python.org/3/library/functions.html#input).\n",
        "\n",
        "Para fazer essa coleta podemos atribuir essa função à uma variável."
      ]
    },
    {
      "cell_type": "code",
      "execution_count": null,
      "metadata": {
        "colab": {
          "base_uri": "https://localhost:8080/"
        },
        "id": "iEJyxhIj41id",
        "outputId": "de8aefbf-b468-4974-c119-f45cc8d5523c"
      },
      "outputs": [
        {
          "name": "stdout",
          "output_type": "stream",
          "text": [
            "Escreva seu nome: Ismel dos Santos\n"
          ]
        }
      ],
      "source": [
        "nome = input(\"Escreva seu nome: \")\n",
        "# input sempre irá retornar um valor de texto"
      ]
    },
    {
      "cell_type": "code",
      "execution_count": null,
      "metadata": {
        "colab": {
          "base_uri": "https://localhost:8080/",
          "height": 35
        },
        "id": "MoMXzZkC41Ze",
        "outputId": "bb70a931-2185-4f83-858c-54a297f7762e"
      },
      "outputs": [
        {
          "data": {
            "application/vnd.google.colaboratory.intrinsic+json": {
              "type": "string"
            },
            "text/plain": [
              "'Ismel dos Santos'"
            ]
          },
          "execution_count": 73,
          "metadata": {},
          "output_type": "execute_result"
        }
      ],
      "source": [
        "nome"
      ]
    },
    {
      "cell_type": "markdown",
      "metadata": {
        "id": "7z7hcLCk_aCY"
      },
      "source": [
        "O retorno desse comando sempre será uma *string*. Isso quer dizer que mesmo que façamos uma coleta de algo que deva ser numérico, ele será uma string.\n",
        "\n",
        "Então, será preciso **converter o resultado caso não seja desejável obter uma string**."
      ]
    },
    {
      "cell_type": "markdown",
      "metadata": {
        "id": "TOlegATj1Jfp"
      },
      "source": [
        "Existem funções para conversão de valores:\n",
        "\n",
        "- Inteiros: [`int(dado_para_conversao)`](https://docs.python.org/3/library/functions.html#int)\n",
        "- Float: [`float(dado_para_conversao)`](https://docs.python.org/3/library/functions.html#float)\n",
        "- String: [`str(dado_para_conversao)`](https://docs.python.org/3/library/functions.html#func-str)\n",
        "- Booleano: [`bool(dado_para_conversao)`](https://docs.python.org/3/library/functions.html#bool)"
      ]
    },
    {
      "cell_type": "code",
      "execution_count": null,
      "metadata": {
        "colab": {
          "base_uri": "https://localhost:8080/"
        },
        "id": "MQRu7y9646S9",
        "outputId": "0d523b50-b8f5-4c41-d433-2d23d9359798"
      },
      "outputs": [
        {
          "name": "stdout",
          "output_type": "stream",
          "text": [
            "Escreva o ano de ingresso do(a) estudante: 2023\n"
          ]
        }
      ],
      "source": [
        "ano_entrada = input('Escreva o ano de ingresso do(a) estudante: ')"
      ]
    },
    {
      "cell_type": "code",
      "execution_count": null,
      "metadata": {
        "colab": {
          "base_uri": "https://localhost:8080/"
        },
        "id": "FwezgXQA48VF",
        "outputId": "3c120f9d-330a-431b-ecf0-4841e36e03fb"
      },
      "outputs": [
        {
          "data": {
            "text/plain": [
              "str"
            ]
          },
          "execution_count": 2,
          "metadata": {},
          "output_type": "execute_result"
        }
      ],
      "source": [
        "type(ano_entrada)"
      ]
    },
    {
      "cell_type": "code",
      "execution_count": null,
      "metadata": {
        "colab": {
          "base_uri": "https://localhost:8080/"
        },
        "id": "bbRqzmOJ49Q1",
        "outputId": "feb33670-c649-4c85-d9ab-a21798dd8df2"
      },
      "outputs": [
        {
          "name": "stdout",
          "output_type": "stream",
          "text": [
            "Escreva o ano de ingresso do(a) estudante: 2023\n"
          ]
        }
      ],
      "source": [
        "int(ano_entrada) #convertendo o resultado do input. Há outra forma de fazer, a mais correta:\n",
        "ano_entrada = int(input('Escreva o ano de ingresso do(a) estudante: ')) #fazendo dessa forma, ao verificar o tipo de variável, verá que ela passou de string para o tipo int"
      ]
    },
    {
      "cell_type": "code",
      "execution_count": null,
      "metadata": {
        "colab": {
          "base_uri": "https://localhost:8080/"
        },
        "id": "nu5xycbG4-X1",
        "outputId": "eb20a4ce-33ad-4192-d390-540a7d0a29c7"
      },
      "outputs": [
        {
          "data": {
            "text/plain": [
              "int"
            ]
          },
          "execution_count": 10,
          "metadata": {},
          "output_type": "execute_result"
        }
      ],
      "source": [
        "type(ano_entrada)"
      ]
    },
    {
      "cell_type": "markdown",
      "metadata": {
        "id": "yNI2-XTbB3aS"
      },
      "source": [
        "Buscaremos apresentar melhor agora o resultado que obtivemos da transformação. Nós conseguimos formatar e apresentar o nosso resultado misturando strings com valores não textuais.\n",
        "\n",
        "Para fazer isso usamos a estrutura de formatação `f` com strings."
      ]
    },
    {
      "cell_type": "code",
      "execution_count": null,
      "metadata": {
        "colab": {
          "base_uri": "https://localhost:8080/"
        },
        "id": "b1eYnEX-4wXz",
        "outputId": "6894257a-9f2c-4cb1-b744-fc016cf43275"
      },
      "outputs": [
        {
          "name": "stdout",
          "output_type": "stream",
          "text": [
            "Digite a nota do teste de ingresso: 9.5\n",
            "Ano de entrada: 2023 - nota do teste de ingresso 9.5\n"
          ]
        }
      ],
      "source": [
        "nota_entrada = float(input('Digite a nota do teste de ingresso: '))\n",
        "print(f'Ano de entrada: {ano_entrada} - nota do teste de ingresso: {nota_entrada}')\n",
        "#f (f-string, formata strings) garante que o texto seja formatado, ou seja, é possível  inserir valor de variável dentro do texto. No exemplo o valor da variável precisará estar dentro das {}"
      ]
    },
    {
      "cell_type": "markdown",
      "metadata": {
        "id": "NwRaiHHHhhyl"
      },
      "source": [
        "# Estruturas condicionais"
      ]
    },
    {
      "cell_type": "markdown",
      "metadata": {
        "id": "qXZqg9aYEhAh"
      },
      "source": [
        "## `IF` e `ELSE`\n",
        "\n",
        "O `if` e `else` são duas estruturas condicionais. O `if` executará o bloco de comando caso a condição colocada for **verdadeira**. O `else` é um caso em que a condicional de `if` seja **falsa**."
      ]
    },
    {
      "cell_type": "markdown",
      "metadata": {
        "id": "EIhlqHXd2Gil"
      },
      "source": [
        "O `if` é uma palavra-chave em Python que significa \"se\". Ele é usado para formar uma estrutura condicional, que permite que você verifique se uma determinada condição é verdadeira ou falsa e, em seguida, execute um bloco de código específico dependendo do resultado da verificação. A sintaxe para usar o `if` é:\n",
        "\n",
        "\n",
        "\n",
        "```\n",
        "if condição:\n",
        "    # faça algo\n",
        "```\n",
        "\n"
      ]
    },
    {
      "cell_type": "code",
      "execution_count": null,
      "metadata": {
        "id": "tKtzkTXW4j73"
      },
      "outputs": [],
      "source": []
    },
    {
      "cell_type": "markdown",
      "metadata": {
        "id": "27RW2v_sIKct"
      },
      "source": [
        "Já o `else` em Python é usada em conjunto com a palavra-chave `if` para formar uma estrutura condicional. A sintaxe para usar o `else` é:\n",
        "\n",
        "```\n",
        "if condição:\n",
        "  # código caso seja verdade\n",
        "else:\n",
        "  # código caso seja falso\n",
        "```\n",
        "\n",
        "O `else` é executado quando a condição verificada pelo `if` é avaliada como `False`."
      ]
    },
    {
      "cell_type": "markdown",
      "metadata": {
        "id": "BqORg85XX-Nl"
      },
      "source": [
        "---\n",
        "**Situação:**\n",
        "\n",
        "Receberemos a média de estudantes e precisamos de um algoritmo que execute a análise e decida se esse estudante está **Aprovado** ou Reprovado, mostrando uma mensagem do resultado. Para ser aprovado, a média precisa ser igual ou superior à 6.0."
      ]
    },
    {
      "cell_type": "code",
      "execution_count": 1,
      "metadata": {
        "id": "yaR8bt1P4iCv"
      },
      "outputs": [],
      "source": [
        "media = float(input('Digite a média: '))\n",
        "\n",
        "if media >= 6.0:\n",
        "    print(\"Aprovado\")\n",
        "else:\n",
        "    print(\"Reprovado\")"
      ]
    },
    {
      "cell_type": "markdown",
      "metadata": {
        "id": "bD9O17HB6LUo"
      },
      "source": [
        "Agora a nossa instituição de ensino lançou uma nota oficial que pessoas que tenham média entre 4.0 e 6.0 podem fazer os cursos de **Recuperação** nas férias para poder recuperar a nota.\n",
        "\n",
        "Então podemos agora fazer um conjunto de `if`s para que possamos estruturar essa nova condição."
      ]
    },
    {
      "cell_type": "code",
      "execution_count": 12,
      "metadata": {
        "id": "Rkde8bai4gvq"
      },
      "outputs": [
        {
          "name": "stdout",
          "output_type": "stream",
          "text": [
            "Aprovado\n"
          ]
        }
      ],
      "source": [
        "media = float(input('Digite a média: '))\n",
        "\n",
        "if  4<= media <=6:\n",
        "    print(\"Recuperação\")\n",
        "elif media >6:\n",
        "    print(\"Aprovado\")\n",
        "else:\n",
        "    print(\"Reprovado\")"
      ]
    },
    {
      "cell_type": "markdown",
      "metadata": {
        "id": "D5e2mByjvycO"
      },
      "source": [
        "Notemos que em casos com 3 situações como esse precisamos definir bem nossas condições. Pois foi feita uma construção com `else` no final, ele irá considerar apenas a alguma condicional para ser o caso **falso** podendo resultar em duas (ou mais) execuções.\n",
        "\n",
        "Por exemplo:"
      ]
    },
    {
      "cell_type": "code",
      "execution_count": null,
      "metadata": {
        "id": "tKvjzq414fAN"
      },
      "outputs": [],
      "source": [
        "media = float(input('Digite a média: '))"
      ]
    },
    {
      "cell_type": "markdown",
      "metadata": {
        "id": "04T5g-7h4zWx"
      },
      "source": [
        "## `ELIF`\n",
        "\n",
        "O `elif` é uma palavra-chave em Python que significa \"senão, se\" e pode ser considerado uma união do `else` com um `if`. Ela é usada em conjunto com a palavra-chave `if` para formar uma estrutura condicional encadeada.\n",
        "\n"
      ]
    },
    {
      "cell_type": "markdown",
      "metadata": {
        "id": "rNBHr5mm1Lm6"
      },
      "source": [
        "A sintaxe para usar o `elif` é:\n",
        "\n",
        "```\n",
        "if condição1:\n",
        "    # faça algo\n",
        "elif condição2:\n",
        "    # faça outra coisa\n",
        "elif condição3:\n",
        "    # faça mais alguma coisa\n",
        "else:\n",
        "    # faça algo diferente\n",
        "```\n",
        "\n",
        "O `elif` permite que você verifique várias condições de forma encadeada, economizando espaço em seu código. Se a primeira condição for avaliada como `False`, o interpretador Python avaliará a próxima condição no `elif`. Isso continuará até que uma condição seja avaliada como `True` ou até que o `else` seja atingido. Se nenhuma das condições forem avaliadas como `True`, a execução do código do `else` será iniciada."
      ]
    },
    {
      "cell_type": "markdown",
      "metadata": {
        "id": "MVoykFbB4bd4"
      },
      "source": [
        "Vamos usar o mesmo caso anterior:"
      ]
    },
    {
      "cell_type": "code",
      "execution_count": null,
      "metadata": {
        "id": "UJCHKoX54dc2"
      },
      "outputs": [],
      "source": [
        "media = float(input('Digite a média: '))"
      ]
    },
    {
      "cell_type": "markdown",
      "metadata": {
        "id": "Tf1wSOem6iwZ"
      },
      "source": [
        "## Operadores\n",
        "\n",
        "Durante a construção de comandos por vezes precisamos de uma elaboração maior de da expressão condicional, necessitando que alguns operadores lógicos estejam integrados."
      ]
    },
    {
      "cell_type": "markdown",
      "metadata": {
        "id": "GFIZnRWXGPWO"
      },
      "source": [
        "### `AND`, `OR`, `NOT`\n",
        "\n",
        "Os operadores lógicos `and`, `or` e `not` são usados para combinar expressões lógicas em Python. Eles são usados frequentemente em conjunto com o `if` para criar estruturas condicionais mais complexas.\n"
      ]
    },
    {
      "cell_type": "markdown",
      "metadata": {
        "id": "Z_dgAoHXJbzB"
      },
      "source": [
        "- `AND` é usado para verificar se duas condições são verdadeiras. A expressão lógica¹ `x and y` é avaliada como `True` apenas se **ambas as condições `x` e `y` forem verdadeiras**, e como `False` caso contrário.\n",
        "\n",
        "- `OR` é usado para verificar se pelo menos uma das condições é verdadeira. A expressão lógica `x or y` é avaliada como `True` **se pelo menos uma das condições `x` ou `y` for verdadeira**, e como `False` se ambas forem falsas.\n",
        "\n",
        "- `NOT` é usado para **negar uma condição**. A expressão lógica not x é avaliada como True se a condição x for falsa, e como False se a condição x for verdadeira.\n",
        "\n",
        "¹ Uma expressão lógica é uma declaração que pode ser avaliada como verdadeira ou falsa. Ela é composta por operandos lógicos² e operadores lógicos³, que são usados ​​para combinar várias expressões lógicas em uma única expressão.\n",
        "\n",
        "² Os operandos lógicos são os elementos que são comparados ou avaliados em uma expressão lógica. Eles são geralmente valores verdadeiros ou falsos, mas também podem ser expressões lógicas mais complexas. Em Python, os operandos lógicos são os valores `True` e `False`.\n",
        "\n",
        "³ Os operadores lógicos são os símbolos ou palavras-chave que são usados ​​para combinar várias expressões lógicas em uma única expressão. Em Python, os operadores lógicos são `and`, `or` e `not`, bem como as palavras-chave `if`, `elif` e `else`."
      ]
    },
    {
      "cell_type": "code",
      "execution_count": 13,
      "metadata": {
        "id": "Fs_qb0dLOXsj"
      },
      "outputs": [],
      "source": [
        "t1 = t2 = True\n",
        "f1 = f2 = False"
      ]
    },
    {
      "cell_type": "code",
      "execution_count": 14,
      "metadata": {
        "id": "kL4QVdlZ4O43"
      },
      "outputs": [
        {
          "name": "stdout",
          "output_type": "stream",
          "text": [
            "expressão verdadeira\n"
          ]
        }
      ],
      "source": [
        "if t1 and t2:\n",
        "  print('expressão verdadeira')\n",
        "else:\n",
        "  print('expressão falsa')"
      ]
    },
    {
      "cell_type": "code",
      "execution_count": 17,
      "metadata": {
        "id": "JmQYjvsz4Pw5"
      },
      "outputs": [
        {
          "name": "stdout",
          "output_type": "stream",
          "text": [
            "expressão verdadeira\n"
          ]
        }
      ],
      "source": [
        "if f1 or t1 :\n",
        "  print('expressão verdadeira')\n",
        "else:\n",
        "  print('expressão falsa')"
      ]
    },
    {
      "cell_type": "code",
      "execution_count": 18,
      "metadata": {
        "id": "WHfJ-ZLM4Q3k"
      },
      "outputs": [
        {
          "name": "stdout",
          "output_type": "stream",
          "text": [
            "expressão verdadeira\n"
          ]
        }
      ],
      "source": [
        "if not f1: #Vai inverter o resultado, apenas\n",
        "  print('expressão verdadeira')\n",
        "else:\n",
        "  print('expressão falsa')"
      ]
    },
    {
      "cell_type": "markdown",
      "metadata": {
        "id": "w7EXG1dhWtja"
      },
      "source": [
        "### `IN`\n",
        "\n",
        "É usado para verificar se um elemento está presente em uma lista, tupla ou outra variável de conjunto. A expressão `x in y` é avaliada como `True` se o elemento `x` estiver presente na variável de conjunto `y`, e como `False` caso contrário."
      ]
    },
    {
      "cell_type": "markdown",
      "metadata": {
        "id": "enJNp6JenQbq"
      },
      "source": [
        "Podemos verificar isso com variáveis de texto.\n",
        "\n",
        "---\n",
        "\n",
        "**Situação:**\n",
        "\n",
        "Na escola foi passada uma lista com nomes de estudantes que foram aprovados por média no semestre, mas é preciso verificar se alguns nomes estão nessa lista para verificar se os dados estão corretos.\n",
        "\n",
        "A lista distribuida pode ser observada abaixo:\n",
        "\n",
        "```\n",
        "lista = 'José da Silva, Maria Oliveira, Pedro Martins, Ana Souza, Carlos Rodrigues, Juliana Santos, Bruno Gomes, Beatriz Costa, Felipe Almeida, Mariana Fernandes, João Pinto, Luísa Nascimento, Gabriel Souza, Manuela Santos, Thiago Oliveira, Sofia Ferreira, Rafael Albuquerque, Isabella Gomes, Bruno Costa, Maria Martins, Rafaela Souza, Matheus Fernandes, Luísa Almeida, Beatriz Pinto, Mariana Rodrigues, Gabriel Nascimento, João Ferreira, Maria Albuquerque, Felipe Oliveira\n",
        "'\n",
        "```\n",
        "\n",
        "Os nomes que precisam ser verificados são os seguintes:\n",
        "\n",
        "```\n",
        "nome_1 = 'Mariana Rodrigues'\n",
        "nome_2 = 'Marcelo Nogueira'\n",
        "```"
      ]
    },
    {
      "cell_type": "code",
      "execution_count": 19,
      "metadata": {
        "colab": {
          "base_uri": "https://localhost:8080/",
          "height": 87
        },
        "id": "kU25ABUQ5NBe",
        "outputId": "c4201042-3224-4a3b-b55c-62699854e672"
      },
      "outputs": [
        {
          "data": {
            "text/plain": [
              "'José da Silva, Maria Oliveira, Pedro Martins, Ana Souza, Carlos Rodrigues, Juliana Santos, Bruno Gomes, Beatriz Costa, Felipe Almeida, Mariana Fernandes, João Pinto, Luísa Nascimento, Gabriel Souza, Manuela Santos, Thiago Oliveira, Sofia Ferreira, Rafael Albuquerque, Isabella Gomes, Bruno Costa, Maria Martins, Rafaela Souza, Matheus Fernandes, Luísa Almeida, Beatriz Pinto, Mariana Rodrigues, Gabriel Nascimento, João Ferreira, Maria Albuquerque, Felipe Oliveira'"
            ]
          },
          "execution_count": 19,
          "metadata": {},
          "output_type": "execute_result"
        }
      ],
      "source": [
        "lista = 'José da Silva, Maria Oliveira, Pedro Martins, Ana Souza, Carlos Rodrigues, Juliana Santos, Bruno Gomes, Beatriz Costa, Felipe Almeida, Mariana Fernandes, João Pinto, Luísa Nascimento, Gabriel Souza, Manuela Santos, Thiago Oliveira, Sofia Ferreira, Rafael Albuquerque, Isabella Gomes, Bruno Costa, Maria Martins, Rafaela Souza, Matheus Fernandes, Luísa Almeida, Beatriz Pinto, Mariana Rodrigues, Gabriel Nascimento, João Ferreira, Maria Albuquerque, Felipe Oliveira'\n",
        "lista "
      ]
    },
    {
      "cell_type": "code",
      "execution_count": 27,
      "metadata": {
        "id": "GY82qLpivC6Y"
      },
      "outputs": [],
      "source": [
        "nome_1 = 'Mariana Rodrigues'\n",
        "nome_2 = 'Marcelo Nogueira'\n",
        "nome_3 = 'Pedro'\n"
      ]
    },
    {
      "cell_type": "code",
      "execution_count": 35,
      "metadata": {
        "id": "ipyXfbpb37b0"
      },
      "outputs": [
        {
          "name": "stdout",
          "output_type": "stream",
          "text": [
            "Pedro está na lista\n"
          ]
        }
      ],
      "source": [
        "if nome_3 in lista:\n",
        "    print(f\"{nome_3} está na lista\")\n",
        "else:\n",
        "    print(\"não está na lista\")"
      ]
    },
    {
      "cell_type": "code",
      "execution_count": null,
      "metadata": {
        "id": "KfXxC9A537RP"
      },
      "outputs": [],
      "source": []
    },
    {
      "cell_type": "markdown",
      "metadata": {
        "id": "aL1vJPewvwvz"
      },
      "source": [
        "# Estruturas de repetição"
      ]
    },
    {
      "cell_type": "markdown",
      "metadata": {
        "id": "VcPfCa8d-84t"
      },
      "source": [
        "Quando temos que executar um mesmo bloco de comandos por várias vezes não é muito interessante fazer isso à mão.\n",
        "\n",
        "Imaginemos a situação de termos que coletar e imprimir a média de duas notas de **3 estudantes**:"
      ]
    },
    {
      "cell_type": "code",
      "execution_count": 2,
      "metadata": {
        "id": "LzPyN4Ad3qwy"
      },
      "outputs": [
        {
          "name": "stdout",
          "output_type": "stream",
          "text": [
            "Média: 5.5\n"
          ]
        }
      ],
      "source": [
        "nota_1 = float(input('Digite a 1° nota: '))\n",
        "nota_2 = float(input('Digite a 2° nota: '))\n",
        "\n",
        "print(f'Média: {(nota_1+nota_2)/2}')"
      ]
    },
    {
      "cell_type": "markdown",
      "metadata": {
        "id": "9puIuvUbFSFX"
      },
      "source": [
        "Agora imaginemos uma situação em que não são apenas 3 estudantes, mas sim 100 estudantes. Não seria interessante repetir o mesmo código por 100 vezes, mas sim **executar o mesmo código 100 vezes**.\n",
        "\n",
        "Essa repetição conseguimos construir com laços de repetição!"
      ]
    },
    {
      "cell_type": "markdown",
      "metadata": {
        "id": "uLO9-aE4-wx8"
      },
      "source": [
        "## `WHILE`"
      ]
    },
    {
      "cell_type": "markdown",
      "metadata": {
        "id": "rXZxDMiqHxm9"
      },
      "source": [
        "O laço `while` é uma estrutura de controle de repetição em Python que permite executar um bloco de código repetidamente enquanto uma determinada condição é verdadeira. Sua estrutura é:\n",
        "\n",
        "\n",
        "\n",
        "```\n",
        "while condição:\n",
        "    # bloco de código\n",
        "```\n",
        "\n",
        "Vamos construir um exemplo com um contador de 1 até 10.\n"
      ]
    },
    {
      "cell_type": "code",
      "execution_count": null,
      "metadata": {
        "id": "6b_izu633j0O"
      },
      "outputs": [],
      "source": [
        "contador = 1\n",
        "\n",
        "while contador<=10:\n",
        "    \n",
        "    print(contador)\n",
        "    contador+=1"
      ]
    },
    {
      "cell_type": "code",
      "execution_count": 2,
      "metadata": {},
      "outputs": [
        {
          "name": "stdout",
          "output_type": "stream",
          "text": [
            "Média 1: 5.1\n",
            "Média 2: 8.45\n",
            "Média 3: 5.75\n",
            "Média 4: 2.1\n",
            "Média 5: 6.5\n"
          ]
        }
      ],
      "source": [
        "contador = 0\n",
        "\n",
        "while contador<=4:\n",
        "    \n",
        "    nota_1 = float(input('Digite a 1° nota: '))\n",
        "    nota_2 = float(input('Digite a 2° nota: '))\n",
        "                    #mostra qual média\n",
        "    print(f'Média {contador+1}: {(nota_1+nota_2)/2}')\n",
        "    \n",
        "    contador+=1"
      ]
    },
    {
      "cell_type": "code",
      "execution_count": null,
      "metadata": {},
      "outputs": [],
      "source": [
        "'''\n",
        "-= subtrai um valor na variável\n",
        "*= multiplica um valor na variável\n",
        "/= divide um valor na variável\n",
        "//= divisão inteira da variável por um valor\n",
        "%= calcula o resto do valor (módulo) na variável e atribui o resultado à variável\n",
        "'''"
      ]
    },
    {
      "cell_type": "markdown",
      "metadata": {
        "id": "W4KZPBJuIrut"
      },
      "source": [
        "Agora vamos coletar as notas e médias de cada aluno dentro do while. Faremos um exemplo com 3 médias."
      ]
    },
    {
      "cell_type": "code",
      "execution_count": 8,
      "metadata": {
        "id": "aIeQ_CzW3jiP"
      },
      "outputs": [],
      "source": [
        "while contador<=10:\n",
        "    print(f\"Nota_1: {nota_1}\\nNota_2: {nota_2}\\nMédia {contador-1}: {(nota_1+nota_2)/2}\")\n",
        "    \n",
        "    contador+=1"
      ]
    },
    {
      "cell_type": "markdown",
      "metadata": {
        "id": "WgAIaENMMfCP"
      },
      "source": [
        "## `FOR`"
      ]
    },
    {
      "cell_type": "markdown",
      "metadata": {
        "id": "HxrSZoRAMh-x"
      },
      "source": [
        "O laço `for` é um tipo de estrutura de controle de fluxo em Python que permite iterar sobre um conjunto de elementos. A sua estrutura é:\n",
        "\n",
        "\n",
        "\n",
        "```\n",
        "for elemento in conjunto:\n",
        "    # código a ser executado para cada elemento\n",
        "```\n",
        "\n",
        "O laço for itera sobre cada elemento do conjunto especificado e executa o bloco de código dentro do laço para cada elemento. Quando o laço chega ao final do conjunto, ele é interrompido e o programa continua a execução após o laço.\n",
        "\n"
      ]
    },
    {
      "cell_type": "markdown",
      "metadata": {
        "id": "6VgjyoQtPHBM"
      },
      "source": [
        "O conjunto pode ser gerado com a função [`range()`](https://docs.python.org/3/library/functions.html#func-range). Que é uma função capaz de gerar uma sequência de números inteiros. A estrutura dessa função é:\n",
        "\n",
        "```\n",
        "range(inicio, fim, passo)\n",
        "```\n",
        "\n",
        "Segundo a documentação, o `range()` gera uma sequência de números inteiros a partir do valor do parâmetro `inicio` até o valor do parâmetro `fim`, de acordo com o valor do parâmetro `passo`. Se `inicio` não for especificado, o valor padrão é 0. Se `passo` não for especificado, o valor padrão é 1.\n",
        "\n",
        "\n"
      ]
    },
    {
      "cell_type": "markdown",
      "metadata": {
        "id": "ryn0hfdlUwC8"
      },
      "source": [
        "Vamos fazer o mesmo contador `while` agora com `for`."
      ]
    },
    {
      "cell_type": "markdown",
      "metadata": {},
      "source": [
        "### OBS:\n",
        "\n",
        "Não se faz totalmente necessário usar range(inicio, fim, passo). Pode ser usado somente os dois primeiros. \n",
        "Há também a possibilidade de usar o 'continue' e 'break'. O comando 'continue' permite pular uma iteração específica do laço, enquanto\n",
        "o 'break' finaliza o laço e continua a execução dos comandos fora dele. Seu uso ocorre da seguinte forma:\n",
        "\n",
        "    for elemento in conjunto:\n",
        "        código dentro do laço\n",
        "        \n",
        "        continue #aqui ele volta para o código no início. Pulando uma etapa especificada dentro do laço e saltando para a próxima\n",
        "                    até que seja totalmente concluída e passe para a próxima etapa\n",
        "        \n",
        "        código dentro do laço\n",
        "    \n",
        "    código fora do laço\n",
        "\n",
        "o break funciona de forma parecida, com excessão de que ele não pula a etapa e retorna ao código, ele finaliza no ponto que foi especificado e vai para o próximo bloco de instrução, veja: \n",
        "\n",
        "    for elemento in conjunto:\n",
        "        código dentro do laço\n",
        "        \n",
        "        break #o break para exatamente onde foi especificado e executa o primeiro código fora do laço\n",
        "        \n",
        "        código dentro do laço\n",
        "    \n",
        "    código fora do laço"
      ]
    },
    {
      "cell_type": "code",
      "execution_count": null,
      "metadata": {},
      "outputs": [],
      "source": [
        "i=0\n",
        "for i in range(1,6):\n",
        "    if i == 4:\n",
        "        break\n",
        "        #continue\n",
        "    print(i)"
      ]
    },
    {
      "cell_type": "code",
      "execution_count": 1,
      "metadata": {
        "id": "t6qcdPyP3YgZ"
      },
      "outputs": [
        {
          "name": "stdout",
          "output_type": "stream",
          "text": [
            "0\n",
            "1\n",
            "2\n",
            "3\n",
            "4\n",
            "5\n",
            "6\n",
            "7\n",
            "8\n",
            "9\n",
            "10\n",
            "11\n",
            "12\n",
            "13\n",
            "14\n"
          ]
        }
      ],
      "source": [
        "contador = 0\n",
        "\n",
        "for contador in range(0,10, 1):\n",
        "    print(contador)"
      ]
    },
    {
      "cell_type": "code",
      "execution_count": 9,
      "metadata": {
        "id": "KBeY8z573YWz"
      },
      "outputs": [
        {
          "name": "stdout",
          "output_type": "stream",
          "text": [
            "Nota_1: 5.6\n",
            "Nota_2: 3.4\n",
            "Média 0: 4.5\n",
            "Nota_1: 5.4\n",
            "Nota_2: 9.6\n",
            "Média 1: 7.5\n",
            "Nota_1: 1.7\n",
            "Nota_2: 9.4\n",
            "Média 2: 5.55\n"
          ]
        }
      ],
      "source": [
        "for contador in range(1,4, 1): #sempre precisa ser n+1 para a sequência. Na questão atual, pede-se que conte de um 1 3, então o laço for precisará ir de 1 até 4.\n",
        "    nota_1 = float(input('Digite a 1° nota: '))\n",
        "    nota_2 = float(input('Digite a 2° nota: '))\n",
        "                    #mostra qual média\n",
        "    #print(f'Média {contador+1}: {(nota_1+nota_2)/2}')\n",
        "    print(f\"Nota_1: {nota_1}\\nNota_2: {nota_2}\\nMédia {contador+1}: {(nota_1+nota_2)/2}\")"
      ]
    },
    {
      "cell_type": "markdown",
      "metadata": {
        "id": "8noP8OJ0Vhux"
      },
      "source": [
        "# Estruturas de dados"
      ]
    },
    {
      "cell_type": "markdown",
      "metadata": {
        "id": "xpEUkefTu8fY"
      },
      "source": [
        "Um conjunto de elementos é uma coleção de itens, que são armazenados juntos de maneira organizada. Alguns exemplos de conjuntos de elementos em Python são listas, strings e dicionários."
      ]
    },
    {
      "cell_type": "markdown",
      "metadata": {
        "id": "THSg4KYLwxIb"
      },
      "source": [
        "## Listas"
      ]
    },
    {
      "cell_type": "markdown",
      "metadata": {
        "id": "dzpsiqrOyJcK"
      },
      "source": [
        "As listas podem armazenar uma coleção de itens em ordem. Eles são delimitados por colchetes `[]` e os itens são separados por vírgulas.\n",
        "\n",
        "Elas também podem armazenar qualquer tipo de item, incluindo números, strings, objetos e outras listas. Elas também podem armazenar itens de tipos de dados diferentes juntos em uma única lista."
      ]
    },
    {
      "cell_type": "code",
      "execution_count": 12,
      "metadata": {
        "id": "1NSzXfct3Lkw"
      },
      "outputs": [
        {
          "data": {
            "text/plain": [
              "9.5"
            ]
          },
          "execution_count": 12,
          "metadata": {},
          "output_type": "execute_result"
        }
      ],
      "source": [
        "cadastro = ['ismael', 9.5, 9.0, 8.0, True]\n",
        "cadastro\n",
        "#cadastro[1]"
      ]
    },
    {
      "cell_type": "markdown",
      "metadata": {
        "id": "qUz3sJNl6LgK"
      },
      "source": [
        "As listas são organizadas em Python porque **cada elemento da lista tem um índice que indica sua posição na lista**. Os índices começam em 0 e vão até o tamanho da lista menos 1."
      ]
    },
    {
      "cell_type": "markdown",
      "metadata": {
        "id": "rLf-Qg526hFD"
      },
      "source": [
        "Temos então 5 elementos com índices variando de 0 a 4, ordenadamente:\n",
        "\n",
        "```\n",
        "#             [0]           [1]   [2]   [3]    [4]\n",
        "lista = ['Fabricio Daniel', 9.5 , 9.0 , 8.0 , True]\n",
        "```\n",
        "\n",
        "Em Python temos também os índices **negativos** que se iniciam no último elemento com o valor de `-1` e depois avancam no universo dos negativos até chegar no 1° elemeno:\n",
        "\n",
        "```\n",
        "#             [-5]         [-4]  [-3]  [-2]   [-1]\n",
        "lista = ['Fabricio Daniel', 9.5 , 9.0 , 8.0 , True]\n",
        "```\n",
        "\n",
        "Conseguimos selecionar separadamente cada elemento através de seus respectivos índices. Colocando o nome da lista e em seguida o índice a ser selecionado."
      ]
    },
    {
      "cell_type": "code",
      "execution_count": 10,
      "metadata": {
        "id": "S1lf1DWg3J7A"
      },
      "outputs": [
        {
          "data": {
            "text/plain": [
              "9.5"
            ]
          },
          "execution_count": 10,
          "metadata": {},
          "output_type": "execute_result"
        }
      ],
      "source": [
        "cadastro[0]"
      ]
    },
    {
      "cell_type": "code",
      "execution_count": 13,
      "metadata": {
        "id": "5MZu9F6S3JxS"
      },
      "outputs": [
        {
          "data": {
            "text/plain": [
              "9.5"
            ]
          },
          "execution_count": 13,
          "metadata": {},
          "output_type": "execute_result"
        }
      ],
      "source": [
        "cadastro[1]"
      ]
    },
    {
      "cell_type": "code",
      "execution_count": 15,
      "metadata": {
        "id": "9uLwwKom3Jmg"
      },
      "outputs": [
        {
          "data": {
            "text/plain": [
              "True"
            ]
          },
          "execution_count": 15,
          "metadata": {},
          "output_type": "execute_result"
        }
      ],
      "source": [
        "cadastro[-1]"
      ]
    },
    {
      "cell_type": "markdown",
      "metadata": {
        "id": "6TaE1ijmBTCd"
      },
      "source": [
        "Uma forma mais dinâmica de trabalhar item por item de uma lista é utilizando um laço for para leitura elemento a elemento."
      ]
    },
    {
      "cell_type": "code",
      "execution_count": 18,
      "metadata": {
        "id": "2GWvY7F-3IVP"
      },
      "outputs": [
        {
          "name": "stdout",
          "output_type": "stream",
          "text": [
            "ismael\n",
            "9.5\n",
            "9.0\n",
            "8.0\n",
            "True\n"
          ]
        }
      ],
      "source": [
        "for elemento in cadastro:\n",
        "    #elemento vai ser atribuido a cada dado que foi armazenado dentro da lista\n",
        "    print(elemento)"
      ]
    },
    {
      "cell_type": "markdown",
      "metadata": {
        "id": "Dh1_HnIVvucY"
      },
      "source": [
        "A nota `8.0` de Fabricio Daniel precisa ser ajustada pois ganhou 2 pontos em sua ultima nota por fazer um trabalho de turma. Então é necessária fazer uma troca no valor do índice `3` de `8.0` para `10.0`."
      ]
    },
    {
      "cell_type": "code",
      "execution_count": 20,
      "metadata": {
        "id": "ffFiIlji3G7H"
      },
      "outputs": [
        {
          "data": {
            "text/plain": [
              "['ismael', 9.5, 9.0, 10, True]"
            ]
          },
          "execution_count": 20,
          "metadata": {},
          "output_type": "execute_result"
        }
      ],
      "source": [
        "cadastro[3] = 10\n",
        "cadastro"
      ]
    },
    {
      "cell_type": "markdown",
      "metadata": {
        "id": "53XduzXkycAf"
      },
      "source": [
        "conseguimos calcular a média do aluno a partir dos dados que temos"
      ]
    },
    {
      "cell_type": "code",
      "execution_count": 21,
      "metadata": {
        "id": "fRy9twzI3GFI"
      },
      "outputs": [
        {
          "data": {
            "text/plain": [
              "9.5"
            ]
          },
          "execution_count": 21,
          "metadata": {},
          "output_type": "execute_result"
        }
      ],
      "source": [
        "media = (cadastro[1] + cadastro[2] + cadastro[3])/3\n",
        "media"
      ]
    },
    {
      "cell_type": "markdown",
      "metadata": {},
      "source": [
        "### Para saber mais\n",
        "\n",
        "A linguagem Python permite que você mostre uma string e, também, apenas os seus caracteres, Veja:\n",
        "\n",
        "    linguagem = 'Python'\n",
        "    print(linguagem)  # Mostra a string completa\n",
        "    print(linguagem[0], linguagem[1], linguagem[2], linguagem[-3], linguagem[-2], linguagem[-1])\n",
        "\n",
        "Entretanto, os índices só servem para acessar os dados, não sendo possível alterar o caractere presente em um índice definido através de uma simples atribuição, como nas listas. \n",
        "    linguagem[0] = 'p' # gera erro\n",
        "\n",
        "Com isso é possível concluir que a string é uma sequência dee caracteres(letras, números, símbolos, etc) representada por uma única variável. Já a estrutura de dados armazena uma coleção inteira de itens (podendo ser de tipos diferentes).\n",
        "\n",
        "### split()\n",
        "\n",
        "É possível transformar uma string em texto através do método split(), ele separa a string em uma lista de strings, usando um delimitador especificado entre parênteses. Esse delimitador necessita ser uma string\n",
        "\n",
        "    EX:\n",
        "\n",
        "        duvida = 'Quem veio antes? O ovo? Ou foi a galinha?\"\n",
        "        listaPalavras = duvida.split(?)\n",
        "        print(listaPalavras)\n",
        "\n",
        "Se o delimitador não for definido, a lista irá segregar por todos os espaços em branco no texto, veja:\n",
        "\n",
        "    EX:\n",
        "        duvida = 'Quem veio antes? O ovo? Ou foi a galinha?\"\n",
        "        listaPalavras = duvida.split()\n",
        "        print(listaPalavras)\n",
        "\n",
        "### join()\n",
        "O contrário também pode acontecer, pois é possível transformar uma lista numa string atráves do método join(). Para usar essa função, é necessário definir o caractere que irá unir os elementos da lista, formando a string. Em seguida, usamos o método join passando a lista commo argumento.\n",
        "\n",
        "    EX:\n",
        "        misturas = ['Tintas: vermelho, azul e amarelo',\n",
        "            'Verde: mistura de azul e amarelo',\n",
        "            'Laranja: mistura de vermelho e amarelo',\n",
        "            'Roxo: mistura de vermelho e azul']\n",
        "            unificador = '. '\n",
        "            string_misturas = unificador.join(misturas)\n",
        "            print(string_misturas)\n"
      ]
    },
    {
      "cell_type": "code",
      "execution_count": 24,
      "metadata": {},
      "outputs": [
        {
          "name": "stdout",
          "output_type": "stream",
          "text": [
            "Python\n",
            "P y t h o n\n"
          ]
        }
      ],
      "source": [
        "linguagem = 'Python'\n",
        "#linguagem[0] = 'p' # gera erro\n",
        "print(linguagem)  # Mostra a string completa\n",
        "print(linguagem[0], linguagem[1], linguagem[2], linguagem[-3], linguagem[-2], linguagem[-1])"
      ]
    },
    {
      "cell_type": "code",
      "execution_count": 27,
      "metadata": {},
      "outputs": [
        {
          "name": "stdout",
          "output_type": "stream",
          "text": [
            "['Quem veio antes', ' O ovo', ' Ou a galinha', '']\n"
          ]
        }
      ],
      "source": [
        "\n",
        "duvida = 'Quem veio antes? O ovo? Ou a galinha?'\n",
        "listaPalavras = duvida.split('?') #parâmetro passado foi a ?\n",
        "print(listaPalavras)"
      ]
    },
    {
      "cell_type": "code",
      "execution_count": 28,
      "metadata": {},
      "outputs": [
        {
          "name": "stdout",
          "output_type": "stream",
          "text": [
            "['Quem', 'veio', 'antes?', 'O', 'ovo?', 'Ou', 'a', 'galinha?']\n"
          ]
        }
      ],
      "source": [
        "duvida = 'Quem veio antes? O ovo? Ou a galinha?'\n",
        "listaPalavras = duvida.split() #delimitador não foi passado\n",
        "print(listaPalavras)"
      ]
    },
    {
      "cell_type": "code",
      "execution_count": 34,
      "metadata": {},
      "outputs": [
        {
          "name": "stdout",
          "output_type": "stream",
          "text": [
            "Tintas: vermelho, azul e amarelo; Verde: mistura de azul e amarelo; Laranja: mistura de vermelho e amarelo; Roxo: mistura de vermelho e azul\n"
          ]
        }
      ],
      "source": [
        "misturas = ['Tintas: vermelho, azul e amarelo',\n",
        "            'Verde: mistura de azul e amarelo',\n",
        "            'Laranja: mistura de vermelho e amarelo',\n",
        "            'Roxo: mistura de vermelho e azul']\n",
        "unificador = '; '\n",
        "string_misturas = unificador.join(misturas)\n",
        "print(string_misturas)\n"
      ]
    },
    {
      "cell_type": "markdown",
      "metadata": {
        "id": "d-iYr10-y4qw"
      },
      "source": [
        "## Manipulação de listas\n",
        "\n",
        "As listas são muito úteis em Python porque permitem armazenar e acessar uma coleção de itens de maneira organizada e rápida. Elas também oferecem muitos métodos úteis para manipular os itens armazenados, como adicionar, remover, classificar e pesquisar elementos."
      ]
    },
    {
      "cell_type": "markdown",
      "metadata": {
        "id": "ZLqx9A97XVB_"
      },
      "source": [
        "#### Quantidade de elementos\n",
        "\n",
        "Usamos a função [`len()`](https://docs.python.org/3/library/functions.html#len) para descobrimos a quantidade de elementos de um conjunto."
      ]
    },
    {
      "cell_type": "code",
      "execution_count": 38,
      "metadata": {
        "id": "TOVGVubX3BI_"
      },
      "outputs": [
        {
          "data": {
            "text/plain": [
              "5"
            ]
          },
          "execution_count": 38,
          "metadata": {},
          "output_type": "execute_result"
        }
      ],
      "source": [
        "len(cadastro)#dentro de parantêses é informado qual dado será iterado"
      ]
    },
    {
      "cell_type": "markdown",
      "metadata": {
        "id": "Z5tpstlHJss3"
      },
      "source": [
        "#### Partição\n",
        "\n",
        "A partição de listas por indexação em Python é uma técnica muito útil para selecionar um subconjunto de elementos de uma lista. Ela é feita usando a sintaxe `lista[inicio:fim]`, onde `inicio` é o índice do primeiro elemento a ser incluído na partição e `fim` é o índice do primeiro elemento a ser excluído da partição."
      ]
    },
    {
      "cell_type": "code",
      "execution_count": 42,
      "metadata": {
        "id": "Gm9RaTnG28uC"
      },
      "outputs": [
        {
          "data": {
            "text/plain": [
              "[9.5, 9.0, 10]"
            ]
          },
          "execution_count": 42,
          "metadata": {},
          "output_type": "execute_result"
        }
      ],
      "source": [
        "cadastro[1:4]\n",
        "#para fazer a partição, nós passamos o nome da 'lista' -- variável -- que tem os dados que queremos fazer a partição\n",
        "#ao final é preciso selecionar o elemento que se quer +1, logo 3+1 = 4, pois a partição corta uma casa antes."
      ]
    },
    {
      "cell_type": "code",
      "execution_count": 44,
      "metadata": {
        "id": "LfitkLcQ26MO"
      },
      "outputs": [
        {
          "data": {
            "text/plain": [
              "[9.5, 9.0]"
            ]
          },
          "execution_count": 44,
          "metadata": {},
          "output_type": "execute_result"
        }
      ],
      "source": [
        "cadastro[1:3]"
      ]
    },
    {
      "cell_type": "code",
      "execution_count": 45,
      "metadata": {
        "id": "1-99Q09W28Bu"
      },
      "outputs": [
        {
          "data": {
            "text/plain": [
              "['ismael', 9.5, 9.0]"
            ]
          },
          "execution_count": 45,
          "metadata": {},
          "output_type": "execute_result"
        }
      ],
      "source": [
        "cadastro[:3]\n",
        "#quando não se especifíca o início, subtende-se que queremos o primeiro índice. Então a partição, nesse caso será feita até o índice dois"
      ]
    },
    {
      "cell_type": "code",
      "execution_count": 46,
      "metadata": {
        "id": "j23Uwma5226l"
      },
      "outputs": [
        {
          "data": {
            "text/plain": [
              "[10, True]"
            ]
          },
          "execution_count": 46,
          "metadata": {},
          "output_type": "execute_result"
        }
      ],
      "source": [
        "cadastro[3:]\n",
        "#o inverso também acontece. Nesse caso, a partição ocorre desde o elemento especificado até o último"
      ]
    },
    {
      "cell_type": "code",
      "execution_count": 47,
      "metadata": {
        "id": "zfMrd28_21_q"
      },
      "outputs": [
        {
          "data": {
            "text/plain": [
              "['ismael', 9.5, 9.0, 10, True]"
            ]
          },
          "execution_count": 47,
          "metadata": {},
          "output_type": "execute_result"
        }
      ],
      "source": [
        "cadastro[:]\n",
        "#nesse caso, todos os itens serão listados"
      ]
    },
    {
      "cell_type": "markdown",
      "metadata": {
        "id": "O0RRyabkRzZC"
      },
      "source": [
        "#### [`append()`](https://docs.python.org/3/tutorial/datastructures.html#:~:text=of%20list%20objects%3A-,list.append(x),-Add%20an%20item)\n",
        "\n",
        "Adiciona um elemento ao final da lista."
      ]
    },
    {
      "cell_type": "markdown",
      "metadata": {},
      "source": [
        "É um método que permite a adição de um elemento na nossa lista. Isso é interessante porque às vezes é necessário inserir novas informações nos dados já existentes. Assim, o método append() se sai bem nesse caso de trazer novas informações."
      ]
    },
    {
      "cell_type": "code",
      "execution_count": 53,
      "metadata": {
        "id": "Sr2BasZE20qF"
      },
      "outputs": [
        {
          "data": {
            "text/plain": [
              "['ismael', 9.5, 9.0, 10, True, 'Aprovado', 9.5, 9.5, 9.5, 9.5]"
            ]
          },
          "execution_count": 53,
          "metadata": {},
          "output_type": "execute_result"
        }
      ],
      "source": [
        "cadastro.append(media)\n",
        "cadastro"
      ]
    },
    {
      "cell_type": "markdown",
      "metadata": {
        "id": "uQV91XMsUOJD"
      },
      "source": [
        "#### [`extend()`](https://docs.python.org/3/tutorial/datastructures.html#:~:text=list.extend(iterable))\n",
        "\n",
        "Adiciona vários elementos ao final da lista.\n",
        "\n",
        "Adicionaremos as notas `[10.0,8.0,9.0]` na lista do Fabricio Daniel"
      ]
    },
    {
      "cell_type": "markdown",
      "metadata": {},
      "source": [
        "Funciona de forma similar pois também adiciona elementos ao final da lista, mas funciona de uma forma que deve adicionar vários elementos que devem estar dentro de uma variável iterável, uma variável que seja uma estrutura de dados, como uma lista por exemplo. Ele tornará os elementos dessa lista, os novos elementos da lista antiga. A antiga será extendida."
      ]
    },
    {
      "cell_type": "code",
      "execution_count": 57,
      "metadata": {
        "id": "b8a6wX2w2zrs"
      },
      "outputs": [
        {
          "data": {
            "text/plain": [
              "['ismael',\n",
              " 9.5,\n",
              " 9.0,\n",
              " 10,\n",
              " True,\n",
              " 'Aprovado',\n",
              " 9.5,\n",
              " 9.5,\n",
              " 9.5,\n",
              " 9.5,\n",
              " 10.0,\n",
              " 8.0,\n",
              " 9.0,\n",
              " 10.0,\n",
              " 8.0,\n",
              " 9.0,\n",
              " 10.0,\n",
              " 8.0,\n",
              " 9.0,\n",
              " 10.0,\n",
              " 8.0,\n",
              " 9.0]"
            ]
          },
          "execution_count": 57,
          "metadata": {},
          "output_type": "execute_result"
        }
      ],
      "source": [
        "'''novaNota = [10.0, 8.0, 9.0]\n",
        "\n",
        "cadastro.extend(novaNota)\n",
        "cadastro'''\n",
        "cadastro.extend([10.0, 8.0, 9.0])\n",
        "cadastro"
      ]
    },
    {
      "cell_type": "markdown",
      "metadata": {
        "id": "IVJvkTwNUk6M"
      },
      "source": [
        "*Isso não é possivel ser feito com o* `append`."
      ]
    },
    {
      "cell_type": "code",
      "execution_count": 58,
      "metadata": {
        "id": "DyT9kWkB2yeB"
      },
      "outputs": [
        {
          "data": {
            "text/plain": [
              "['ismael',\n",
              " 9.5,\n",
              " 9.0,\n",
              " 10,\n",
              " True,\n",
              " 'Aprovado',\n",
              " 9.5,\n",
              " 9.5,\n",
              " 9.5,\n",
              " 9.5,\n",
              " 10.0,\n",
              " 8.0,\n",
              " 9.0,\n",
              " 10.0,\n",
              " 8.0,\n",
              " 9.0,\n",
              " 10.0,\n",
              " 8.0,\n",
              " 9.0,\n",
              " 10.0,\n",
              " 8.0,\n",
              " 9.0,\n",
              " [10.0, 8.0, 9.0]]"
            ]
          },
          "execution_count": 58,
          "metadata": {},
          "output_type": "execute_result"
        }
      ],
      "source": [
        "cadastro.append([10.0, 8.0, 9.0])\n",
        "cadastro"
      ]
    },
    {
      "cell_type": "markdown",
      "metadata": {
        "id": "dPGM5gpyUX1z"
      },
      "source": [
        "#### [`remove()`](https://docs.python.org/3/tutorial/datastructures.html#:~:text=append(x).-,list.remove(x),-Remove%20the%20first)\n",
        "\n",
        "Remove um elemento específico da lista."
      ]
    },
    {
      "cell_type": "code",
      "execution_count": 65,
      "metadata": {
        "id": "QgXraxZL2xZN"
      },
      "outputs": [
        {
          "ename": "TypeError",
          "evalue": "list.remove() takes exactly one argument (3 given)",
          "output_type": "error",
          "traceback": [
            "\u001b[0;31m---------------------------------------------------------------------------\u001b[0m",
            "\u001b[0;31mTypeError\u001b[0m                                 Traceback (most recent call last)",
            "\u001b[1;32m/home/is/Data Science/PythonForDS/Projeto_Python_Data_Science .ipynb Cell 150\u001b[0m line \u001b[0;36m1\n\u001b[0;32m----> <a href='vscode-notebook-cell:/home/is/Data%20Science/PythonForDS/Projeto_Python_Data_Science%20.ipynb#Y262sZmlsZQ%3D%3D?line=0'>1</a>\u001b[0m cadastro\u001b[39m.\u001b[39;49mremove(\u001b[39m10.0\u001b[39;49m, \u001b[39m8.0\u001b[39;49m, \u001b[39m9.0\u001b[39;49m)\n\u001b[1;32m      <a href='vscode-notebook-cell:/home/is/Data%20Science/PythonForDS/Projeto_Python_Data_Science%20.ipynb#Y262sZmlsZQ%3D%3D?line=1'>2</a>\u001b[0m cadastro\n",
            "\u001b[0;31mTypeError\u001b[0m: list.remove() takes exactly one argument (3 given)"
          ]
        }
      ],
      "source": [
        "cadastro.remove([10.0, 8.0, 9.0])\n",
        "cadastro"
      ]
    },
    {
      "cell_type": "markdown",
      "metadata": {},
      "source": [
        "### Para saber mais\n",
        "Estudamos alguns métodos em aula e, além deles, podemos usar outros para manipular listas em Python. Vamos conhecê-los e ver exemplos de sua construção. Para todos os casos usaremos a lista raca_caes a seguir:\n",
        "\n",
        "    EX:\n",
        "\n",
        "        raca_caes = ['Labrador Retriever',\n",
        "             'Bulldog Francês',\n",
        "             'Pastor Alemão',\n",
        "             'Poodle']\n",
        "\n",
        "#### insert()\n",
        "\n",
        "O primeiro método é o insert() que insere o elemento em uma determinada posição da lista. Para isso, seguimos a sintaxe lista.insert(indice, elemento), na qual lista é a lista que vai receber o novo elemento, indice é o índice onde será inserido o novo elemento e elemento é o novo elemento a ser inserido.\n",
        "\n",
        "    EX:\n",
        "        raca_caes.insert(1, 'Golden Retriever')\n",
        "        raca_caes\n",
        "\n",
        "Seguindo esse pensamento, a estrutura cadastro.insert(len(lista), elemento) corresponde ao uso do método append, como vimos no vídeo anterior intitulado Manipulação de listas.\n",
        "\n",
        "#### pop()\n",
        "O método pop() remove o elemento de uma determinada posição da lista e o retorna como saída na execução do método. Nele só precisamos especificar, nos parênteses, qual o índice do elemento que queremos remover e ele será apagado da lista. Portanto, vamos remover a raça Golden Retriever que adicionamos no método anterior.\n",
        "\n",
        "    EX:\n",
        "        raca_caes.pop(1)\n",
        "\n",
        "\n",
        "#### index()\n",
        "O método index() retorna o índice de um elemento específico na lista. Para isso, especificamos o elemento entre parênteses. Para identificar o índice da raça Pastor Alemão na lista, fazemos:\n",
        "\n",
        "    EX:\n",
        "\n",
        "        raca_caes.index('Pastor Alemão')\n",
        "\n",
        "#### sort()\n",
        "O método sort() organiza os elementos da lista em ordem crescente ou decrescente. Caso sejam palavras, a ordem é dada por sequência alfabética ou inversa à ela. Para ordenar os valores, podemos apenas declarar o método sort que a lista será organizada em ordem. Para ordenar alfabeticamente a lista raca_caes temos o seguinte código:\n",
        "\n",
        "    EX:\n",
        "        raca_caes.sort()\n",
        "        raca_caes"
      ]
    },
    {
      "cell_type": "code",
      "execution_count": 70,
      "metadata": {},
      "outputs": [],
      "source": [
        "raca_caes = ['Labrador Retriever',\n",
        "            'Bulldog Francês',\n",
        "            'Pastor Alemão',\n",
        "            'Poodle']"
      ]
    },
    {
      "cell_type": "code",
      "execution_count": 71,
      "metadata": {},
      "outputs": [
        {
          "data": {
            "text/plain": [
              "['Labrador Retriever',\n",
              " 'Golden Retriever',\n",
              " 'Bulldog Francês',\n",
              " 'Pastor Alemão',\n",
              " 'Poodle']"
            ]
          },
          "execution_count": 71,
          "metadata": {},
          "output_type": "execute_result"
        }
      ],
      "source": [
        "raca_caes.insert(1, 'Golden Retriever')\n",
        "raca_caes"
      ]
    },
    {
      "cell_type": "code",
      "execution_count": 72,
      "metadata": {},
      "outputs": [
        {
          "data": {
            "text/plain": [
              "['Labrador Retriever', 'Bulldog Francês', 'Pastor Alemão', 'Poodle']"
            ]
          },
          "execution_count": 72,
          "metadata": {},
          "output_type": "execute_result"
        }
      ],
      "source": [
        "raca_caes.pop(1)\n",
        "raca_caes"
      ]
    },
    {
      "cell_type": "code",
      "execution_count": 74,
      "metadata": {},
      "outputs": [
        {
          "data": {
            "text/plain": [
              "2"
            ]
          },
          "execution_count": 74,
          "metadata": {},
          "output_type": "execute_result"
        }
      ],
      "source": [
        "raca_caes.index('Pastor Alemão')"
      ]
    },
    {
      "cell_type": "code",
      "execution_count": 75,
      "metadata": {},
      "outputs": [
        {
          "data": {
            "text/plain": [
              "['Bulldog Francês', 'Labrador Retriever', 'Pastor Alemão', 'Poodle']"
            ]
          },
          "execution_count": 75,
          "metadata": {},
          "output_type": "execute_result"
        }
      ],
      "source": [
        "raca_caes.sort()\n",
        "raca_caes"
      ]
    },
    {
      "cell_type": "markdown",
      "metadata": {
        "id": "Rc22Vc08YDZ2"
      },
      "source": [
        "## Dicionário"
      ]
    },
    {
      "cell_type": "markdown",
      "metadata": {
        "id": "PJ-cCKPjeWxL"
      },
      "source": [
        "Os dicionários são um tipo de estrutura de dados que armazenam pares de *chave-valor*. Eles são delimitados por chaves `{}` e os pares *chave-valor* são separados por vírgulas.\n",
        "\n",
        "```\n",
        "dicionário = {chave: valor}\n",
        "```\n",
        "\n",
        "A **chave** é um elemento único que identifica um valor no dicionário, enquanto o **valor** é o item que é armazenado para a chave. As chaves e os valores podem ser de **qualquer tipo de dado**.\n",
        "\n",
        "Os dicionários são úteis para armazenar e acessar dados de maneira organizada e rápida. Eles são um tipo de conjunto de elementos em Python, pois armazenam uma coleção de itens."
      ]
    },
    {
      "cell_type": "code",
      "execution_count": null,
      "metadata": {
        "id": "fO6BSSP02lPY"
      },
      "outputs": [],
      "source": [
        "#dicionario = {chave : valor}"
      ]
    },
    {
      "cell_type": "code",
      "execution_count": 77,
      "metadata": {},
      "outputs": [
        {
          "data": {
            "text/plain": [
              "{'chave_1': 1, 'chave_2': 2, 'chave_3': 3}"
            ]
          },
          "execution_count": 77,
          "metadata": {},
          "output_type": "execute_result"
        }
      ],
      "source": [
        "dicionario = {'chave_1': 1, 'chave_2': 2, 'chave_3': 3}\n",
        "dicionario"
      ]
    },
    {
      "cell_type": "markdown",
      "metadata": {
        "id": "_JbQ3KMKfkXU"
      },
      "source": [
        "---\n",
        "**Situação:**\n",
        "\n",
        "Vamos criar um conjunto de dados com informações de matricula de um estudante. Os dados são os seguintes:\n",
        "\n",
        "- matricula: 2000168933\n",
        "- dia de cadastro: 25\n",
        "- mês de cadastro: 10\n",
        "- turma: 2E"
      ]
    },
    {
      "cell_type": "code",
      "execution_count": 78,
      "metadata": {
        "id": "Q1SKuEXQ2jkL"
      },
      "outputs": [
        {
          "data": {
            "text/plain": [
              "{'matricula': 2000168933,\n",
              " 'dia de cadastro': 25,\n",
              " 'mês de cadastro': 10,\n",
              " 'turma': '2E'}"
            ]
          },
          "execution_count": 78,
          "metadata": {},
          "output_type": "execute_result"
        }
      ],
      "source": [
        "cadastro = {\n",
        "    'matricula': 2000168933,\n",
        "    'dia de cadastro': 25,\n",
        "    'mês de cadastro': 10,\n",
        "    'turma': '2E'\n",
        "}\n",
        "cadastro"
      ]
    },
    {
      "cell_type": "code",
      "execution_count": 79,
      "metadata": {
        "id": "H7oT2M_a2jY5"
      },
      "outputs": [
        {
          "data": {
            "text/plain": [
              "2000168933"
            ]
          },
          "execution_count": 79,
          "metadata": {},
          "output_type": "execute_result"
        }
      ],
      "source": [
        "cadastro['matricula']\n",
        "#basta digitar a chave e o valor cadastrado será mostrado"
      ]
    },
    {
      "cell_type": "code",
      "execution_count": 80,
      "metadata": {
        "id": "Mv8we96a2jPR"
      },
      "outputs": [
        {
          "data": {
            "text/plain": [
              "'2E'"
            ]
          },
          "execution_count": 80,
          "metadata": {},
          "output_type": "execute_result"
        }
      ],
      "source": [
        "cadastro['turma']"
      ]
    },
    {
      "cell_type": "markdown",
      "metadata": {
        "id": "8ex5pt2ykDd2"
      },
      "source": [
        "É possível substituir os valores dentro de uma chave. Por exemplo, recebemos a informação que a turma do estudante que cadastramos foi trocada para `'2G'` e agora precisamos trocar o valor da chave `'turma'`."
      ]
    },
    {
      "cell_type": "code",
      "execution_count": 82,
      "metadata": {
        "id": "WqZPkVop2hq-"
      },
      "outputs": [
        {
          "data": {
            "text/plain": [
              "{'matricula': 2000168933,\n",
              " 'dia de cadastro': 25,\n",
              " 'mês de cadastro': 10,\n",
              " 'turma': '2G'}"
            ]
          },
          "execution_count": 82,
          "metadata": {},
          "output_type": "execute_result"
        }
      ],
      "source": [
        "cadastro['turma'] = '2G'\n",
        "cadastro"
      ]
    },
    {
      "cell_type": "markdown",
      "metadata": {
        "id": "wB0qRb56mQvv"
      },
      "source": [
        "Podemos também adicionar outros dados ao dicionário. Vamos adicionar a informação de modalidade de ensino, nosso estudante atuará inicialmente em modalidade EAD.\n",
        "\n",
        "Então iremos definir uma chave chamada `'modalidade'` e o valor `'EAD'`."
      ]
    },
    {
      "cell_type": "code",
      "execution_count": 84,
      "metadata": {
        "id": "YDbsuNbw2gb2"
      },
      "outputs": [
        {
          "data": {
            "text/plain": [
              "{'matricula': 2000168933,\n",
              " 'dia de cadastro': 25,\n",
              " 'mês de cadastro': 10,\n",
              " 'turma': '2G',\n",
              " 'modalidae': 'EAD'}"
            ]
          },
          "execution_count": 84,
          "metadata": {},
          "output_type": "execute_result"
        }
      ],
      "source": [
        "cadastro['modalidae'] = 'EAD' #aqui está sendo criado uma nova chave e um novo valor está sendo passado para ela\n",
        "cadastro"
      ]
    },
    {
      "cell_type": "markdown",
      "metadata": {
        "id": "LJ3o_inroxg_"
      },
      "source": [
        "## Aprofundando em dicionários"
      ]
    },
    {
      "cell_type": "markdown",
      "metadata": {
        "id": "2N3GLlkSpBiu"
      },
      "source": [
        "#### [`pop()`](https://python-reference.readthedocs.io/en/latest/docs/dict/pop.html)\n",
        "Remove um item de um dicionário e o retorna."
      ]
    },
    {
      "cell_type": "code",
      "execution_count": 85,
      "metadata": {
        "id": "NJKPaN0N2d2G"
      },
      "outputs": [
        {
          "data": {
            "text/plain": [
              "'EAD'"
            ]
          },
          "execution_count": 85,
          "metadata": {},
          "output_type": "execute_result"
        }
      ],
      "source": [
        "cadastro.pop('modalidae')\n",
        "#dentro dos () é especificado a chave do elemento que vai ser removido\n"
      ]
    },
    {
      "cell_type": "code",
      "execution_count": 86,
      "metadata": {
        "id": "7XZ7Rl4R2cSF"
      },
      "outputs": [
        {
          "data": {
            "text/plain": [
              "{'matricula': 2000168933,\n",
              " 'dia de cadastro': 25,\n",
              " 'mês de cadastro': 10,\n",
              " 'turma': '2G'}"
            ]
          },
          "execution_count": 86,
          "metadata": {},
          "output_type": "execute_result"
        }
      ],
      "source": [
        "cadastro"
      ]
    },
    {
      "cell_type": "markdown",
      "metadata": {},
      "source": [
        "### Métodos de consulta"
      ]
    },
    {
      "cell_type": "markdown",
      "metadata": {
        "id": "sYZGvJJYrW_y"
      },
      "source": [
        "#### [`items()`](https://python-reference.readthedocs.io/en/latest/docs/dict/items.html)\n",
        "Retorna uma lista de pares chave-valor do dicionário.\n",
        "\n"
      ]
    },
    {
      "cell_type": "code",
      "execution_count": 87,
      "metadata": {
        "id": "rWJG9aZ72a0D"
      },
      "outputs": [
        {
          "data": {
            "text/plain": [
              "dict_items([('matricula', 2000168933), ('dia de cadastro', 25), ('mês de cadastro', 10), ('turma', '2G')])"
            ]
          },
          "execution_count": 87,
          "metadata": {},
          "output_type": "execute_result"
        }
      ],
      "source": [
        "cadastro.items()"
      ]
    },
    {
      "cell_type": "markdown",
      "metadata": {
        "id": "Lb0utNFGrZBY"
      },
      "source": [
        "#### [`keys()`](https://python-reference.readthedocs.io/en/latest/docs/dict/keys.html)\n",
        "Retorna uma lista das chaves do dicionário.\n",
        "\n",
        "Vai retornar apenas as chaves"
      ]
    },
    {
      "cell_type": "code",
      "execution_count": 100,
      "metadata": {
        "id": "H1WmQRaR2Z-l"
      },
      "outputs": [
        {
          "name": "stdout",
          "output_type": "stream",
          "text": [
            "25\n"
          ]
        }
      ],
      "source": [
        "cadastro.keys()"
      ]
    },
    {
      "cell_type": "markdown",
      "metadata": {
        "id": "qKyu3bf9rbtX"
      },
      "source": [
        "#### [`values()`](https://python-reference.readthedocs.io/en/latest/docs/dict/values.html)\n",
        "Retorna uma lista dos valores do dicionário.\n",
        "\n",
        "Retorna apenas os valores\n"
      ]
    },
    {
      "cell_type": "code",
      "execution_count": 89,
      "metadata": {
        "id": "E5pgDcfQ2ZHH"
      },
      "outputs": [
        {
          "data": {
            "text/plain": [
              "dict_values([2000168933, 25, 10, '2G'])"
            ]
          },
          "execution_count": 89,
          "metadata": {},
          "output_type": "execute_result"
        }
      ],
      "source": [
        "cadastro.values()"
      ]
    },
    {
      "cell_type": "markdown",
      "metadata": {
        "id": "e3XVjR8Frp75"
      },
      "source": [
        "### Leitura de valores com `for`"
      ]
    },
    {
      "cell_type": "code",
      "execution_count": 94,
      "metadata": {
        "id": "iwIY3hwV2XL5"
      },
      "outputs": [
        {
          "name": "stdout",
          "output_type": "stream",
          "text": [
            "2000168933\n",
            "25\n",
            "10\n",
            "2G\n"
          ]
        }
      ],
      "source": [
        "# usando keys\n",
        "    #chaves é uma variável que vai percorrer e pegar a informação desejada dentro do conjunto Cadastro\n",
        "                #elemento iterável que vai ser lido durante o for\n",
        "for chaves in cadastro.keys():\n",
        "\n",
        "        #mostra o valor correspondentes às chaves de cada elememento dentro de cadastro\n",
        "    #é o mesmo que fazer\n",
        "    #print(cadastro['matricula'])\n",
        "    # a diferença aqui é que está no laço, então ele mostrará todos\n",
        "    print(cadastro[chaves])"
      ]
    },
    {
      "cell_type": "code",
      "execution_count": 96,
      "metadata": {
        "id": "KlEbYjKN2XCy"
      },
      "outputs": [
        {
          "name": "stdout",
          "output_type": "stream",
          "text": [
            "2000168933\n",
            "25\n",
            "10\n",
            "2G\n"
          ]
        }
      ],
      "source": [
        "for valores in cadastro.values():\n",
        "    print(valores)"
      ]
    },
    {
      "cell_type": "code",
      "execution_count": 97,
      "metadata": {
        "id": "aiCgk-o42W6u"
      },
      "outputs": [
        {
          "name": "stdout",
          "output_type": "stream",
          "text": [
            "matricula 2000168933\n",
            "dia de cadastro 25\n",
            "mês de cadastro 10\n",
            "turma 2G\n"
          ]
        }
      ],
      "source": [
        "#aqui está especificado os novos elementos que receberão os dados do conjunto de elemento em Cadastro\n",
        "    #da uma atribuição das respectivas chaves e valores às variáveis aqui declaradas\n",
        "for chaves, valores in cadastro.items():\n",
        "    print(chaves, valores)"
      ]
    },
    {
      "cell_type": "markdown",
      "metadata": {},
      "source": [
        "### Para saber mais\n",
        "\n",
        "Podemos associar estruturas de dados a outras estruturas de dados, como acontece com temos as listas dentro de dicionários. Nesse caso, as listas podem ser armazenadas nos valores de um dicionário de forma que cada chave pode ter uma lista associada a ela. Isso é útil quando precisamos armazenar vários valores relacionados a uma única chave. Por exemplo: podemos construir um conjunto de dados de uma loja de forma que contenha uma chave com os nomes de cada produto e outra chave contendo os preços correspondentes, como consta no código a seguir:\n",
        "\n",
        "    EX:\n",
        "        loja = {'nomes': ['televisão', 'celular', 'notebook', 'geladeira', 'fogão'],\n",
        "        'precos': [2000, 1500, 3500, 4000, 1500]}\n"
      ]
    },
    {
      "cell_type": "code",
      "execution_count": 101,
      "metadata": {},
      "outputs": [],
      "source": [
        "loja = {'nomes': ['televisão', 'celular', 'notebook', 'geladeira', 'fogão'],\n",
        "        'precos': [2000, 1500, 3500, 4000, 1500]}\n"
      ]
    },
    {
      "cell_type": "markdown",
      "metadata": {},
      "source": [
        "Para acessar os valores, podemos usar um agrupamento de laços for:"
      ]
    },
    {
      "cell_type": "code",
      "execution_count": 105,
      "metadata": {},
      "outputs": [
        {
          "name": "stdout",
          "output_type": "stream",
          "text": [
            "Chave: nomes\n",
            "Elementos:\n",
            "televisão\n",
            "celular\n",
            "notebook\n",
            "geladeira\n",
            "fogão\n",
            "Chave: precos\n",
            "Elementos:\n",
            "2000\n",
            "1500\n",
            "3500\n",
            "4000\n",
            "1500\n"
          ]
        }
      ],
      "source": [
        "for chave, elementos in loja.items():\n",
        "    print(f'Chave: {chave}\\nElementos:')\n",
        "    for dado in elementos: #elementos = valor. O valor da chave é a lista de elementos\n",
        "        print(dado) #aqui ele imprime cada valor, ou dado, dentro da lista contida na chave\n",
        "    #print(elementos) #aqui ele imprime a lista com os valores das chaves\n"
      ]
    },
    {
      "cell_type": "markdown",
      "metadata": {},
      "source": [
        "O primeiro laço, o mais externo, faz a leitura dos itens dentro do dicionário (chaves e elementos). Sabendo que os elementos são listas, podemos acessar os dados das listas com outro laço de repetição que está dentro do primeiro laço. O laço mais interno lê os elementos de cada lista por vez e imprime os valores dentro deles.\n",
        "\n",
        "Além disso, podemos realizar operações comuns em listas, como: adicionar, remover ou contar itens na lista associada a uma chave do dicionário. "
      ]
    },
    {
      "cell_type": "markdown",
      "metadata": {},
      "source": [
        "### Funções built-in\n",
        "Durante as aulas, nós trabalhamos diretamente com várias funções built-in que são aquelas pré-definidas e disponíveis por padrão no Python. Elas funcionam como ferramentas úteis para realizar tarefas comuns, como conversões de tipo, operações matemáticas, manipulação de strings e muito mais, sem a necessidade de escrever código adicional.\n",
        "\n",
        "Algumas funções built-in que já conhecemos são: print(), input(), len(), int(), str(), float(), range(), chr(), etc. Mas existem outras além dessas que também são muito úteis, como: sum(), help() e dir(). Vamos conhecê-las?\n",
        "\n",
        "\n",
        "#### sum()\n",
        "\n",
        "A função sum() permite somar os elementos de uma sequência ou estrutura de dados. No exemplo a seguir, vamos somar os preços de produtos:\n",
        "\n",
        "    EX:"
      ]
    },
    {
      "cell_type": "code",
      "execution_count": 107,
      "metadata": {},
      "outputs": [
        {
          "data": {
            "text/plain": [
              "700.0"
            ]
          },
          "execution_count": 107,
          "metadata": {},
          "output_type": "execute_result"
        }
      ],
      "source": [
        "precos = [100.0, 400.0, 200.0]\n",
        "soma = sum(precos)\n",
        "soma\n"
      ]
    },
    {
      "cell_type": "markdown",
      "metadata": {},
      "source": [
        "#### help()\n",
        "A função help() é usada para acessar a documentação de funções, métodos e outros elementos do Python. Ela exibe informações em inglês sobre a funcionalidade, sintaxe e uso de um objeto específico. Para usar essa função, basta passar o elemento desejado entre parênteses. Por exemplo, vamos verificar a documentação da função print:\n",
        "\n",
        "    EX:"
      ]
    },
    {
      "cell_type": "code",
      "execution_count": 106,
      "metadata": {},
      "outputs": [
        {
          "name": "stdout",
          "output_type": "stream",
          "text": [
            "Help on built-in function print in module builtins:\n",
            "\n",
            "print(...)\n",
            "    print(value, ..., sep=' ', end='\\n', file=sys.stdout, flush=False)\n",
            "    \n",
            "    Prints the values to a stream, or to sys.stdout by default.\n",
            "    Optional keyword arguments:\n",
            "    file:  a file-like object (stream); defaults to the current sys.stdout.\n",
            "    sep:   string inserted between values, default a space.\n",
            "    end:   string appended after the last value, default a newline.\n",
            "    flush: whether to forcibly flush the stream.\n",
            "\n"
          ]
        }
      ],
      "source": [
        "help(print)\n"
      ]
    },
    {
      "cell_type": "markdown",
      "metadata": {},
      "source": [
        "#### dir()\n",
        "Por fim, a função dir() é usada para exibir uma lista de atributos e métodos associados a um elemento. Por exemplo, vamos descobrir todos os atributos em métodos de uma lista:\n",
        "\n",
        "    EX:"
      ]
    },
    {
      "cell_type": "code",
      "execution_count": 108,
      "metadata": {},
      "outputs": [
        {
          "data": {
            "text/plain": [
              "['__add__',\n",
              " '__class__',\n",
              " '__class_getitem__',\n",
              " '__contains__',\n",
              " '__delattr__',\n",
              " '__delitem__',\n",
              " '__dir__',\n",
              " '__doc__',\n",
              " '__eq__',\n",
              " '__format__',\n",
              " '__ge__',\n",
              " '__getattribute__',\n",
              " '__getitem__',\n",
              " '__gt__',\n",
              " '__hash__',\n",
              " '__iadd__',\n",
              " '__imul__',\n",
              " '__init__',\n",
              " '__init_subclass__',\n",
              " '__iter__',\n",
              " '__le__',\n",
              " '__len__',\n",
              " '__lt__',\n",
              " '__mul__',\n",
              " '__ne__',\n",
              " '__new__',\n",
              " '__reduce__',\n",
              " '__reduce_ex__',\n",
              " '__repr__',\n",
              " '__reversed__',\n",
              " '__rmul__',\n",
              " '__setattr__',\n",
              " '__setitem__',\n",
              " '__sizeof__',\n",
              " '__str__',\n",
              " '__subclasshook__',\n",
              " 'append',\n",
              " 'clear',\n",
              " 'copy',\n",
              " 'count',\n",
              " 'extend',\n",
              " 'index',\n",
              " 'insert',\n",
              " 'pop',\n",
              " 'remove',\n",
              " 'reverse',\n",
              " 'sort']"
            ]
          },
          "execution_count": 108,
          "metadata": {},
          "output_type": "execute_result"
        }
      ],
      "source": [
        "lista = [1,2,3]\n",
        "dir(lista)\n"
      ]
    },
    {
      "cell_type": "markdown",
      "metadata": {},
      "source": [
        "É interessante conhecer várias funções do built-in e como funcionam, pois elas auxiliam bastante na criação de códigos. Para saber mais sobre funções, você pode acessar a [`documentação do Python`](https://docs.python.org/3/library/functions.html)."
      ]
    }
  ],
  "metadata": {
    "colab": {
      "provenance": [],
      "toc_visible": true
    },
    "kernelspec": {
      "display_name": "Python 3",
      "name": "python3"
    },
    "language_info": {
      "codemirror_mode": {
        "name": "ipython",
        "version": 3
      },
      "file_extension": ".py",
      "mimetype": "text/x-python",
      "name": "python",
      "nbconvert_exporter": "python",
      "pygments_lexer": "ipython3",
      "version": "3.9.16"
    }
  },
  "nbformat": 4,
  "nbformat_minor": 0
}
