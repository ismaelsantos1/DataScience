{
  "cells": [
    {
      "cell_type": "markdown",
      "metadata": {
        "id": "_kwAaQ36gLQ1"
      },
      "source": [
        "# Sobre o notebook\n",
        "\n",
        "A \"hora da prática\" é uma atividade do curso de Python para Data Science da Alura que contém diversos desafios envolvendo os aprendizados de cada aula.\n",
        "\n",
        "O notebook \"hora da pratica\" é um notebook construído com espaço para as células dos desafios propostos no curso, com ele você tem espaço para construir e executar suas soluções"
      ]
    },
    {
      "cell_type": "markdown",
      "metadata": {
        "id": "Mc-KN0dA0Z83"
      },
      "source": [
        "## Aula 1 - Introdução ao Python"
      ]
    },
    {
      "cell_type": "markdown",
      "metadata": {
        "id": "l5eLWf0W0ikn"
      },
      "source": [
        "### Questão 1\n",
        "\n",
        "Imprima a frase `Escola de Dados da Alura!`"
      ]
    },
    {
      "cell_type": "code",
      "execution_count": 2,
      "metadata": {
        "id": "5pllxJ0h0-yA"
      },
      "outputs": [
        {
          "name": "stdout",
          "output_type": "stream",
          "text": [
            "Escola de dados da Alura\n"
          ]
        }
      ],
      "source": [
        "print(\"Escola de dados da Alura\")"
      ]
    },
    {
      "cell_type": "markdown",
      "metadata": {
        "id": "tQdX90Ue03c7"
      },
      "source": [
        "### Questão 2\n",
        "Imprima na tela seu nome e seu sobrenome seguindo a estrutura abaixo:\n",
        "```\n",
        "Nome: [seu nome]\n",
        "Sobrenome: [seu sobrenome]\n",
        "```\n"
      ]
    },
    {
      "cell_type": "code",
      "execution_count": 3,
      "metadata": {
        "id": "RVw5iKn20_Ps"
      },
      "outputs": [
        {
          "name": "stdout",
          "output_type": "stream",
          "text": [
            "Nome: Ismael\n",
            "Sobrenome: dos Santos\n"
          ]
        }
      ],
      "source": [
        "print(\"Nome: Ismael\\nSobrenome: dos Santos\")"
      ]
    },
    {
      "cell_type": "markdown",
      "metadata": {
        "id": "gfg-aiip03vC"
      },
      "source": [
        "### Questão 3\n",
        "Imprima o seu primeiro nome letra a letra. Por exemplo, nome é Mirla, então eu obtenho a seguinte saída:\n",
        "```\n",
        "M\n",
        "I\n",
        "R\n",
        "L\n",
        "A\n",
        "```\n"
      ]
    },
    {
      "cell_type": "code",
      "execution_count": null,
      "metadata": {
        "colab": {
          "base_uri": "https://localhost:8080/"
        },
        "id": "v5bkrgf60_qx",
        "outputId": "2d1f62ac-f7c3-442f-a0c4-e66011e9c821"
      },
      "outputs": [
        {
          "name": "stdout",
          "output_type": "stream",
          "text": [
            "I\n",
            "S\n",
            "M\n",
            "A\n",
            "E\n",
            "L\n"
          ]
        }
      ],
      "source": [
        "print(\"I\\nS\\nM\\nA\\nE\\nL\")"
      ]
    },
    {
      "cell_type": "markdown",
      "metadata": {
        "id": "oadrJbl704MM"
      },
      "source": [
        "### Questão 4\n",
        "Imprima o dia do seu nascimento em formato `dia mês ano`. Os valores de dia e ano não podem estar entre aspas. O formato deve estar como no exemplo, supondo uma data de aniversário dia 28 de fevereiro de 2003:\n",
        "```\n",
        "28 fevereiro 2003\n",
        "```"
      ]
    },
    {
      "cell_type": "code",
      "execution_count": null,
      "metadata": {
        "colab": {
          "base_uri": "https://localhost:8080/"
        },
        "id": "cx0KSsrq1ALD",
        "outputId": "b9e8f6d0-46f2-4221-d85d-b4fd2ffcf210"
      },
      "outputs": [
        {
          "name": "stdout",
          "output_type": "stream",
          "text": [
            "8 de Março de 2004\n"
          ]
        }
      ],
      "source": [
        "print(8, \"de Março de\", 2004)"
      ]
    },
    {
      "cell_type": "markdown",
      "metadata": {
        "id": "3RgyMaan04TD"
      },
      "source": [
        "### Questão 5\n",
        "Imprima em um único print o atual ano que você está fazendo esse curso, o valor do ano deve ser um dado numérico. A saída do print deve ser a seguinte:\n",
        "```\n",
        "Ano atual: [ano]\n",
        "```\n"
      ]
    },
    {
      "cell_type": "code",
      "execution_count": null,
      "metadata": {
        "colab": {
          "base_uri": "https://localhost:8080/"
        },
        "id": "UN77EfQ2d36Y",
        "outputId": "5356106b-dc8e-4209-d6b9-495a797c3d04"
      },
      "outputs": [
        {
          "name": "stdout",
          "output_type": "stream",
          "text": [
            "Ano atual: 2023\n"
          ]
        }
      ],
      "source": [
        "print(\"Ano atual:\", 2023)"
      ]
    },
    {
      "cell_type": "markdown",
      "metadata": {
        "id": "D9e3FqhO1S3X"
      },
      "source": [
        "## Aula 2 - Manipulando dados no Python"
      ]
    },
    {
      "cell_type": "markdown",
      "metadata": {
        "id": "n6o7C1Ze2cRe"
      },
      "source": [
        "### Coleta e amostragem de dados"
      ]
    },
    {
      "cell_type": "markdown",
      "metadata": {
        "id": "sRneWag9PV5Q"
      },
      "source": [
        "#### Questão 1\n",
        "Crie um programa que solicite à pessoa usuária digitar seu nome, e imprima “Olá, [nome]!”."
      ]
    },
    {
      "cell_type": "code",
      "execution_count": null,
      "metadata": {
        "colab": {
          "base_uri": "https://localhost:8080/"
        },
        "id": "dbX1fKqy2HnE",
        "outputId": "8f4f0449-9154-47ee-ab19-ff9837d95887"
      },
      "outputs": [
        {
          "name": "stdout",
          "output_type": "stream",
          "text": [
            "Digite seu nome: Ismael\n",
            "Olá, Ismael\n"
          ]
        }
      ],
      "source": [
        "nome = input(\"Digite seu nome: \")\n",
        "print('Olá, %s' %(nome)) #não é necessário vírgula após as aspas"
      ]
    },
    {
      "cell_type": "markdown",
      "metadata": {
        "id": "BJ1SznEp70d5"
      },
      "source": [
        "#### Questão 2\n",
        "Crie um programa que solicite à pessoa usuária digitar seu nome e idade, e imprima “Olá, [nome], você tem [idade] anos.”."
      ]
    },
    {
      "cell_type": "code",
      "execution_count": null,
      "metadata": {
        "colab": {
          "base_uri": "https://localhost:8080/"
        },
        "id": "jKz-0Sq8PFkp",
        "outputId": "173c117f-eb5c-4f8a-d775-cf1783722f31"
      },
      "outputs": [
        {
          "name": "stdout",
          "output_type": "stream",
          "text": [
            "Digite seu nome:Ismael\n",
            "Digite sua idade:19\n",
            "Eae, Ismael, você tem 19 anos\n"
          ]
        },
        {
          "data": {
            "text/plain": [
              "int"
            ]
          },
          "execution_count": 11,
          "metadata": {},
          "output_type": "execute_result"
        }
      ],
      "source": [
        "nome = input('Digite seu nome:')\n",
        "idade = int(input('Digite sua idade:'))\n",
        "print(\"Eae, %s, você tem %d anos\" %(nome, idade)) #int(idade))) #foi preciso converter a idade para um int, pois estava imprimindo uma str\n",
        "type(idade) #se imprimir, verá que é uma str, mas é possível converter direto no input, deixando mais fácil e simples. Melhor do que converter no print\n"
      ]
    },
    {
      "cell_type": "markdown",
      "metadata": {
        "id": "2T0jNYZt70aa"
      },
      "source": [
        "#### Questão 3\n",
        "Crie um programa que solicite à pessoa usuária digitar seu nome, idade e altura em metros, e imprima “Olá, [nome], você tem [idade] anos e mede [altura] metros!”."
      ]
    },
    {
      "cell_type": "code",
      "execution_count": null,
      "metadata": {
        "colab": {
          "base_uri": "https://localhost:8080/"
        },
        "id": "pI4kHNzTPIXh",
        "outputId": "4f010d93-ac04-4129-8489-b42d445d810e"
      },
      "outputs": [
        {
          "name": "stdout",
          "output_type": "stream",
          "text": [
            "Digite seu nome: Ismael\n",
            "Digite sua idade: 19\n",
            "Digite sua altura em metros: 1.80\n",
            "Eae, Ismael, você tem 19 e mede 1.80 metros. Que louco\n"
          ]
        }
      ],
      "source": [
        "nome = input('Digite seu nome: ')\n",
        "idade = int(input('Digite sua idade: '))\n",
        "altura = float(input('Digite sua altura em metros: '))\n",
        "\n",
        "print(\"Eae, %s, você tem %d e mede %.2f metros. Que louco\" %(nome, idade, altura))"
      ]
    },
    {
      "cell_type": "markdown",
      "metadata": {
        "id": "mEBFwKkC70KP"
      },
      "source": [
        "### Calculadora com operadores"
      ]
    },
    {
      "cell_type": "markdown",
      "metadata": {
        "id": "H-IV1oAPPSqK"
      },
      "source": [
        "#### Questão 1\n",
        "\n",
        "Crie um programa que solicite dois valores numéricos à pessoa usuária e imprima a soma dos dois valores."
      ]
    },
    {
      "cell_type": "code",
      "execution_count": null,
      "metadata": {
        "colab": {
          "base_uri": "https://localhost:8080/",
          "height": 245
        },
        "id": "Zb0W84sy8rnp",
        "outputId": "9682524e-8042-49d7-f138-d001f96de3ec"
      },
      "outputs": [
        {
          "name": "stdout",
          "output_type": "stream",
          "text": [
            "Digite um valor: 900.80\n"
          ]
        },
        {
          "ename": "ValueError",
          "evalue": "ignored",
          "output_type": "error",
          "traceback": [
            "\u001b[0;31m---------------------------------------------------------------------------\u001b[0m",
            "\u001b[0;31mValueError\u001b[0m                                Traceback (most recent call last)",
            "\u001b[0;32m<ipython-input-19-13987874431e>\u001b[0m in \u001b[0;36m<cell line: 1>\u001b[0;34m()\u001b[0m\n\u001b[0;32m----> 1\u001b[0;31m \u001b[0mn1\u001b[0m \u001b[0;34m=\u001b[0m \u001b[0mint\u001b[0m\u001b[0;34m(\u001b[0m\u001b[0minput\u001b[0m\u001b[0;34m(\u001b[0m\u001b[0;34m\"Digite um valor: \"\u001b[0m\u001b[0;34m)\u001b[0m\u001b[0;34m)\u001b[0m\u001b[0;34m\u001b[0m\u001b[0;34m\u001b[0m\u001b[0m\n\u001b[0m\u001b[1;32m      2\u001b[0m \u001b[0mn2\u001b[0m \u001b[0;34m=\u001b[0m \u001b[0mint\u001b[0m\u001b[0;34m(\u001b[0m\u001b[0minput\u001b[0m\u001b[0;34m(\u001b[0m\u001b[0;34m\"Digite outro valor: \"\u001b[0m\u001b[0;34m)\u001b[0m\u001b[0;34m)\u001b[0m\u001b[0;34m\u001b[0m\u001b[0;34m\u001b[0m\u001b[0m\n\u001b[1;32m      3\u001b[0m \u001b[0mresult\u001b[0m \u001b[0;34m=\u001b[0m \u001b[0mn1\u001b[0m \u001b[0;34m+\u001b[0m \u001b[0mn2\u001b[0m\u001b[0;34m\u001b[0m\u001b[0;34m\u001b[0m\u001b[0m\n\u001b[1;32m      4\u001b[0m \u001b[0mprint\u001b[0m\u001b[0;34m(\u001b[0m\u001b[0;34m\"O resultado dos valores é %d\"\u001b[0m \u001b[0;34m%\u001b[0m\u001b[0;34m(\u001b[0m\u001b[0mint\u001b[0m\u001b[0;34m(\u001b[0m\u001b[0mresult\u001b[0m\u001b[0;34m)\u001b[0m\u001b[0;34m)\u001b[0m\u001b[0;34m)\u001b[0m\u001b[0;34m\u001b[0m\u001b[0;34m\u001b[0m\u001b[0m\n",
            "\u001b[0;31mValueError\u001b[0m: invalid literal for int() with base 10: '900.80'"
          ]
        }
      ],
      "source": [
        "n1 = int(input(\"Digite um valor: \"))\n",
        "n2 = int(input(\"Digite outro valor: \"))\n",
        "result = n1 + n2\n",
        "print(\"O resultado dos valores é %d\" %(int(result)))"
      ]
    },
    {
      "cell_type": "markdown",
      "metadata": {
        "id": "LUoi2MOu70Em"
      },
      "source": [
        "#### Questão 2\n",
        "Crie um programa que solicite três valores numéricos à pessoa usuária e imprima a soma dos três valores."
      ]
    },
    {
      "cell_type": "code",
      "execution_count": null,
      "metadata": {
        "colab": {
          "base_uri": "https://localhost:8080/"
        },
        "id": "4FYjWyBS8rDm",
        "outputId": "f592f13a-08a6-475d-ae3e-b572c5e539bf"
      },
      "outputs": [
        {
          "name": "stdout",
          "output_type": "stream",
          "text": [
            "Digite o 1º valor: 24\n",
            "Digite o 2º valor: 46\n",
            "Digite o 3º valor: 100\n",
            "A soma dos 3 valores é: 170\n"
          ]
        }
      ],
      "source": [
        "n1 = int(input(\"Digite o 1º valor: \" ))\n",
        "n2 = int(input(\"Digite o 2º valor: \" ))\n",
        "n3 = int(input(\"Digite o 3º valor: \" ))\n",
        "result = n1 + n2 + n3\n",
        "\n",
        "print(\"A soma dos 3 valores é: %s\" %(int(result)))"
      ]
    },
    {
      "cell_type": "markdown",
      "metadata": {
        "id": "lezGctF07z8i"
      },
      "source": [
        "#### Questão 3\n",
        "Crie um programa que solicite dois valores numéricos à pessoa usuária e imprima a subtração do primeiro pelo o segundo valor."
      ]
    },
    {
      "cell_type": "code",
      "execution_count": null,
      "metadata": {
        "colab": {
          "base_uri": "https://localhost:8080/"
        },
        "id": "k0GE1z4w8p3J",
        "outputId": "ea2d7af4-52ce-4c07-c8cf-ec0153682851"
      },
      "outputs": [
        {
          "name": "stdout",
          "output_type": "stream",
          "text": [
            "Digite o primeiro valor: 6\n",
            "Digite o segundo valor: 5\n",
            "O resultado é -1\n"
          ]
        }
      ],
      "source": [
        "n1 = int(input(\"Digite o primeiro valor: \"))\n",
        "n2 = int(input(\"Digite o segundo valor: \"))\n",
        "result = n2 - n1\n",
        "print(\"O resultado é %d\" %(int(result)))"
      ]
    },
    {
      "cell_type": "markdown",
      "metadata": {
        "id": "wwMP-dPU7zxW"
      },
      "source": [
        "#### Questão 4\n",
        "\n",
        "Crie um programa que solicite dois valores numéricos à pessoa usuária e imprima a multiplicação dos dois valores.\n"
      ]
    },
    {
      "cell_type": "code",
      "execution_count": null,
      "metadata": {
        "colab": {
          "base_uri": "https://localhost:8080/"
        },
        "id": "GzFCVHfp8peZ",
        "outputId": "d9eae5be-22c7-43fd-e738-a89f778f094e"
      },
      "outputs": [
        {
          "name": "stdout",
          "output_type": "stream",
          "text": [
            "Digite o primeiro valor: 4\n",
            "Digite o segundo valor: 3\n",
            "Resultado = 12\n"
          ]
        }
      ],
      "source": [
        "n1 = int(input(\"Digite o primeiro valor: \"))\n",
        "n2 = int(input(\"Digite o segundo valor: \"))\n",
        "result = n1 * n2\n",
        "print('Resultado = %d' %(int(result)))"
      ]
    },
    {
      "cell_type": "markdown",
      "metadata": {
        "id": "9kxyHxUo7zRD"
      },
      "source": [
        "#### Questão 5\n",
        "\n",
        "Crie um programa que solicite dois valores numéricos, um numerador e um denominador, e realize a divisão entre os dois valores. Deixe claro que o valor do denominador não pode ser `0`.\n"
      ]
    },
    {
      "cell_type": "code",
      "execution_count": null,
      "metadata": {
        "colab": {
          "base_uri": "https://localhost:8080/"
        },
        "id": "ytJ8l5KH8ozc",
        "outputId": "1be924d1-751f-4c41-bf38-bd0271bb01a8"
      },
      "outputs": [
        {
          "name": "stdout",
          "output_type": "stream",
          "text": [
            "Digite dois valores para realizar uma operação fracionária. O denominador não pode ser 0\n",
            "Digite o valor do numerador: 6\n",
            "Digite o valor do denominador: 2\n",
            "Resultado = 3.00\n"
          ]
        }
      ],
      "source": [
        "print(\"Digite dois valores para realizar uma operação fracionária. O denominador não pode ser 0\")\n",
        "num = int(input('Digite o valor do numerador: '))\n",
        "den = int(input('Digite o valor do denominador: '))\n",
        "if(den==0):\n",
        "    print('O programa será fechado\\n')\n",
        "    exit()\n",
        "\n",
        "else:\n",
        "    result = num/den\n",
        "    print('Resultado = %.2f' %(float(result)))\n"
      ]
    },
    {
      "cell_type": "markdown",
      "metadata": {
        "id": "zkUSBTQq8Hxt"
      },
      "source": [
        "#### Questão 6\n",
        "\n",
        "Crie um programa que solicite dois valores numéricos, um operador e uma potência, e realize a exponenciação entre esses dois valores.\n"
      ]
    },
    {
      "cell_type": "code",
      "execution_count": null,
      "metadata": {
        "colab": {
          "base_uri": "https://localhost:8080/"
        },
        "id": "RPj36jq08oZp",
        "outputId": "740c6552-6a24-496c-fbad-ef5222b81a0c"
      },
      "outputs": [
        {
          "name": "stdout",
          "output_type": "stream",
          "text": [
            "Digite um valor: 1\n",
            "Digite uma potência: 12345678910112131415\n",
            "Resultado: 1\n"
          ]
        }
      ],
      "source": [
        "num = int(input('Digite um valor: '))\n",
        "op = int(input('Digite uma potência: '))\n",
        "result = num ** op\n",
        "print('Resultado: %d' %(int(result)))"
      ]
    },
    {
      "cell_type": "markdown",
      "metadata": {
        "id": "yiunIusZ8Huj"
      },
      "source": [
        "#### Questão 7\n",
        "Crie um programa que solicite dois valores numéricos, um numerador e um denominador e realize a divisão inteira entre os dois valores. Deixe claro que o valor do denominador não pode ser `0`."
      ]
    },
    {
      "cell_type": "code",
      "execution_count": null,
      "metadata": {
        "colab": {
          "base_uri": "https://localhost:8080/"
        },
        "id": "UHK8xITf8oCg",
        "outputId": "c838c590-9347-4a83-ec75-a275e8a9e94b"
      },
      "outputs": [
        {
          "name": "stdout",
          "output_type": "stream",
          "text": [
            "Digite dois valores para realizar uma operação fracionária. O denominador não pode ser 0\n",
            "Digite o valor do numerador: 23.4\n",
            "Digite o valor do denominador: 5.6\n",
            "Resultado = 4\n"
          ]
        }
      ],
      "source": [
        "print(\"Digite dois valores para realizar uma operação fracionária. O denominador não pode ser 0\")\n",
        "num = float(input('Digite o valor do numerador: '))\n",
        "den = float(input('Digite o valor do denominador: '))\n",
        "if(den==0):\n",
        "    print('O programa será fechado\\n')\n",
        "    exit()\n",
        "\n",
        "else:\n",
        "    result = num/den\n",
        "    print('Resultado = %d' %(int(result)))\n"
      ]
    },
    {
      "cell_type": "markdown",
      "metadata": {
        "id": "z_D_JiLX8Hra"
      },
      "source": [
        "#### Questão 8\n",
        "\n",
        "Crie um programa que solicite dois valores numéricos, um numerador e um denominador, e retorne o resto da divisão entre os dois valores. Deixe claro que o valor do denominador não pode ser `0`."
      ]
    },
    {
      "cell_type": "code",
      "execution_count": null,
      "metadata": {
        "colab": {
          "base_uri": "https://localhost:8080/"
        },
        "id": "EWGJeukO8nqx",
        "outputId": "333ab530-1854-4a6e-a9f4-6c2fa694aebf"
      },
      "outputs": [
        {
          "name": "stdout",
          "output_type": "stream",
          "text": [
            "Digite dois valores para realizar uma operação fracionária. O denominador não pode ser 0\n",
            "Digite o valor do numerador: 10\n",
            "Digite o valor do denominador: 5\n",
            "Resultado = 0\n"
          ]
        }
      ],
      "source": [
        "print(\"Digite dois valores para realizar uma operação fracionária. O denominador não pode ser 0\")\n",
        "num = int(input('Digite o valor do numerador: '))\n",
        "den = int(input('Digite o valor do denominador: '))\n",
        "if(den==0):\n",
        "    print('O programa será fechado\\n')\n",
        "    exit()\n",
        "\n",
        "else:\n",
        "    result = num%den\n",
        "    print('Resultado = %d' %(int(result)))\n"
      ]
    },
    {
      "cell_type": "markdown",
      "metadata": {
        "id": "RDRajNkU8N8N"
      },
      "source": [
        "#### Questão 9\n",
        "\n",
        "Crie um código que solicita 3 notas de um estudante e imprima a média das notas."
      ]
    },
    {
      "cell_type": "code",
      "execution_count": null,
      "metadata": {
        "colab": {
          "base_uri": "https://localhost:8080/"
        },
        "id": "H6F4Ojzt8nSR",
        "outputId": "cc4ca3ae-f50e-4060-d52f-9879a2008926"
      },
      "outputs": [
        {
          "name": "stdout",
          "output_type": "stream",
          "text": [
            "Digite sua primeira nota: 5.9\n",
            "Digite sua segunda nota: 7.3\n",
            "Digite sua terceira nota: 9.4\n",
            "A sua média é: 7.53\n"
          ]
        }
      ],
      "source": [
        "n1 = float(input('Digite sua primeira nota: '))\n",
        "n2 = float(input('Digite sua segunda nota: '))\n",
        "n3 = float(input('Digite sua terceira nota: '))\n",
        "\n",
        "soma = float(n1+n2+n3)\n",
        "media = float(soma/3)\n",
        "print(\"A sua média é: %.2f\" %(float(media)))"
      ]
    },
    {
      "cell_type": "markdown",
      "metadata": {
        "id": "d7fjkne58N21"
      },
      "source": [
        "#### Questão 10\n",
        "\n",
        "Crie um código que calcule e imprima a média ponderada dos números 5, 12, 20 e 15 com pesos respectivamente iguais a 1, 2, 3 e 4."
      ]
    },
    {
      "cell_type": "code",
      "execution_count": null,
      "metadata": {
        "colab": {
          "base_uri": "https://localhost:8080/"
        },
        "id": "fwjoHlV48mkv",
        "outputId": "d221108a-4d71-414a-eb6a-8e5bbc1ba7bd"
      },
      "outputs": [
        {
          "name": "stdout",
          "output_type": "stream",
          "text": [
            "A média ponderada é: 154.0\n"
          ]
        }
      ],
      "source": [
        "n1 = 5\n",
        "n2 = 10\n",
        "n3 = 20\n",
        "n4 = 15\n",
        "resultado = ((n1 * 1) + (n2 * 2) + (n3 * 3) + (n4 * 4) / 1 + 2 +3 +4)\n",
        "print('A média ponderada é: %.1f' %(float(resultado)))"
      ]
    },
    {
      "cell_type": "markdown",
      "metadata": {
        "id": "GNmbX1OU8N0V"
      },
      "source": [
        "### Editando textos"
      ]
    },
    {
      "cell_type": "markdown",
      "metadata": {
        "id": "6wZ85mCsRCV0"
      },
      "source": [
        "#### Questão 1\n",
        "\n",
        "Crie uma variável chamada “`frase`” e atribua a ela uma string de sua escolha. Em seguida, imprima a frase na tela."
      ]
    },
    {
      "cell_type": "code",
      "execution_count": null,
      "metadata": {
        "colab": {
          "base_uri": "https://localhost:8080/",
          "height": 35
        },
        "id": "eRqr_gh-8mFy",
        "outputId": "394fe8a4-ebae-4e19-f985-5765a1da2dac"
      },
      "outputs": [
        {
          "data": {
            "application/vnd.google.colaboratory.intrinsic+json": {
              "type": "string"
            },
            "text/plain": [
              "'Testando'"
            ]
          },
          "execution_count": 1,
          "metadata": {},
          "output_type": "execute_result"
        }
      ],
      "source": [
        "frase = 'Testando'\n",
        "frase"
      ]
    },
    {
      "cell_type": "markdown",
      "metadata": {
        "id": "Aac17z-18Nwv"
      },
      "source": [
        "#### Questão 2\n",
        "Crie um código que solicite uma frase e depois imprima a frase na tela."
      ]
    },
    {
      "cell_type": "code",
      "execution_count": null,
      "metadata": {
        "colab": {
          "base_uri": "https://localhost:8080/",
          "height": 53
        },
        "id": "8zfE2hh98lb0",
        "outputId": "aa8b814d-2cbe-4db7-950d-0b9db73df134"
      },
      "outputs": [
        {
          "name": "stdout",
          "output_type": "stream",
          "text": [
            "Digite uma frase: Essa é uma frase teste\n"
          ]
        },
        {
          "data": {
            "application/vnd.google.colaboratory.intrinsic+json": {
              "type": "string"
            },
            "text/plain": [
              "'Essa é uma frase teste'"
            ]
          },
          "execution_count": 2,
          "metadata": {},
          "output_type": "execute_result"
        }
      ],
      "source": [
        "frase = str(input('Digite uma frase: '))\n",
        "frase"
      ]
    },
    {
      "cell_type": "markdown",
      "metadata": {
        "id": "DXVzqpN58Ntr"
      },
      "source": [
        "#### Questão 3\n",
        "\n",
        "Crie um código que solicite uma frase à pessoa usuária e imprima a mesma frase digitada mas com todas as letras maiúsculas."
      ]
    },
    {
      "cell_type": "code",
      "execution_count": null,
      "metadata": {
        "colab": {
          "base_uri": "https://localhost:8080/",
          "height": 53
        },
        "id": "d0VzoYP68k-I",
        "outputId": "3a8333b6-9d1d-4597-83fd-934ae65e3ee5"
      },
      "outputs": [
        {
          "name": "stdout",
          "output_type": "stream",
          "text": [
            "Digite uma frase: essa é uma frase teste\n"
          ]
        },
        {
          "data": {
            "application/vnd.google.colaboratory.intrinsic+json": {
              "type": "string"
            },
            "text/plain": [
              "'ESSA É UMA FRASE TESTE'"
            ]
          },
          "execution_count": 3,
          "metadata": {},
          "output_type": "execute_result"
        }
      ],
      "source": [
        "frase = str(input('Digite uma frase: '))\n",
        "frase.upper()\n"
      ]
    },
    {
      "cell_type": "markdown",
      "metadata": {
        "id": "I12VeNPK8Nqb"
      },
      "source": [
        "#### Questão 4\n",
        "\n",
        "Crie um código que solicite uma frase à pessoa usuária e imprima a mesma frase digitada mas com todas as letras minúsculas."
      ]
    },
    {
      "cell_type": "code",
      "execution_count": null,
      "metadata": {
        "colab": {
          "base_uri": "https://localhost:8080/",
          "height": 53
        },
        "id": "KD8rNy2K8kox",
        "outputId": "bedc5168-a53d-420c-f2b1-61e391828bf6"
      },
      "outputs": [
        {
          "name": "stdout",
          "output_type": "stream",
          "text": [
            "Digite uma frase: ESSA É UMA FRASE TESTE\n"
          ]
        },
        {
          "data": {
            "application/vnd.google.colaboratory.intrinsic+json": {
              "type": "string"
            },
            "text/plain": [
              "'essa é uma frase teste'"
            ]
          },
          "execution_count": 4,
          "metadata": {},
          "output_type": "execute_result"
        }
      ],
      "source": [
        "frase = str(input('Digite uma frase: '))\n",
        "frase.lower()"
      ]
    },
    {
      "cell_type": "markdown",
      "metadata": {
        "id": "cRqngSE48Nog"
      },
      "source": [
        "#### Questão 5\n",
        "\n",
        "Crie uma variável chamada “`frase`” e atribua a ela uma string de sua escolha. Em seguida, imprima a frase sem espaços em branco no início e no fim."
      ]
    },
    {
      "cell_type": "code",
      "execution_count": null,
      "metadata": {
        "colab": {
          "base_uri": "https://localhost:8080/",
          "height": 35
        },
        "id": "aSCpdF-o8kBs",
        "outputId": "f5087d7a-f359-4d8a-9389-9986bae76804"
      },
      "outputs": [
        {
          "data": {
            "application/vnd.google.colaboratory.intrinsic+json": {
              "type": "string"
            },
            "text/plain": [
              "'Ismael é lindo'"
            ]
          },
          "execution_count": 7,
          "metadata": {},
          "output_type": "execute_result"
        }
      ],
      "source": [
        "frase = ' ismael é lindo  '\n",
        "frase.strip().capitalize()"
      ]
    },
    {
      "cell_type": "markdown",
      "metadata": {
        "id": "murIazpQ8Nkv"
      },
      "source": [
        "#### Questão 6\n",
        "\n",
        "Crie um código que solicite uma frase à pessoa usuária e imprima a mesma frase sem espaços em branco no início e no fim."
      ]
    },
    {
      "cell_type": "code",
      "execution_count": null,
      "metadata": {
        "id": "tHunjwuG8jNq"
      },
      "outputs": [],
      "source": [
        "frase = str(input('Digite uma frase: '))\n",
        "frase.strip()"
      ]
    },
    {
      "cell_type": "markdown",
      "metadata": {
        "id": "eRxc2OeX8Nh2"
      },
      "source": [
        "#### Questão 7\n",
        "\n",
        "\n",
        "Crie um código que solicite uma frase à pessoa usuária e imprima a mesma frase sem espaços em branco no início e no fim e em letras minúsculas."
      ]
    },
    {
      "cell_type": "code",
      "execution_count": null,
      "metadata": {
        "id": "DYm0_UwS8ih6"
      },
      "outputs": [],
      "source": [
        "frase = str(input('Digite uma frase: '))\n",
        "frase.strip().lower()"
      ]
    },
    {
      "cell_type": "markdown",
      "metadata": {
        "id": "UKATLavs8NfI"
      },
      "source": [
        "#### Questão 8\n",
        "\n",
        "Crie um código que solicite uma frase à pessoa usuária e imprima a mesma frase com todas as vogais “`e`” trocadas pela letra “`f`”."
      ]
    },
    {
      "cell_type": "code",
      "execution_count": null,
      "metadata": {
        "colab": {
          "base_uri": "https://localhost:8080/",
          "height": 53
        },
        "id": "k64C5G5S8iLO",
        "outputId": "638da262-418a-4e02-9809-1bf61bdf6510"
      },
      "outputs": [
        {
          "name": "stdout",
          "output_type": "stream",
          "text": [
            "Digite uma frase: Tô testando pra ver se troca pelo e\n"
          ]
        },
        {
          "data": {
            "application/vnd.google.colaboratory.intrinsic+json": {
              "type": "string"
            },
            "text/plain": [
              "'Tô tfstando pra vfr sf troca pflo f'"
            ]
          },
          "execution_count": 8,
          "metadata": {},
          "output_type": "execute_result"
        }
      ],
      "source": [
        "frase = str(input('Digite uma frase: '))\n",
        "frase.replace('e', 'f')"
      ]
    },
    {
      "cell_type": "markdown",
      "metadata": {
        "id": "n_1SPchw8NdG"
      },
      "source": [
        "#### Questão 9\n",
        "\n",
        "\n",
        "Crie um código que solicite uma frase à pessoa usuária e imprima a mesma frase com todas as vogais “`a`” trocadas pela caractere  “`@`”."
      ]
    },
    {
      "cell_type": "code",
      "execution_count": 1,
      "metadata": {
        "colab": {
          "base_uri": "https://localhost:8080/",
          "height": 53
        },
        "id": "msaDNm_p8h0D",
        "outputId": "60f9f788-dc62-4a2c-9894-85150e6f406c"
      },
      "outputs": [
        {
          "data": {
            "text/plain": [
              "'Ism@el tá test@ndo isso '"
            ]
          },
          "execution_count": 1,
          "metadata": {},
          "output_type": "execute_result"
        }
      ],
      "source": [
        "frase = str(input('Digite uma frase: '))\n",
        "frase.replace('a', chr(64))"
      ]
    },
    {
      "cell_type": "markdown",
      "metadata": {
        "id": "H3sTTjqI8Naa"
      },
      "source": [
        "#### Questão 10\n",
        "\n",
        "\n",
        "Crie um código que solicite uma frase à pessoa usuária e imprima a mesma frase com todas as consoantes “`s`” trocadas pelo caractere  “`$`”."
      ]
    },
    {
      "cell_type": "code",
      "execution_count": null,
      "metadata": {
        "colab": {
          "base_uri": "https://localhost:8080/",
          "height": 53
        },
        "id": "RPBIsWT68e-1",
        "outputId": "f19f8462-71cd-41b3-bfdf-91a8f00d0ab3"
      },
      "outputs": [
        {
          "name": "stdout",
          "output_type": "stream",
          "text": [
            "Digite uma frase: todos os esses serão trocados por s\n"
          ]
        },
        {
          "data": {
            "application/vnd.google.colaboratory.intrinsic+json": {
              "type": "string"
            },
            "text/plain": [
              "'todo$ o$ e$$e$ $erão trocado$ por $'"
            ]
          },
          "execution_count": 13,
          "metadata": {},
          "output_type": "execute_result"
        }
      ],
      "source": [
        "frase = str(input('Digite uma frase: '))\n",
        "frase.replace('s', chr(36))"
      ]
    },
    {
      "cell_type": "markdown",
      "metadata": {
        "id": "XGePe4GD2I59"
      },
      "source": [
        "## Aula 3 - Estruturas condicionais"
      ]
    },
    {
      "cell_type": "markdown",
      "metadata": {
        "id": "Pr9HTW0UHCdD"
      },
      "source": [
        "### Aquecendo na programação"
      ]
    },
    {
      "cell_type": "markdown",
      "metadata": {
        "id": "xBZHqhVg80Fy"
      },
      "source": [
        "#### Questão 1\n",
        "Escreva um programa que peça à pessoa usuária para fornecer dois números e exibir o número maior."
      ]
    },
    {
      "cell_type": "code",
      "execution_count": 1,
      "metadata": {
        "id": "GJlGnzjc-xyF"
      },
      "outputs": [
        {
          "name": "stdout",
          "output_type": "stream",
          "text": [
            "O maior número é: 1000\n"
          ]
        }
      ],
      "source": [
        "n1 = int(input(\"Digite um número: \"))\n",
        "n2 = int(input(\"Digite outro número: \"))\n",
        "\n",
        "if n1 > n2:\n",
        "    print(f\"O maior número é: {n1}\")\n",
        "\n",
        "elif n2 > n1:\n",
        "    print(f\"O maior número é: {n2}\")\n",
        "\n",
        "else:\n",
        "    print(\"Insira valores que não sejam iguais\")\n"
      ]
    },
    {
      "cell_type": "markdown",
      "metadata": {
        "id": "H4sgN7dyHNJF"
      },
      "source": [
        "#### Questão 2\n",
        "Escreva um programa que solicite o percentual de crescimento de produção de uma empresa e informe se houve um crescimento (porcentagem positiva) ou decrescimento (porcentagem negativa)."
      ]
    },
    {
      "cell_type": "code",
      "execution_count": 14,
      "metadata": {
        "id": "-2_Ry5XJ-yZW"
      },
      "outputs": [
        {
          "name": "stdout",
          "output_type": "stream",
          "text": [
            "Teve um decrescimento\n"
          ]
        }
      ],
      "source": [
        "n1 = float(input(\"Insira o percentual de crescimento de uma empresa: \"))\n",
        "\n",
        "if n1 > 0:\n",
        "        print(\"Teve um crescimento\")\n",
        "else:\n",
        "        print(\"Teve um decrescimento\")"
      ]
    },
    {
      "cell_type": "markdown",
      "metadata": {
        "id": "a_mzNOBDHNny"
      },
      "source": [
        "#### Questão 3\n",
        "Escreva um programa que determine se uma letra fornecida pela pessoa usuária é uma vogal ou consoante."
      ]
    },
    {
      "cell_type": "code",
      "execution_count": 21,
      "metadata": {
        "id": "NbgndVyg-zFJ"
      },
      "outputs": [
        {
          "name": "stdout",
          "output_type": "stream",
          "text": [
            "'w' é consoante\n"
          ]
        }
      ],
      "source": [
        "word = input(\"Digite uma letra e descubra se é vogal ou consoante: \")\n",
        "vogais = 'aeiou'\n",
        "if word in vogais:\n",
        "    print(f'\"{word}\" é vogal')\n",
        "else:\n",
        "    print(f\"'{word}' é consoante\")"
      ]
    },
    {
      "cell_type": "markdown",
      "metadata": {
        "id": "mofMRjSZHP99"
      },
      "source": [
        "#### Questão 4\n",
        "Escreva um programa que leia valores médios de preços de um modelo de carro por 3 anos consecutivos e exiba o valor mais alto e mais baixo entre esses três anos."
      ]
    },
    {
      "cell_type": "code",
      "execution_count": 32,
      "metadata": {
        "id": "TX--d3k9-02c"
      },
      "outputs": [
        {
          "name": "stdout",
          "output_type": "stream",
          "text": [
            "O menor preço foi de R$100.0\n",
            "E o maior preço foi de R$103.0\n"
          ]
        }
      ],
      "source": [
        "price1y = float(input(\"Digite o valor médio de um modelo de carro: \"))\n",
        "price2y = float(input(\"Digite o valor médio de um modelo de carro no segundo ano: \"))\n",
        "price3y = float(input(\"Digite o valor médio de um modelo de carro no terceiro ano: \"))\n",
        "\n",
        "#maior preço\n",
        "maior = price1y\n",
        "if price2y > maior:\n",
        "    maior = price2y\n",
        "    \n",
        "if price3y > maior:\n",
        "    maior = price3y\n",
        "\n",
        "#menor preço\n",
        "menor = price1y\n",
        "if price2y < menor:\n",
        "    menor = price2y\n",
        "\n",
        "if price3y < menor:\n",
        "    menor = price3y\n",
        "\n",
        "print(f\"O menor preço foi de R${menor}\\nE o maior preço foi de R${maior}\")"
      ]
    },
    {
      "cell_type": "markdown",
      "metadata": {
        "id": "jY5tIwd-HQzc"
      },
      "source": [
        "#### Questão 5\n",
        "Escreva um programa que pergunte sobre o preço de três produtos e indique qual é o produto mais barato para comprar."
      ]
    },
    {
      "cell_type": "code",
      "execution_count": 37,
      "metadata": {
        "id": "sYqNh9df-0gk"
      },
      "outputs": [
        {
          "name": "stdout",
          "output_type": "stream",
          "text": [
            "O produto com o valor mais barato para comprar é: R$89.0\n"
          ]
        }
      ],
      "source": [
        "p1 = float(input(\"Informe o preço do primeiro produto: \"))\n",
        "p2 = float(input(\"Informe o preço do segundo produto: \"))\n",
        "p3 = float(input(\"Informe o preço do terceiro produto: \"))\n",
        "\n",
        "barato = p1\n",
        "\n",
        "if p2 < barato:\n",
        "    barato = p2\n",
        "    print(f\"O produto com o valor mais barato para comprar é: R${barato}\")\n",
        "\n",
        "elif p3 < barato: \n",
        "    barato = p3\n",
        "    print(f\"O produto com o valor mais barato para comprar é: R${barato}\")\n",
        "\n",
        "else:\n",
        "    print(f\"O produto com o valor mais barato para comprar é: R${p1}\")"
      ]
    },
    {
      "cell_type": "markdown",
      "metadata": {
        "id": "1r6aVxtTHR4E"
      },
      "source": [
        "#### Questão 6\n",
        "Escreva um programa que leia três números e os exiba em ordem decrescente."
      ]
    },
    {
      "cell_type": "code",
      "execution_count": 51,
      "metadata": {
        "id": "ydOCYUMO-0Hk"
      },
      "outputs": [
        {
          "name": "stdout",
          "output_type": "stream",
          "text": [
            "Digite números diferentes\n"
          ]
        }
      ],
      "source": [
        "n1 = int(input(\"Digite um número: \"))\n",
        "n2 = int(input(\"Digite o segundo número: \"))\n",
        "n3 = int(input(\"Digite o terceiro número: \"))\n",
        "\n",
        "if n1 == n2 == n3:\n",
        "    print(\"Digite números diferentes\")\n",
        "\n",
        "\n",
        "else:\n",
        "    \n",
        "    print(\"Ordem decrescente:\\n\")\n",
        "    if (n1 > n2) and (n1 > n3):\n",
        "        print(f\"{n1}\")\n",
        "        \n",
        "        if n2>n3:\n",
        "            print(f\"{n2}\")\n",
        "            print(f\"{n3}\")\n",
        "        \n",
        "        else:\n",
        "            print(f\"{n3}\")\n",
        "            print(f\"{n2}\")\n",
        "\n",
        "    elif (n2>n1) and (n2>n3):\n",
        "        print(f\"{n2}\")\n",
        "        \n",
        "        if n1>n3:\n",
        "            print(f\"{n1}\")\n",
        "            print(f\"{n3}\")\n",
        "        \n",
        "        else:\n",
        "            print(f\"{n3}\")\n",
        "            print(f\"{n1}\")\n",
        "\n",
        "    else:\n",
        "        print(f\"{n3}\")\n",
        "        \n",
        "        if n1 > n2:\n",
        "            print(f\"{n1}\")\n",
        "            print(f\"{n2}\")\n",
        "        \n",
        "        else:\n",
        "            print(f\"{n2}\")\n",
        "            print(f\"{n1}\")"
      ]
    },
    {
      "cell_type": "markdown",
      "metadata": {
        "id": "inW3F-hAHS_X"
      },
      "source": [
        "#### Questão 7\n",
        "Escreva um programa que pergunte em qual turno a pessoa usuária estuda (\"manhã\", \"tarde\" ou \"noite\") e exiba a mensagem \"Bom Dia!\", \"Boa Tarde!\", \"Boa Noite!\", ou \"Valor Inválido!\", conforme o caso."
      ]
    },
    {
      "cell_type": "code",
      "execution_count": 54,
      "metadata": {
        "id": "-_q-Pcr_-zth"
      },
      "outputs": [
        {
          "name": "stdout",
          "output_type": "stream",
          "text": [
            "Valor inválido\n"
          ]
        }
      ],
      "source": [
        "hora = input(\"Olá, em qual turno você estuda?\\n\")\n",
        "turno = 'Manhã', 'Tarde', 'Noite'\n",
        "\n",
        "if (hora == 'manhã') or (hora == 'Manhã'):\n",
        "    print(\"Bom dia!!\")\n",
        "\n",
        "elif (hora == 'tarde') or (hora == 'Tarde'):\n",
        "    print(\"Boa tarde!!\")\n",
        "\n",
        "elif (hora == 'noite') or (hora == 'Noite'):\n",
        "    print(\"Boa noite!!\")\n",
        "\n",
        "else:\n",
        "    print(\"Valor inválido\")"
      ]
    },
    {
      "cell_type": "markdown",
      "metadata": {
        "id": "NCCPF3QqHTw-"
      },
      "source": [
        "#### Questão 8\n",
        "Escreva um programa que peça um número inteiro à pessoa usuária e determine se ele é par ou ímpar. Dica: Você pode utilizar o operador módulo `%`."
      ]
    },
    {
      "cell_type": "code",
      "execution_count": 59,
      "metadata": {
        "id": "OmZJt1nQ-3e6"
      },
      "outputs": [
        {
          "name": "stdout",
          "output_type": "stream",
          "text": [
            "4 é par\n"
          ]
        }
      ],
      "source": [
        "n = int(input(\"Informe um número: \"))\n",
        "\n",
        "if n%2 == 0:\n",
        "    print(\"%d é par\" %(n))\n",
        "\n",
        "else:\n",
        "    print(\"%d é ímpar\" %(n))"
      ]
    },
    {
      "cell_type": "markdown",
      "metadata": {
        "id": "h93Ck1tQHUwE"
      },
      "source": [
        "#### Questão 9\n",
        "Escreva um programa que peça um número à pessoa usuária e informe se ele é inteiro ou decimal."
      ]
    },
    {
      "cell_type": "code",
      "execution_count": 66,
      "metadata": {
        "id": "sLMlZcx8-20N"
      },
      "outputs": [
        {
          "name": "stdout",
          "output_type": "stream",
          "text": [
            "13.4 é um número decimal\n"
          ]
        }
      ],
      "source": [
        "n = float(input(\"Informe um número: \"))\n",
        "\n",
        "if n%1 == 0:\n",
        "    print(\"%.0f é um número inteiro\" %(n))\n",
        "\n",
        "else:\n",
        "    print(f\"{n} é um número decimal\")"
      ]
    },
    {
      "cell_type": "markdown",
      "metadata": {
        "id": "bKdXSK1SH_pF"
      },
      "source": [
        "### Momento dos projetos"
      ]
    },
    {
      "cell_type": "markdown",
      "metadata": {
        "id": "WBlEyyzsHV86"
      },
      "source": [
        "#### Questão 10\n",
        "Um programa deve ser escrito para ler dois números e, em seguida, perguntar à pessoa usuária qual operação ele deseja realizar. O resultado da operação deve incluir informações sobre o número - se é par ou ímpar, positivo ou negativo e inteiro ou decimal."
      ]
    },
    {
      "cell_type": "code",
      "execution_count": 71,
      "metadata": {
        "id": "3jmahZ0f-2gq"
      },
      "outputs": [
        {
          "name": "stdout",
          "output_type": "stream",
          "text": [
            "Resultado:\n",
            "2.25\n",
            "É ímpar\n",
            "É positivo\n",
            "É decimal\n"
          ]
        }
      ],
      "source": [
        "n1 = float(input(\"Digite um número: \"))\n",
        "n2 = float(input(\"Digite outro número: \"))\n",
        "\n",
        "op = input(\"Qual operação deseja realizar entre os números?\")\n",
        "\n",
        "if op == 'soma':\n",
        "    resultado = n1 + n2\n",
        "    print(f\"Resultado:\\n{resultado}\")\n",
        "    \n",
        "    # verifciar se é par ou ímpar\n",
        "    if resultado%2 == 0:\n",
        "        print(\"É par\")\n",
        "    else:\n",
        "        print(\"É ímpar\")\n",
        "    \n",
        "    #verificar se é positivo ou não\n",
        "    if resultado>0:\n",
        "        print(\"É positivo\")\n",
        "    else:\n",
        "        print('É negativo')\n",
        "    \n",
        "    # verificar se é inteiro ou decimal\n",
        "    if resultado%1 == 0:\n",
        "        print(\"É inteiro\")\n",
        "    \n",
        "    else:\n",
        "        print(\"É decimal\")\n",
        "\n",
        "elif (op == 'subtração') or (op == 'diminuir') or (op == 'subtrair'):\n",
        "    resultado = n1 - n2\n",
        "    print(f\"Resultado:\\n{resultado}\")\n",
        "    \n",
        "    # verifciar se é par ou ímpar\n",
        "    if resultado%2 == 0:\n",
        "        print(\"É par\")\n",
        "    else:\n",
        "        print(\"É ímpar\")\n",
        "    \n",
        "    #verificar se é positivo ou não\n",
        "    if resultado>0:\n",
        "        print(\"É positivo\")\n",
        "    else:\n",
        "        print('É negativo')\n",
        "    \n",
        "    # verificar se é inteiro ou decimal\n",
        "    if resultado%1 == 0:\n",
        "        print(\"É inteiro\")\n",
        "    \n",
        "    else:\n",
        "        print(\"É decimal\")\n",
        "\n",
        "elif (op == 'multiplicação') or (op == 'multiplicar'):\n",
        "    resultado = n1 * n2\n",
        "    print(f\"Resultado:\\n{resultado}\")\n",
        "    \n",
        "    # verifciar se é par ou ímpar\n",
        "    if resultado%2 == 0:\n",
        "        print(\"É par\")\n",
        "    else:\n",
        "        print(\"É ímpar\")\n",
        "    \n",
        "    #verificar se é positivo ou não\n",
        "    if resultado>0:\n",
        "        print(\"É positivo\")\n",
        "    else:\n",
        "        print('É negativo')\n",
        "    \n",
        "    # verificar se é inteiro ou decimal\n",
        "    if resultado%1 == 0:\n",
        "        print(\"É inteiro\")\n",
        "    \n",
        "    else:\n",
        "        print(\"É decimal\")\n",
        "\n",
        "elif (op == 'divisão') or (op == 'dividir'):\n",
        "    resultado = n1/n2\n",
        "    print(f\"Resultado:\\n{resultado}\")\n",
        "    \n",
        "    # verifciar se é par ou ímpar\n",
        "    if resultado%2 == 0:\n",
        "        print(\"É par\")\n",
        "    else:\n",
        "        print(\"É ímpar\")\n",
        "    \n",
        "    #verificar se é positivo ou não\n",
        "    if resultado>0:\n",
        "        print(\"É positivo\")\n",
        "    else:\n",
        "        print(\"É negativo\")\n",
        "    \n",
        "    # verificar se é inteiro ou decimal\n",
        "    if resultado%1 == 0:\n",
        "        print(\"É inteiro\")\n",
        "    \n",
        "    else:\n",
        "        print(\"É decimal\")\n",
        "\n",
        "else:\n",
        "    print(\"Tente novamente\")"
      ]
    },
    {
      "cell_type": "markdown",
      "metadata": {
        "id": "VdnlULxHHW19"
      },
      "source": [
        "#### Questão 11\n",
        "Escreva um programa que peça à pessoa usuária três números que representam os lados de um triângulo. O programa deve informar se os valores podem ser utilizados para formar um triângulo e, caso afirmativo, se ele é equilátero, isósceles ou escaleno. Tenha em mente algumas dicas:\n",
        "- Três lados formam um triângulo quando a soma de quaisquer dois lados for maior que o terceiro;\n",
        "- Triângulo Equilátero: três lados iguais;\n",
        "- Triângulo Isósceles: quaisquer dois lados iguais;\n",
        "- Triângulo Escaleno: três lados diferentes;\n"
      ]
    },
    {
      "cell_type": "code",
      "execution_count": 76,
      "metadata": {
        "id": "0z73sqUO-2Pw"
      },
      "outputs": [
        {
          "name": "stdout",
          "output_type": "stream",
          "text": [
            "Os valores informados podem formar um triângulo\n",
            "O triângulo formado é equilátero\n"
          ]
        }
      ],
      "source": [
        "lado1 = float(input(\"Informe o primeiro lado do triângulo: \"))\n",
        "lado2 = float(input(\"Informe o segundo lado do triângulo: \"))\n",
        "lado3 = float(input(\"Informe o terceiro lado do triângulo: \"))\n",
        "\n",
        "if (lado1 + lado2 > lado3) and (lado2 + lado3 > lado1) and (lado3 + lado1 > lado2):\n",
        "    print(\"Os valores informados podem formar um triângulo\")\n",
        "    \n",
        "    #verificar que tipo de triângulo é\n",
        "    if (lado1 == lado2) and (lado2 == lado3) and (lado1 == lado3):\n",
        "        print(\"O triângulo formado é equilátero\")\n",
        "    \n",
        "    elif ((lado1 == lado2) != lado3) and ((lado1 == lado3) != lado2) and ((lado2 == lado3) != lado1):\n",
        "        #essa verificação poderia ter sido colocada no 'else' assim se nenhuma fosse verdadeira, ele iria direto para o isósceles\n",
        "        print(\"O triângulo formado é isósceles\")\n",
        "    \n",
        "    elif (lado1 != lado2) and (lado1 != lado3) and (lado2 != lado3):\n",
        "        print(\"O triângulo formado é escaleno\")\n",
        "    \n",
        "    else:\n",
        "        print(\"Não foi possível definir o tipo de triângulo formado\")\n",
        "\n",
        "else:\n",
        "    print(\"Não foi possível formar um triângulo com os valores informados. Tente novamente\")"
      ]
    },
    {
      "cell_type": "markdown",
      "metadata": {
        "id": "_PpEpOugHXwZ"
      },
      "source": [
        "#### Questão 12\n",
        "Um estabelecimento está vendendo combustíveis com descontos variados. Para o etanol, se a quantidade comprada for até 15 litros, o desconto será de 2% por litro. Caso contrário, será de 4% por litro. Para o diesel, se a quantidade comprada for até 15 litros, o desconto será de 3% por litro. Caso contrário, será de 5% por litro. O preço do litro de diesel é R\\$ 2,00 e o preço do litro de etanol é R\\$ 1,70. Escreva um programa que leia a quantidade de litros vendidos e o tipo de combustível (E para etanol e D para diesel) e calcule o valor a ser pago pelo cliente. Tenha em mente algumas dicas:\n",
        "\n",
        "- O do valor do desconto será a multiplicação entre preço do litro, quantidade de litros e o valor do desconto.\n",
        "- O valor a ser pago por um cliente será o resultado da multiplicação do preço do litro pela quantidade de litros menos o valor de desconto resultante do cálculo.\n"
      ]
    },
    {
      "cell_type": "code",
      "execution_count": 82,
      "metadata": {
        "id": "9izoF-0O-1yD"
      },
      "outputs": [
        {
          "name": "stdout",
          "output_type": "stream",
          "text": [
            "Valor total a ser pago, considerando os descontos será de R$29.1\n"
          ]
        }
      ],
      "source": [
        "combs = input(\"Informe com qual combústivel deseja abastecer: \").upper()\n",
        "litro = float(input(\"Agora informe quantos litros deseja abastecer: \"))\n",
        "\n",
        "if combs == 'ETANOL':\n",
        "    #calcular valor total\n",
        "    vtotal = litro * 1.70\n",
        "    #calcular desconto\n",
        "    if litro <= 15:\n",
        "        resultado = vtotal * (2/100)\n",
        "        vpago = vtotal - resultado\n",
        "    else:\n",
        "        resultado = vtotal * (4/100)\n",
        "        vpago = vtotal - resultado\n",
        "        \n",
        "elif combs == 'DIESEL':\n",
        "    #valor total\n",
        "    vtotal = litro * 2.00\n",
        "    # calcular desconto\n",
        "    if litro <= 15:\n",
        "        resultado = vtotal * (3/100)\n",
        "        vpago = vtotal - resultado\n",
        "    else:\n",
        "        resultado = vtotal * (5/100)\n",
        "        vpago = vtotal - resultado\n",
        "print(f\"Valor total a ser pago, considerando os descontos será de R${vpago}\")\n"
      ]
    },
    {
      "cell_type": "markdown",
      "metadata": {
        "id": "s_XS_D1WHY2R"
      },
      "source": [
        "#### Questão 13\n",
        "Em uma empresa de venda de imóveis você precisa criar um código que analise os dados de vendas anuais para ajudar a diretoria na tomada de decisão. O código precisa coletar os dados de quantidade de venda durante os anos de 2022 e 2023 e fazer um cálculo de variação percentual. A partir do valor da variação, deve ser enviada às seguintes sugestões:\n",
        "- Para variação acima de 20%: bonificação para o time de vendas.\n",
        "- Para variação entre 2% e 20%: pequena bonificação para time de vendas.\n",
        "- Para variação entre 2% e -10%: planejamento de políticas de incentivo às vendas.\n",
        "- Para bonificações abaixo de -10%: corte de gastos.\n"
      ]
    },
    {
      "cell_type": "code",
      "execution_count": 86,
      "metadata": {
        "id": "avQrYlUg-w8f"
      },
      "outputs": [
        {
          "name": "stdout",
          "output_type": "stream",
          "text": [
            "Corte de gastos\n"
          ]
        }
      ],
      "source": [
        "venda2k22 = float(input(\"Informe o total de vendas de 2022: \"))\n",
        "venda2k23 = float(input(\"Informe o total de vendas de 2023: \"))\n",
        "\n",
        "# certificar de que a operação será feita de forma correta\n",
        "'''\n",
        "Para calcular var percentual:\n",
        "((maiorValor - menorValor)/ menorValor) * 100\n",
        "Essa fórmula é para var percentual de aumento. Caso queira calcular a var percentual de redução, basta dividir pelo maiorValor;\n",
        "o restante se mantém\n",
        "'''\n",
        "maiorVenda = venda2k22\n",
        "if venda2k23 > maior:\n",
        "    maiorVenda = venda2k23\n",
        "    menorVenda = venda2k22\n",
        "else:\n",
        "    maiorVenda = venda2k22\n",
        "    menorVenda = venda2k23\n",
        "\n",
        "varPercentual = ((maiorVenda - menorVenda)/ menorVenda) * 100\n",
        "\n",
        "if varPercentual > 20:\n",
        "    print(\"Bonificação para o time de vendas\")\n",
        "\n",
        "elif 2<= varPercentual <=20:\n",
        "    print(\"Pequena bonificação para o time de vendas\")\n",
        "    \n",
        "elif 2<= varPercentual >=-10:\n",
        "    print(\"Planejamento de políticas de incentivo às vendas\")\n",
        "\n",
        "else:\n",
        "    print(\"Corte de gastos\")"
      ]
    },
    {
      "cell_type": "markdown",
      "metadata": {
        "id": "AuaWh4-d2Itt"
      },
      "source": [
        "## Aula 4 - Estruturas de repetição"
      ]
    },
    {
      "cell_type": "markdown",
      "metadata": {
        "id": "6MSqU0sIJRdD"
      },
      "source": [
        "### Aquecendo na programação"
      ]
    },
    {
      "cell_type": "markdown",
      "metadata": {
        "id": "9eGGyCnAJRdQ"
      },
      "source": [
        "#### Questão 1\n",
        "Escreva um programa que peça dois números inteiros e imprima todos os números inteiros entre eles."
      ]
    },
    {
      "cell_type": "code",
      "execution_count": 24,
      "metadata": {
        "id": "ID1oc1hxJRdQ"
      },
      "outputs": [
        {
          "name": "stdout",
          "output_type": "stream",
          "text": [
            "2\n",
            "3\n",
            "4\n",
            "5\n",
            "6\n",
            "7\n",
            "8\n",
            "9\n"
          ]
        }
      ],
      "source": [
        "i=0\n",
        "\n",
        "num1 = int(input(\"Digite o primeiro número: \"))\n",
        "num2 = int(input(\"Digite o segundo número: \"))\n",
        "\n",
        "if num1< num2:\n",
        "                    #não imprime o primeiro valor\n",
        "    for i in range(num1+1, num2):\n",
        "        print(i)\n",
        "elif num1>num2:\n",
        "                    #começa com num2+1 e termina no valor de num1-1\n",
        "                    #não imprime o último valor\n",
        "    for i in range(num2+1, num1):\n",
        "        print(i)\n",
        "else:\n",
        "    print('Os dois números são iguais')"
      ]
    },
    {
      "cell_type": "markdown",
      "metadata": {
        "id": "mGonEHYCJRdR"
      },
      "source": [
        "#### Questão 2\n",
        "Escreva um programa para calcular quantos dias levará para a colônia de uma bactéria A ultrapassar ou igualar a colônia de uma bactéria B, com base nas taxas de crescimento de 3% e 1,5% respectivamente. Considere que a colônia A inicia com 4 elementos e a colônia B com 10 elementos."
      ]
    },
    {
      "cell_type": "code",
      "execution_count": 42,
      "metadata": {
        "id": "wM6FJuoqJRdR"
      },
      "outputs": [
        {
          "name": "stdout",
          "output_type": "stream",
          "text": [
            "A colônia A levou 63 dias para ultrapassar a colônia B, e seu tamanho atual foi de 25.75165514029839 enquanto a colônia B está com o tamanho de 25.548220848110983\n"
          ]
        }
      ],
      "source": [
        "coloniaA = 4\n",
        "coloniaB = 10\n",
        "\n",
        "taxCrescA = 0.03\n",
        "taxCrescB = 0.015\n",
        "dias=0\n",
        "\n",
        "while coloniaA <= coloniaB:\n",
        "    '''\n",
        "    Ao multiplicar o tamanho atual pela taxa de crescimento mais 1,\n",
        "    estamos considerando a variação diária do tamanho da colônia\n",
        "    e ajustando a taxa de crescimento para avaliar\n",
        "    a crescente população da colônia a cada dia.\n",
        "    '''\n",
        "    coloniaA *= 1 + taxCrescA\n",
        "    coloniaB *=  1+ taxCrescB\n",
        "    \n",
        "    dias+=1\n",
        "\n",
        "if coloniaA > coloniaB:\n",
        "    print(f'A colônia A levou {dias} dias para ultrapassar a colônia B, e seu tamanho atual foi de {coloniaA} enquanto a colônia B está com o tamanho de {coloniaB}')\n",
        "else: \n",
        "    print(f'A colônia A levou {dias} dias para igualar seu tamanho a colônia B, as duas tiveram o tamannho de:\\nColônia A: {coloniaA}\\nColônia B: {coloniaB}')"
      ]
    },
    {
      "cell_type": "markdown",
      "metadata": {
        "id": "UiOZRlqoJRdR"
      },
      "source": [
        "#### Questão 3\n",
        "Para tratar uma quantidade de 15 dados de avaliações de pessoas usuárias de um serviço da empresa, precisamos verificar se as notas são válidas. Então, escreva um programa que vai receber a nota de 0 a 5 de todos os dados e verificar se é um valor válido. Caso seja inserido uma nota acima de 5 ou abaixo de 0, repita até que a pessoa usuária insira um valor válido."
      ]
    },
    {
      "cell_type": "code",
      "execution_count": 4,
      "metadata": {
        "id": "3TUAhCxcJRdR"
      },
      "outputs": [
        {
          "name": "stdout",
          "output_type": "stream",
          "text": [
            "Verficação concluída. Todas as notas são válidas\n"
          ]
        }
      ],
      "source": [
        "for i in range (15):\n",
        "    nota = float(input(f\"Insira a nota do usuário {i}: \"))\n",
        "    \n",
        "    #a nota só pode estar entre 0 e 5; se for maior do que 5 o código repete e pede parao usuário digitar novamente\n",
        "    \n",
        "    while (nota <0) or (nota >5):\n",
        "        nota = float(input(f\"Nota inválida. Insira novamente a nota da pessoa usuária{i}: \"))\n",
        "print(\"Verficação concluída. Todas as notas são válidas\")"
      ]
    },
    {
      "cell_type": "markdown",
      "metadata": {},
      "source": [
        "#### Questão 4\n",
        "Desenvolva um programa que leia um conjunto indeterminado de temperaturas em Celsius e faça uma análise. Portanto, escreva um programa que leia temperaturas e informe a média delas. A leitura deve ser encerrada ao ser enviado o valor -273°C."
      ]
    },
    {
      "cell_type": "code",
      "execution_count": 6,
      "metadata": {
        "id": "85tBBj5KJRdS"
      },
      "outputs": [
        {
          "name": "stdout",
          "output_type": "stream",
          "text": [
            "Informe a temperatura e para encerrar o programa digite -273\n",
            "A média das temperaturas informadas é: 45ºC\n"
          ]
        }
      ],
      "source": [
        "print(\"Informe a temperatura e para encerrar o programa digite -273\")\n",
        "temp = float(input(\"Informe a temperatura atual: \"))\n",
        "\n",
        "cont= 0\n",
        "soma=0\n",
        "\n",
        "while temp != -273:\n",
        "    soma += temp\n",
        "    \n",
        "    cont+=1\n",
        "    temp = float(input(\"Informe a temperatura atual: \"))\n",
        "\n",
        "print(\"A média das temperaturas informadas é: %.0fºC\" %(soma/cont))"
      ]
    },
    {
      "cell_type": "markdown",
      "metadata": {
        "id": "IjkbAfGcJRdS"
      },
      "source": [
        "#### Questão 5\n",
        "Escreva um programa que calcule o fatorial de um número inteiro fornecido pela pessoa usuária. O fatorial de um número inteiro é a multiplicação desse número por todos os seus antecessores até o número 1. Por exemplo, o fatorial de 5 é 5 x 4 x 3 x 2 x 1 = 120."
      ]
    },
    {
      "cell_type": "code",
      "execution_count": 8,
      "metadata": {
        "id": "7RTH8o0HJRdS"
      },
      "outputs": [
        {
          "name": "stdout",
          "output_type": "stream",
          "text": [
            "Vamos calcular o fatorial de um número\n",
            "Resultado do fatorail de 5 é: 120\n"
          ]
        }
      ],
      "source": [
        "\n",
        "print(\"Vamos calcular o fatorial de um número\")\n",
        "\n",
        "num = int(input(\"Informe o número: \"))\n",
        "fat=1\n",
        "\n",
        "i = num\n",
        "while  i > 0:\n",
        "    \n",
        "    fat *= i\n",
        "    i-=1\n",
        "        \n",
        "print(f\"Resultado do fatorail de {num} é: {fat}\")"
      ]
    },
    {
      "cell_type": "markdown",
      "metadata": {
        "id": "oGNKuQjsJRdT"
      },
      "source": [
        "### Momento dos projetos"
      ]
    },
    {
      "cell_type": "markdown",
      "metadata": {
        "id": "ODxaTUYmJRdS"
      },
      "source": [
        "#### Questão 6\n",
        "Escreva um programa que gere a tabuada de um número inteiro de 1 a 10, de acordo com a escolha da pessoa usuária. Como exemplo, para o número 2, a tabuada deve ser mostrada no seguinte formato:\n",
        "```\n",
        "Tabuada do 2:\n",
        "2 x 1 = 2\n",
        "2 x 2 = 4\n",
        "[...]\n",
        "2 x 10 = 20\n",
        "```"
      ]
    },
    {
      "cell_type": "code",
      "execution_count": 12,
      "metadata": {
        "id": "lkTlbxPIJRdS"
      },
      "outputs": [
        {
          "name": "stdout",
          "output_type": "stream",
          "text": [
            "Vamos fazer uma tabuada\n",
            "1205 x 0 = 0\n",
            "\n",
            "1205 x 1 = 1205\n",
            "\n",
            "1205 x 2 = 2410\n",
            "\n",
            "1205 x 3 = 3615\n",
            "\n",
            "1205 x 4 = 4820\n",
            "\n",
            "1205 x 5 = 6025\n",
            "\n",
            "1205 x 6 = 7230\n",
            "\n",
            "1205 x 7 = 8435\n",
            "\n",
            "1205 x 8 = 9640\n",
            "\n",
            "1205 x 9 = 10845\n",
            "\n",
            "1205 x 10 = 12050\n",
            "\n"
          ]
        }
      ],
      "source": [
        "print(\"Vamos fazer uma tabuada\")\n",
        "n = int(input('Digite um número qualquer: '))\n",
        "\n",
        "multi=0\n",
        "\n",
        "while multi <=10:\n",
        "    result =n *multi\n",
        "    print(\"%d x %d = %d\\n\" %(n, multi, result))\n",
        "    multi+=1"
      ]
    },
    {
      "cell_type": "markdown",
      "metadata": {
        "id": "LeIbnt8VJRdS"
      },
      "source": [
        "#### Questão 7\n",
        "Os números primos possuem várias aplicações dentro da Ciência de Dados, por exemplo, na criptografia e segurança. Um número primo é aquele que é divisível apenas por um e por ele mesmo. Faça um programa que peça um número inteiro e determine se ele é ou não um número primo."
      ]
    },
    {
      "cell_type": "code",
      "execution_count": 5,
      "metadata": {
        "id": "2rcNU7twJRdS"
      },
      "outputs": [
        {
          "name": "stdout",
          "output_type": "stream",
          "text": [
            "Vamos determinar se um número é primo ou não\n",
            "7 é um número primo\n"
          ]
        }
      ],
      "source": [
        "print('Vamos determinar se um número é primo ou não')\n",
        "\n",
        "n = int(input('Digite um número: '))\n",
        "\n",
        "i=0\n",
        "if n>0:\n",
        "    \n",
        "    for i in range(2, n):\n",
        "        if (n%i) == 0:\n",
        "            print(\"Não é primo\")\n",
        "            break\n",
        "        else:\n",
        "            print(\"%d é um número primo\" %(n))\n",
        "            break\n",
        "else:\n",
        "    print(\"Não há números primos negativos\")"
      ]
    },
    {
      "cell_type": "markdown",
      "metadata": {
        "id": "QTwb6QaCJRdT"
      },
      "source": [
        "#### Questão 8\n",
        "Vamos entender a distribuição de idades de pensionistas de uma empresa de previdência. Escreva um programa que leia as idades de uma quantidade não informada de clientes e mostre a distribuição em intervalos de [0-25], [26-50], [51-75] e [76-100]. Encerre a entrada de dados com um número negativo."
      ]
    },
    {
      "cell_type": "code",
      "execution_count": 6,
      "metadata": {
        "id": "4IAhaDmYJRdT"
      },
      "outputs": [
        {
          "name": "stdout",
          "output_type": "stream",
          "text": [
            "Vamos fazer a distribuição dos pensionistas por idades\n",
            "\n",
            "\n",
            "Insira 0 para finalizar\n",
            "Distribuição por idades:\n",
            "De 0-25:7\n",
            "De 26-50:2\n",
            "De 51-75:3\n",
            "De 76-100:2\n"
          ]
        }
      ],
      "source": [
        "print('Vamos fazer a distribuição dos pensionistas por idades\\n')\n",
        "\n",
        "idade = int(input('Digite sua idade: '))\n",
        "print(\"\\nInsira um número negativo para finalizar\")\n",
        "#dis\n",
        "dis0_25 =0\n",
        "dis26_50 =0\n",
        "dis51_75 =0\n",
        "dis76_100 =0\n",
        "\n",
        "while idade >=0:\n",
        "    if 0 <= idade <= 25:\n",
        "        dis0_25+=1\n",
        "    elif 26<= idade <=50:\n",
        "        dis26_50 +=1\n",
        "    elif 51<=idade<=75:\n",
        "        dis51_75 +=1\n",
        "    elif 76<=idade<=100:\n",
        "        dis76_100 +=1\n",
        "    \n",
        "    idade = int(input('Digite sua idade: '))\n",
        "    \n",
        "print('Distribuição por idades:')\n",
        "print(f'De 0-25:{dis0_25}')\n",
        "print(f'De 26-50:{dis26_50}')\n",
        "print(f'De 51-75:{dis51_75}')\n",
        "print(f'De 76-100:{dis76_100}')"
      ]
    },
    {
      "cell_type": "markdown",
      "metadata": {
        "id": "soJCQVwRJRdT"
      },
      "source": [
        "#### Questão 9\n",
        "Em uma eleição para gerência em uma empresa com 20 funcionários, existem quatro candidatos. Escreva um programa que calcule o vencedor da eleição. A votação ocorreu da seguinte maneira:\n",
        "- Cada funcionário votou em um dos quatro candidatos (representados pelos números 1, 2, 3 e 4).\n",
        "- Também foram contabilizados os votos nulos (representado pelo número 5) e os votos em branco (representado pelo número 6).\n",
        "\n",
        "Ao final da votação, o programa deve exibir o total de votos para cada candidato, o número de votos nulos e o número de votos em branco. Além disso, deve calcular e exibir a porcentagem de votos nulos em relação ao total de votos e a porcentagem de votos em branco em relação ao total de votos."
      ]
    },
    {
      "cell_type": "code",
      "execution_count": 7,
      "metadata": {
        "id": "041EFrgG-4gR"
      },
      "outputs": [
        {
          "name": "stdout",
          "output_type": "stream",
          "text": [
            "Aberta a eleição para a gerência\n",
            "Os números dos candidatos são\n",
            "Candidato 1: 1\n",
            "Candidato 2: 2\n",
            "Candidato 3: 3\n",
            " Candidato 4: 4\n",
            " Voto Nulo: 5\n",
            "Voto Branco: 6\n",
            "\n",
            "\n"
          ]
        },
        {
          "name": "stdout",
          "output_type": "stream",
          "text": [
            "Valor inválido. Candidato não encontrado no sistema\n",
            "\n"
          ]
        }
      ],
      "source": [
        "print(\"Aberta a eleição para a gerência\")\n",
        "print('Os números dos candidatos são\\nCandidato 1: 1\\nCandidato 2: 2\\nCandidato 3: 3\\n Candidato 4: 4\\n Voto Nulo: 5\\nVoto Branco: 6\\n\\n')\n",
        "\n",
        "cand1=0\n",
        "cand2=0\n",
        "cand3=0\n",
        "cand4=0\n",
        "nulo=0\n",
        "branco=0\n",
        "for c in range(0,20):\n",
        "    \n",
        "        c = int(input('\\nInsira o número do seu candidato: '))\n",
        "        \n",
        "        if c == 1:\n",
        "            cand1+=1\n",
        "        \n",
        "        elif c==2:\n",
        "            cand2+=1\n",
        "        \n",
        "        elif c==3:\n",
        "            cand3+=1\n",
        "            \n",
        "        elif c==4:\n",
        "            cand4+=1\n",
        "        \n",
        "        elif c == 5:\n",
        "            nulo+=1\n",
        "        else:\n",
        "            print(\"Valor inválido. Candidato não encontrado no sistema\\n\")\n",
        "        \n",
        "print(f'\\n\\nVotos candidato 1: {cand1}')\n",
        "print(f'Votos candidato 2: {cand2}')\n",
        "print(f'Votos candidato 3: {cand3}')\n",
        "print(f'Votos candidato 4: {cand4}')\n",
        "print(f'Votos nulos: {nulo}')\n",
        "print(f'Votos em branco: {branco}')\n",
        "print(f'Percentual de votos nulos: {(nulo / 20 * 100)}')\n",
        "print(f'Percentual de votos em branco: {(branco / 20 * 100)}')\n"
      ]
    },
    {
      "cell_type": "markdown",
      "metadata": {
        "id": "eijHQiNU2IZ7"
      },
      "source": [
        "## Aula 5 - Estruturas de dados"
      ]
    },
    {
      "cell_type": "markdown",
      "metadata": {
        "id": "92F0bKtBMgd7"
      },
      "source": [
        "### Aquecendo na programação"
      ]
    },
    {
      "cell_type": "markdown",
      "metadata": {
        "id": "IypX2ANuMgeC"
      },
      "source": [
        "#### Questão 1\n",
        "Faça um programa que tenha a seguinte lista contendo os valores de gastos de uma empresa de papel `[2172.54, 3701.35, 3518.09, 3456.61, 3249.38, 2840.82, 3891.45, 3075.26, 2317.64, 3219.08]`. Com esses valores, faça um programa que calcule a média de gastos. Dica, use as funções built-in [`sum()`](https://docs.python.org/3/library/functions.html#sum) e [`len()`](https://docs.python.org/3/library/functions.html#len)."
      ]
    },
    {
      "cell_type": "code",
      "execution_count": 25,
      "metadata": {
        "id": "ge3LuFhLMgeD"
      },
      "outputs": [
        {
          "name": "stdout",
          "output_type": "stream",
          "text": [
            "31442.22\n",
            "10\n",
            "3144.222\n"
          ]
        }
      ],
      "source": [
        "gastos = [2172.54, 3701.35, 3518.09, 3456.61, 3249.38, 2840.82, 3891.45, 3075.26, 2317.64, 3219.08]\n",
        "\n",
        "soma = sum(gastos)\n",
        "qtGastos = len(gastos)\n",
        "media = soma / tamanho\n",
        "print(soma)\n",
        "print(qtGastos)\n",
        "print(media)"
      ]
    },
    {
      "cell_type": "markdown",
      "metadata": {
        "id": "xrOeLhQkMgeD"
      },
      "source": [
        "#### Questão 2\n",
        " Com os mesmos dados da questão anterior, defina quantas compras foram acima de 3000 reais e calcule a porcentagem quanto ao total de compras."
      ]
    },
    {
      "cell_type": "code",
      "execution_count": 27,
      "metadata": {
        "id": "Ygu5TMZyMgeD"
      },
      "outputs": [
        {
          "name": "stdout",
          "output_type": "stream",
          "text": [
            "Porcentagem de gastos acima de R$3000: 70.0%\n",
            "Quantidade de compras acima de R$3000: 7\n"
          ]
        }
      ],
      "source": [
        "gastos = [2172.54, 3701.35, 3518.09, 3456.61, 3249.38, 2840.82, 3891.45, 3075.26, 2317.64, 3219.08]\n",
        "acima3k=0\n",
        "\n",
        "for gasto in gastos:\n",
        "    if gasto >=3000:\n",
        "        acima3k+=1\n",
        "    \n",
        "porcentAcima3k =100 * (acima3k / qtGastos)\n",
        "float(porcentAcima3k)\n",
        "print('Porcentagem de gastos acima de R$3000: %.1f%%' %(porcentAcima3k))\n",
        "print('Quantidade de compras acima de R$3000: %d' %(acima3k))\n"
      ]
    },
    {
      "cell_type": "markdown",
      "metadata": {
        "id": "JgCOrE_BMgeD"
      },
      "source": [
        "#### Questão 3\n",
        "Faça um código que colete em uma lista 5 números inteiros quaisquer e imprima a lista. Exemplo: `[1,4,7,2,4]`."
      ]
    },
    {
      "cell_type": "code",
      "execution_count": 36,
      "metadata": {
        "id": "vtM9O1hLMgeD"
      },
      "outputs": [
        {
          "name": "stdout",
          "output_type": "stream",
          "text": [
            "[1, 2, 3, 4, 5]\n"
          ]
        }
      ],
      "source": [
        "lista = []\n",
        "\n",
        "for i in range(0,5):\n",
        "    \n",
        "        n = int(input('Insira um número inteiro'))\n",
        "        lista.append(n)\n",
        "print(lista)\n"
      ]
    },
    {
      "cell_type": "markdown",
      "metadata": {
        "id": "p3bTp88HMgeD"
      },
      "source": [
        "#### Questão 4\n",
        "Colete novamente 5 inteiros e imprima a lista em ordem inversa à enviada."
      ]
    },
    {
      "cell_type": "code",
      "execution_count": 46,
      "metadata": {
        "id": "-CGwMIyHMgeD"
      },
      "outputs": [
        {
          "name": "stdout",
          "output_type": "stream",
          "text": [
            "[5, 4, 3, 2, 1]\n"
          ]
        }
      ],
      "source": [
        "lista = []\n",
        "\n",
        "for i in range(0, 5):\n",
        "    \n",
        "        n = int(input('Insira um número inteiro'))\n",
        "        lista.append(n)\n",
        "        \n",
        "print(lista[::-1])\n"
      ]
    },
    {
      "cell_type": "markdown",
      "metadata": {
        "id": "eIXd_z1lMgeD"
      },
      "source": [
        "#### Questão 5\n",
        "Faça um programa que, ao inserir um número qualquer, criará uma lista contendo todos os números primos entre 1 e o número digitado."
      ]
    },
    {
      "cell_type": "code",
      "execution_count": 1,
      "metadata": {
        "id": "rj_6GHstMgeE"
      },
      "outputs": [
        {
          "name": "stdout",
          "output_type": "stream",
          "text": [
            "O(s) primeiro(s) 1 numeros primos são: [3], O(s) primeiro(s) 2 numeros primos são: [3, 5], [3, 5], O(s) primeiro(s) 3 numeros primos são: [3, 5, 5], [3, 5, 5], [3, 5, 5], O(s) primeiro(s) 4 numeros primos são: [3, 5, 5, 5], [3, 5, 5, 5], [3, 5, 5, 5], [3, 5, 5, 5], "
          ]
        }
      ],
      "source": [
        "# Coletamos o números\n",
        "numero = int(input('Digite um número inteiro: '))\n",
        "\n",
        "# Lista para receber os números primos\n",
        "listaP = []\n",
        "\n",
        "# Laço que vai rodar por todos os números abaixo do número digitado\n",
        "for num in range(2, numero):\n",
        "    # a condição abaixo não é verdadeira para os números primos, pois números \n",
        "    # primos são aqueles que não podem ser divididos por nenhum número, \n",
        "    # exceto 1 e a própria raiz quadrada do número.\n",
        "    if (num > 1) and (num == 0 or num == 1):\n",
        "        #A função continue no primeiro for irá pular a execução do\n",
        "        # restante do código do loop atual e continuar na próxima iteração.\n",
        "        # Portanto, neste caso, os números 0 e 1 serão pulados e não serão\n",
        "        # verificados como números primos.\n",
        "        continue\n",
        "    else:\n",
        "        # vai verificar se o número atual é divisível por qualquer\n",
        "        # número entre 2 e ele mesmo\n",
        "        for i in range(2, num):\n",
        "            if (num % i) == 0:\n",
        "                break\n",
        "            else:\n",
        "                listaP.append(num)\n",
        "                print(f'O(s) primeiro(s) {len(listaP)} numeros primos são: ', end='')\n",
        "                for p in listaP:\n",
        "                    print(listaP, end=', ')\n"
      ]
    },
    {
      "cell_type": "markdown",
      "metadata": {
        "id": "zrbz3ENlMgeE"
      },
      "source": [
        "#### Questão 6\n",
        "Escreva um programa que peça uma data informando o dia, mês e ano e determine se ela é uma data válida para uma análise."
      ]
    },
    {
      "cell_type": "code",
      "execution_count": 4,
      "metadata": {
        "id": "0eYA8UjTMgeE"
      },
      "outputs": [
        {
          "name": "stdout",
          "output_type": "stream",
          "text": [
            "Data válida\n"
          ]
        }
      ],
      "source": [
        "dia = int(input('Digite um dia: '))\n",
        "mes = int(input('Digite um mes: '))\n",
        "ano = int(input('Digite um ano: '))\n",
        "\n",
        "if mes == 2:\n",
        "    #verificando se é bissexto\n",
        "    if ano % 4 == 0 and (ano % 400 == 0 or ano % 100 != 0):\n",
        "        dias_fevereiro = 29\n",
        "    else:\n",
        "        dias_fevereiro = 28\n",
        "    if (dia>=1) and (dia<=dias_fevereiro):\n",
        "        print('Data válida')\n",
        "    else: \n",
        "        print('Data inválida')\n",
        "\n",
        "#mese com 31 dias\n",
        "elif mes in [1, 3, 5, 7, 8, 10, 12]:\n",
        "    if (dia>=1) and (dia<=31):\n",
        "        print('Data válida')\n",
        "    else:\n",
        "        print('Data inválida')\n",
        "\n",
        "# meses com 30 dias\n",
        "elif mes in [4, 6, 9, 11]:\n",
        "    if (dia>=1) and (dia<=30):\n",
        "        print('Data válida')\n",
        "    else:\n",
        "        print('Data inválida')\n",
        "\n",
        "else:\n",
        "    print('Data inválida')"
      ]
    },
    {
      "cell_type": "markdown",
      "metadata": {
        "id": "ut_4VHdGMgeE"
      },
      "source": [
        "### Momento dos projetos"
      ]
    },
    {
      "cell_type": "markdown",
      "metadata": {
        "id": "G86Z0vD_MgeE"
      },
      "source": [
        "#### Questão 7\n",
        "Para um estudo envolvendo o nível de multiplicação de bactérias em uma colônia, foi coletado o número de bactérias multiplicadas por dia, com base em um processo de duplicação diária e pode ser observado a seguir: `[1.2, 2.1, 3.3, 5.0, 7.8, 11.3, 16.6, 25.1, 37.8, 56.9]`. Tendo esses valores, faça um código que gere uma lista contendo o percentual de crescimento de bactérias por dia, comparando o número de bactérias em cada dia com o número de bactérias do dia anterior. Dica: para calcular o percentual de crescimento usamos a seguinte equação: `100 * (amostra_atual - amostra_passada) / (amostra_passada)`."
      ]
    },
    {
      "cell_type": "code",
      "execution_count": 17,
      "metadata": {
        "id": "PXNO_CFkMgeE"
      },
      "outputs": [
        {
          "name": "stdout",
          "output_type": "stream",
          "text": [
            "Taxa de variação:  [75.00000000000001, 57.142857142857125, 51.51515151515153, 56.0, 44.87179487179489, 46.90265486725664, 51.20481927710843, 50.59760956175297, 50.52910052910054]\n"
          ]
        }
      ],
      "source": [
        "coloniaBac = [1.2, 2.1, 3.3, 5.0, 7.8, 11.3, 16.6, 25.1, 37.8, 56.9]\n",
        "tax_Var = []\n",
        "for i in range(1, len(coloniaBac)):\n",
        "    operacao = 100 * (coloniaBac[i] - coloniaBac[i-1]) / (coloniaBac[i-1])\n",
        "    tax_Var.append(operacao)\n",
        "    \n",
        "print(\"Taxa de variação: \", tax_Var)"
      ]
    },
    {
      "cell_type": "markdown",
      "metadata": {
        "id": "p4nxogpnMgeE"
      },
      "source": [
        "#### Questão 8\n",
        "Para uma seleção de produtos alimentícios, precisamos separar o conjunto de IDs dados por números inteiros, sabendo que os produtos com ID par são doces e os com ID ímpar são amargos. Monte um código que colete 10 IDs. Depois, calcule e mostre a quantidade de produtos doces e amargos."
      ]
    },
    {
      "cell_type": "code",
      "execution_count": 4,
      "metadata": {
        "id": "WqjO2SZkMgeE"
      },
      "outputs": [
        {
          "name": "stdout",
          "output_type": "stream",
          "text": [
            "Quantidade de produtos doces: 32\n",
            "Quantidade de produtos amargos: 23\n"
          ]
        }
      ],
      "source": [
        "ID = []\n",
        "doce=0\n",
        "amargo=0\n",
        "for i in range(1,11):\n",
        "    ID.append(int(input('Digite o [i]º ID: ')))\n",
        "    \n",
        "    for id in ID:\n",
        "        \n",
        "        if id % 2 == 0:\n",
        "            doce+=1\n",
        "        else:\n",
        "            amargo+=1\n",
        "print(f'Quantidade de produtos doces: {doce}')\n",
        "print(f'Quantidade de produtos amargos: {amargo}')"
      ]
    },
    {
      "cell_type": "markdown",
      "metadata": {
        "id": "t5OrLxV6MgeE"
      },
      "source": [
        "#### Questão 9\n",
        "Desenvolva um programa que informa a nota de um aluno de acordo com suas respostas. Ele deve pedir a resposta de um aluno para cada questão e é preciso verificar se a resposta foi igual ao gabarito. Cada questão vale um ponto e existem alternativas:  A, B, C ou D.\n",
        "```\n",
        "Gabarito da Prova:\n",
        "01 - D\n",
        "02 - A\n",
        "03 - C\n",
        "04 - B\n",
        "05 - A\n",
        "06 - D\n",
        "07 - C\n",
        "08 - C\n",
        "09 - A\n",
        "10 - B\n",
        "```"
      ]
    },
    {
      "cell_type": "code",
      "execution_count": 6,
      "metadata": {
        "id": "ytIQDJrQMgeE"
      },
      "outputs": [
        {
          "name": "stdout",
          "output_type": "stream",
          "text": [
            "Sua nota foi: 10\n"
          ]
        }
      ],
      "source": [
        "resposta = []\n",
        "nota=0\n",
        "gabarito = ['D', 'A', 'C', 'B', 'A', 'D', 'C', 'C', 'A', 'B']\n",
        "\n",
        "for i in range(0,10):\n",
        "    resposta.append(input(f\"Insira sua resposta {i+1}: \").upper())\n",
        "\n",
        "for i in range(0,10):\n",
        "    if resposta[i] in gabarito[i]:\n",
        "        nota+=1\n",
        "\n",
        "print(\"Sua nota foi: %d\" %(nota))"
      ]
    },
    {
      "cell_type": "markdown",
      "metadata": {
        "id": "aSBMzh-AMgeF"
      },
      "source": [
        "#### Questão 10\n",
        "Um instituto de meteorologia deseja fazer um estudo de temperatura média de cada mês do ano. Para isso, você precisa fazer um código que colete e armazene essas temperaturas médias em uma lista. Depois, calcule a média anual das temperaturas e mostre todas as temperaturas acima da média anual, e em que mês elas ocorreram, mostrando os meses por extenso: Janeiro, Fevereiro, etc."
      ]
    },
    {
      "cell_type": "code",
      "execution_count": 10,
      "metadata": {
        "id": "ftj04s2uMgeF"
      },
      "outputs": [
        {
          "name": "stdout",
          "output_type": "stream",
          "text": [
            "Temperaturas acima da média anual no(s) mes(es):\n",
            "\n",
            "['Janeiro', 'Fevereiro', 'Março', 'Abril', 'Maio', 'Junho', 'Julho', 'Agosto', 'Setembro', 'Outubro', 'Novembro', 'Dezembro']\n"
          ]
        }
      ],
      "source": [
        "temp_media= []\n",
        "somaAnual =0\n",
        "mediaAnual=0\n",
        "\n",
        "meses = ['Janeiro', 'Fevereiro', 'Março', 'Abril', 'Maio', 'Junho', 'Julho', 'Agosto', 'Setembro', 'Outubro', 'Novembro', 'Dezembro']\n",
        "for i in range(0,12):\n",
        "    temp_media.append(float(input(f\"Digite a temperatura média do {i+1}º mês: \")))\n",
        "    somaAnual = sum(temp_media)\n",
        "print('Temperaturas acima da média anual no(s) mes(es):\\n')\n",
        "for i in range(0,12):\n",
        "    mediaAnual = somaAnual/len(temp_media)\n",
        "if temp_media[i] > mediaAnual:\n",
        "        print(f\"{meses}\")"
      ]
    },
    {
      "cell_type": "markdown",
      "metadata": {
        "id": "0X8S6s4jMgeF"
      },
      "source": [
        "#### Questão 11\n",
        "Uma empresa de e-commerce está interessada em analisar as vendas dos seus produtos. Os dados das vendas foram armazenados em um dicionário:\n",
        "```\n",
        "{'Produto A': 300, 'Produto B': 80, 'Produto C': 60,\n",
        " 'Produto D': 200, 'Produto E': 250, 'Produto F': 30}\n",
        "```\n",
        "Escreva um código que calcule o total de vendas e o produto mais vendido."
      ]
    },
    {
      "cell_type": "code",
      "execution_count": 19,
      "metadata": {
        "id": "Xa3DJLtFMgeF"
      },
      "outputs": [
        {
          "name": "stdout",
          "output_type": "stream",
          "text": [
            "O total de vendas foi: 920\n",
            "E o produto mais vendido foi Produto A\n"
          ]
        }
      ],
      "source": [
        "ATA_vendas = {\n",
        "            'Produto A': 300,\n",
        "            'Produto B': 80,\n",
        "            'Produto C': 60,\n",
        "            'Produto D': 200,\n",
        "            'Produto E': 250,\n",
        "            'Produto F': 30\n",
        "            }\n",
        "soma =0\n",
        "maisVendido='' # Irá armazenar o nome do produto mais vendido\n",
        "uniProdutoMaisVendido = 0 # Irá armazenar a maior quantidade vendas \n",
        "\n",
        "\n",
        "#i percorre os Produtos\n",
        "for i in ATA_vendas.keys():\n",
        "    soma += ATA_vendas[i]\n",
        "    # Cada vez que ATA_vendas[i] superar o valor em uniProdutoMaisVendido,\n",
        "# a variável uniProdutoMaisVendido vai ser igual à ATA_vendas[i], atribuindo um novo valor\n",
        "# De forma similar, maisVendido também é substituído pelo produto atual\n",
        "    if ATA_vendas[i] > uniProdutoMaisVendido:\n",
        "        uniProdutoMaisVendido = ATA_vendas[i]\n",
        "        maisVendido = i\n",
        "print(f\"O total de vendas foi: {soma}\\nE o produto mais vendido foi {maisVendido}\")\n",
        "    "
      ]
    },
    {
      "cell_type": "markdown",
      "metadata": {
        "id": "nrEwf_1ZMgeF"
      },
      "source": [
        "#### Questão 12\n",
        "Uma pesquisa de mercado foi feita para decidir qual design de uma marca infantil mais agrada crianças. A pesquisa foi feita e o votos computados podem ser observados abaixo:\n",
        "```\n",
        "'''\n",
        "Tabela de votos da marca\n",
        "Design 1 - 1334 votos\n",
        "Design 2 - 982 votos\n",
        "Design 3 - 1751 votos\n",
        "Design 4 - 210 votos\n",
        "Design 5 - 1811 votos\n",
        "'''\n",
        "```\n",
        "Adapte os dados fornecidos a você para uma estrutura de dicionário e a partir dele, informe o design vencedor e a porcentagem de votos recebidos.\n"
      ]
    },
    {
      "cell_type": "code",
      "execution_count": 27,
      "metadata": {
        "id": "MRPcGR-_MgeF"
      },
      "outputs": [
        {
          "name": "stdout",
          "output_type": "stream",
          "text": [
            "O design vencedor foi Design 5\n",
            "A porcentagem de votos do design vencedor foi: 29.75%\n"
          ]
        }
      ],
      "source": [
        "votos = {\n",
        "    'Design 1' : 1334,\n",
        "    'Design 2' : 982,\n",
        "    'Design 3' : 1751,\n",
        "    'Design 4' : 210,\n",
        "    'Design 5' : 1811\n",
        "}\n",
        "maisVotos=0\n",
        "vencedor = ''\n",
        "totalVotos=0\n",
        "for design, votosDesign in votos.items():\n",
        "    totalVotos += votosDesign\n",
        "    if votosDesign > maisVotos:\n",
        "        maisVotos = votosDesign\n",
        "        vencedor = design\n",
        "\n",
        "porcentagemVotos = 100 * ((maisVotos) / (totalVotos))\n",
        "print(f\"O design vencedor foi {vencedor}\")\n",
        "print('A porcentagem de votos do design vencedor foi: %.2f%%' %(porcentagemVotos))\n",
        "    "
      ]
    },
    {
      "cell_type": "markdown",
      "metadata": {
        "id": "HRTFFzKIMgeF"
      },
      "source": [
        "#### Questão 13\n",
        "Os funcionários de um setor da empresa que você trabalha vão receber um abono correspondente a 10% do seu salário devido ao ótimo desempenho do time. O setor financeiro solicitou sua ajuda para a verificação das consequências financeiras que esse abono irá gerar nos recursos. Assim, foi encaminhada para você uma lista com os salários que receberão o abono: `[1172, 1644, 2617, 5130, 5532, 6341, 6650, 7238, 7685, 7782, 7903]`. O abono de cada funcionário não pode ser inferior a 200. Em código, transforme cada um dos salários em chaves de um dicionário e o abono de cada salário no elemento. Depois, informe o total de gastos com o abono, quantos funcionários receberam o abono mínimo e qual o maior valor de abono fornecido.\n"
      ]
    },
    {
      "cell_type": "code",
      "execution_count": 55,
      "metadata": {
        "id": "QsDSCua42bLB"
      },
      "outputs": [
        {
          "name": "stdout",
          "output_type": "stream",
          "text": [
            "Abonos: {1172: 200, 1644: 200, 2617: 261.7, 5130: 513.0, 5532: 553.2, 6341: 634.1, 6650: 665.0, 7238: 723.8000000000001, 7685: 768.5, 7782: 778.2, 7903: 790.3000000000001}\n",
            "\n",
            "Total de gasto com abonos: R$5887.8\n",
            "Número de funcionários que receberam o abono mínimo: 2\n",
            "Maior valor de abono: R$790.30\n"
          ]
        }
      ],
      "source": [
        "salarioBeneficiado = [1172, 1644, 2617, 5130, 5532, 6341, 6650, 7238, 7685, 7782, 7903]\n",
        "abonoMínimo = 0 # Irá armazenar a quantidade de abonos mínimos\n",
        "dicioSalarioBeneficiado = {}\n",
        "total_abono = 0 # Irá somar todos os gastos com abono\n",
        "maior_abono = 0 # Irá armazenar o maior valor de abono\n",
        "\n",
        "for salario in salarioBeneficiado:\n",
        "    \n",
        "    abono = salario * 0.1\n",
        "    \n",
        "    if abono < 200:\n",
        "        abono = 200\n",
        "    \n",
        "    dicioSalarioBeneficiado[salario] = abono\n",
        "\n",
        "# Percorremos todos os valores do dicionário de abonos\n",
        "for abono in dicioSalarioBeneficiado.values():\n",
        "    if abono == 200:\n",
        "        abonoMínimo+=1\n",
        "        \n",
        "    if abono > maior_abono:\n",
        "        maior_abono = abono\n",
        "        total_abono += abono\n",
        "\n",
        "\n",
        "\n",
        "print(f'Abonos: {dicioSalarioBeneficiado}\\n')\n",
        "print(f'Total de gasto com abonos: R${total_abono}')\n",
        "print(f'Número de funcionários que receberam o abono mínimo: {abonoMínimo}')\n",
        "print('Maior valor de abono: R$%.2f' %(maior_abono))\n"
      ]
    },
    {
      "cell_type": "markdown",
      "metadata": {
        "id": "6dEXZEwjMlWy"
      },
      "source": [
        "#### Questão 14\n",
        "Uma equipe de cientistas de dados está estudando a diversidade biológica em uma floresta. A equipe fez a coleta de informações sobre o número de espécies de plantas e animais em cada área da floresta e armazenaram essas informações em um dicionário. Nele, a chave descreve a área dos dados e os valores nas listas correspondem às espécies de plantas e animais nas áreas, respectivamente.\n",
        "```\n",
        "{'Área Norte': [2819, 7236],\n",
        " 'Área Leste': [1440, 9492],\n",
        " 'Área Sul': [5969, 7496],\n",
        " 'Área Oeste': [14446, 49688],\n",
        " 'Área Centro': [22558, 45148]}\n",
        "```\n",
        "Escreva um código para calcular a média de espécies por área e identificar a área com a maior diversidade biológica. Dica: use as funções built-in [`sum()`](https://docs.python.org/3/library/functions.html#sum) e [`len()`](https://docs.python.org/3/library/functions.html#len).\n"
      ]
    },
    {
      "cell_type": "code",
      "execution_count": 63,
      "metadata": {
        "id": "eQnOUDfYMlWy"
      },
      "outputs": [
        {
          "name": "stdout",
          "output_type": "stream",
          "text": [
            "A área Área Norte tem uma média de 5027.50 espécies\n",
            "A área Área Leste tem uma média de 5466.00 espécies\n",
            "A área Área Sul tem uma média de 6732.50 espécies\n",
            "A área Área Oeste tem uma média de 32067.00 espécies\n",
            "A área Área Centro tem uma média de 33853.00 espécies\n",
            "\n",
            "\n",
            "A maior diversidade biológica é na área Área Centro\n"
          ]
        }
      ],
      "source": [
        "dados ={'Área Norte': [2819, 7236],\n",
        "'Área Leste': [1440, 9492],\n",
        "'Área Sul': [5969, 7496],\n",
        "'Área Oeste': [14446, 49688],\n",
        "'Área Centro': [22558, 45148]}\n",
        "\n",
        "soma_media = 0 # Irá somar todas as médias\n",
        "maior_diversidade = '' # Irá armazenar a área com maior diversidade\n",
        "maior_soma = 0 # Irá armazenar a maior soma de espécies\n",
        "\n",
        "for area, especie in dados.items():\n",
        "    somaEspecie = sum(especie)\n",
        "    media = (somaEspecie) / (len(especie))\n",
        "    print('A área %s tem uma média de %.2f espécies' %(area, media))\n",
        "    \n",
        "    if somaEspecie > maior_soma:\n",
        "        maior_soma = somaEspecie\n",
        "        maior_diversidade = area\n",
        "    \n",
        "    #somando as médias\n",
        "    #soma_media += media\n",
        "    #media_geral = soma_media / len(dados)\n",
        "    \n",
        "#print(media_geral)\n",
        "print('\\n\\nA maior diversidade biológica é na área %s' %(maior_diversidade))"
      ]
    },
    {
      "cell_type": "markdown",
      "metadata": {
        "id": "r0RW2Sy_MlWy"
      },
      "source": [
        "#### Questão 15\n",
        "O setor de RH da sua empresa te pediu uma ajuda para analisar as idades dos funcionários de 4 setores da empresa. Para isso, ele te forneceu os seguintes dados:\n",
        "```\n",
        "{'Setor A': [22, 26, 30, 30, 35, 38, 40, 56, 57, 65],\n",
        " 'Setor B': [22, 24, 26, 33, 41, 49, 50, 54, 60, 64],\n",
        " 'Setor C': [23, 26, 26, 29, 34, 35, 36, 41, 52, 56],\n",
        " 'Setor D': [19, 20, 25, 27, 34, 39, 42, 44, 50, 65]}\n",
        "```\n",
        "Sabendo que cada setor tem 10 funcionários, construa um código que calcule a média de idade de cada setor, a idade média geral entre todos os setores e quantas pessoas estão acima da idade média geral.\n"
      ]
    },
    {
      "cell_type": "code",
      "execution_count": 7,
      "metadata": {
        "id": "wCiwyKP3MmTz"
      },
      "outputs": [
        {
          "name": "stdout",
          "output_type": "stream",
          "text": [
            "A média de idade do Setor Setor A é de 39.90 anos\n",
            "A média de idade do Setor Setor B é de 42.30 anos\n",
            "A média de idade do Setor Setor C é de 35.80 anos\n",
            "A média de idade do Setor Setor D é de 36.50 anos\n",
            "A média geral de idades é: 38.62\n",
            "A quantidade de pessoas que estão acima da média geral é de 18\n"
          ]
        }
      ],
      "source": [
        "dados = {'Setor A': [22, 26, 30, 30, 35, 38, 40, 56, 57, 65],\n",
        "'Setor B': [22, 24, 26, 33, 41, 49, 50, 54, 60, 64],\n",
        "'Setor C': [23, 26, 26, 29, 34, 35, 36, 41, 52, 56],\n",
        "'Setor D': [19, 20, 25, 27, 34, 39, 42, 44, 50, 65]}\n",
        "\n",
        "mediaGeral=0\n",
        "mediaPSetor=0\n",
        "acimaMediaGeral=0\n",
        "somaMedia=0\n",
        "\n",
        "for setor, idade in dados.items():\n",
        "    mediaPSetor = sum(idade)/len(idade)\n",
        "    print(\"A média de idade do Setor %s é de %.2f anos\" %(setor, mediaPSetor))\n",
        "    somaMedia += sum(idade)\n",
        "    \n",
        "mediaGeral = somaMedia / (len(idade) * len(dados))\n",
        "print('A média geral de idades é: %.2f'%(mediaGeral))\n",
        "\n",
        "for setor, idade in dados.items():\n",
        "    for id in idade:\n",
        "        if id > mediaGeral:\n",
        "            acimaMediaGeral+=1\n",
        "            \n",
        "print('A quantidade de pessoas que estão acima da média geral é de %d' %(acimaMediaGeral))"
      ]
    }
  ],
  "metadata": {
    "colab": {
      "provenance": [],
      "toc_visible": true
    },
    "kernelspec": {
      "display_name": "Python 3",
      "name": "python3"
    },
    "language_info": {
      "codemirror_mode": {
        "name": "ipython",
        "version": 3
      },
      "file_extension": ".py",
      "mimetype": "text/x-python",
      "name": "python",
      "nbconvert_exporter": "python",
      "pygments_lexer": "ipython3",
      "version": "3.9.16"
    }
  },
  "nbformat": 4,
  "nbformat_minor": 0
}
